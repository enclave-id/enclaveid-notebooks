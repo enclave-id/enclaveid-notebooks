{
 "cells": [
  {
   "cell_type": "code",
   "execution_count": 75,
   "metadata": {},
   "outputs": [],
   "source": [
    "from qdrant_client.http import models as rest\n",
    "import pandas as pd"
   ]
  },
  {
   "cell_type": "code",
   "execution_count": 76,
   "metadata": {},
   "outputs": [],
   "source": [
    "activity_df = pd.read_json('raw_data/MyActivity.json')"
   ]
  },
  {
   "cell_type": "code",
   "execution_count": 77,
   "metadata": {},
   "outputs": [],
   "source": [
    "# Remove rows containing \"Visited\" and \"Viewed\" in the title\n",
    "activity_df = activity_df[~activity_df['title'].str.contains('Visited')]\n",
    "activity_df = activity_df[~activity_df['title'].str.contains('Viewed')]\n",
    "\n",
    "# Remove \"Searched for \" in the title\n",
    "activity_df['title'] = activity_df['title'].str.replace('Searched for ', '')\n",
    "activity_df = activity_df.sort_values(by='time')\n",
    "activity_df.reset_index(inplace=True, drop=True)\n",
    "\n",
    "activity_df.to_csv('raw_data/activity.csv')"
   ]
  },
  {
   "cell_type": "code",
   "execution_count": 78,
   "metadata": {},
   "outputs": [],
   "source": [
    "df = pd.read_csv('raw_data/embeddings.csv')"
   ]
  },
  {
   "cell_type": "code",
   "execution_count": 79,
   "metadata": {},
   "outputs": [],
   "source": [
    "from qdrant_client import QdrantClient\n",
    "\n",
    "client = QdrantClient(\n",
    "    url=\"https://fee969cc-0326-4cf7-85dc-9d710984e8dd.us-east4-0.gcp.cloud.qdrant.io\", \n",
    "    api_key=\"IWftJu7oEPz24XSqNfhLhwGt7urtvDpmDauP0NUXT79xV_xUpvIHdA\",\n",
    ")"
   ]
  },
  {
   "cell_type": "code",
   "execution_count": 80,
   "metadata": {},
   "outputs": [
    {
     "data": {
      "text/plain": [
       "True"
      ]
     },
     "execution_count": 80,
     "metadata": {},
     "output_type": "execute_result"
    }
   ],
   "source": [
    "# Create collection\n",
    "vector_size = 1024\n",
    "client.recreate_collection(\n",
    "    collection_name=\"Searches\",\n",
    "    vectors_config={\n",
    "        \"search\": rest.VectorParams(\n",
    "            distance=rest.Distance.COSINE,\n",
    "            size=vector_size,\n",
    "        ),\n",
    "    }\n",
    ")"
   ]
  },
  {
   "cell_type": "code",
   "execution_count": 81,
   "metadata": {},
   "outputs": [],
   "source": [
    "# Store all the vectors\n",
    "\n",
    "def upsert_vectors(df):\n",
    "    points = [\n",
    "        rest.PointStruct(\n",
    "            id=k,\n",
    "            payload={\n",
    "                \"search_string\": activity_df['title'][k]\n",
    "            },\n",
    "            vector={\n",
    "                \"search\": v.values.tolist(),\n",
    "            },\n",
    "        ) for k, v in df.iterrows()\n",
    "    ]\n",
    "    \n",
    "    client.upsert(\n",
    "        collection_name=\"Searches\",\n",
    "        points=points\n",
    "    )"
   ]
  },
  {
   "cell_type": "code",
   "execution_count": 82,
   "metadata": {},
   "outputs": [
    {
     "name": "stderr",
     "output_type": "stream",
     "text": [
      "  0%|          | 0/688 [00:00<?, ?it/s]"
     ]
    },
    {
     "name": "stderr",
     "output_type": "stream",
     "text": [
      "100%|██████████| 688/688 [12:56<00:00,  1.13s/it]\n"
     ]
    }
   ],
   "source": [
    "# Slice the df in chunks of 1000 rows and call upsert_vectors for each chunk \n",
    "from math import ceil\n",
    "\n",
    "from tqdm import tqdm\n",
    "\n",
    "chunk = 100\n",
    "for i in tqdm(range(0, ceil(len(df)/chunk))):\n",
    "    upsert_vectors(df.iloc[i*chunk:min((i+1)*chunk, len(df))])"
   ]
  },
  {
   "cell_type": "code",
   "execution_count": 83,
   "metadata": {},
   "outputs": [
    {
     "data": {
      "text/plain": [
       "CountResult(count=68763)"
      ]
     },
     "execution_count": 83,
     "metadata": {},
     "output_type": "execute_result"
    }
   ],
   "source": [
    "# Check the collection size to make sure all the points have been stored\n",
    "client.count(collection_name=\"Searches\")"
   ]
  }
 ],
 "metadata": {
  "kernelspec": {
   "display_name": "Python 3",
   "language": "python",
   "name": "python3"
  },
  "language_info": {
   "codemirror_mode": {
    "name": "ipython",
    "version": 3
   },
   "file_extension": ".py",
   "mimetype": "text/x-python",
   "name": "python",
   "nbconvert_exporter": "python",
   "pygments_lexer": "ipython3",
   "version": "3.11.6"
  },
  "orig_nbformat": 4
 },
 "nbformat": 4,
 "nbformat_minor": 2
}
