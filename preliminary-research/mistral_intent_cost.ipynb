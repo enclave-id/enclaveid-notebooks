{
  "cells": [
    {
      "cell_type": "code",
      "execution_count": null,
      "metadata": {
        "colab": {
          "base_uri": "https://localhost:8080/"
        },
        "id": "7HvtRni6sDpg",
        "outputId": "6f746f60-658f-49b2-c941-787ab0a19aad"
      },
      "outputs": [],
      "source": [
        "%pip install huggingface_hub transformers"
      ]
    },
    {
      "cell_type": "code",
      "execution_count": null,
      "metadata": {
        "id": "JuqLVDZgsDph"
      },
      "outputs": [],
      "source": [
        "from huggingface_hub import AsyncInferenceClient\n",
        "from transformers import LlamaTokenizerFast\n",
        "\n",
        "BATCH_SIZE = 512\n",
        "MODEL_ID = \"mistralai/Mistral-7B-Instruct-v0.1\"\n",
        "\n",
        "client = AsyncInferenceClient(model=\"http://64.156.70.185:18683\", timeout=120)\n",
        "tokenizer = LlamaTokenizerFast.from_pretrained(MODEL_ID)\n"
      ]
    },
    {
      "cell_type": "code",
      "execution_count": null,
      "metadata": {
        "id": "MCBbwJAWsDph"
      },
      "outputs": [],
      "source": [
        "get_prompt = (\n",
        "    lambda search_string: f'Here is a recent Google search: \"{search_string}\". What could the user be referring to with this query? What seems to be their intent?'\n",
        ")\n",
        "get_templated_prompt = lambda search_string: tokenizer.apply_chat_template(\n",
        "    [{\"role\": \"user\", \"content\": get_prompt(search_string)}],\n",
        "    tokenize=False,\n",
        "    add_generation_prompt=True,\n",
        ")"
      ]
    },
    {
      "cell_type": "code",
      "execution_count": null,
      "metadata": {
        "colab": {
          "base_uri": "https://localhost:8080/"
        },
        "id": "FjvDVS1QsJNs",
        "outputId": "55f7bbb3-5530-4d64-9458-e5783d61c0b2"
      },
      "outputs": [],
      "source": [
        "from google.colab import drive\n",
        "drive.mount('/content/drive')"
      ]
    },
    {
      "cell_type": "code",
      "execution_count": null,
      "metadata": {
        "id": "zSa9hsscsDpi"
      },
      "outputs": [],
      "source": [
        "import pandas as pd\n",
        "df = pd.read_json(\"/content/drive/MyDrive/Colab Notebooks/data/MyActivity.json\")\n",
        "\n",
        "df = df[~df['title'].str.contains('Visited')]\n",
        "df = df[~df['title'].str.contains('Viewed')]\n",
        "df = df[~df['title'].str.contains('Defined')]\n",
        "df = df[~df['title'].str.contains('Used')]\n",
        "df['title'] = df['title'].str.replace('^Searched for ', '', regex=True)\n",
        "\n",
        "df['title'] = df['title'].str.lower()\n",
        "df.drop_duplicates(subset='title', keep='first', inplace=True)\n",
        "\n",
        "df['time'] = pd.to_datetime(df['time'])\n",
        "df = df.sort_values(by='time')\n"
      ]
    },
    {
      "cell_type": "code",
      "execution_count": null,
      "metadata": {
        "id": "_r0Z2s8DsDpi"
      },
      "outputs": [],
      "source": [
        "from tqdm.asyncio import tqdm\n",
        "from asyncio import Semaphore\n",
        "\n",
        "semaphore = Semaphore(BATCH_SIZE)"
      ]
    },
    {
      "cell_type": "code",
      "execution_count": null,
      "metadata": {
        "id": "w9St0h2fsDpi"
      },
      "outputs": [],
      "source": [
        "async def generate(prompt):\n",
        "    await semaphore.acquire()\n",
        "    try:\n",
        "        return await client.text_generation(\n",
        "            prompt,\n",
        "            temperature=0.1,\n",
        "            top_p=0.95,\n",
        "            repetition_penalty=1.2,\n",
        "            top_k=50,\n",
        "            max_new_tokens=1024,\n",
        "        )\n",
        "    except Exception as e:\n",
        "        print(e)\n",
        "        return \"ERROR\"\n",
        "    finally:\n",
        "        semaphore.release()"
      ]
    },
    {
      "cell_type": "code",
      "execution_count": null,
      "metadata": {
        "id": "05iLDsCDsDpj"
      },
      "outputs": [],
      "source": [
        "prompts = list(map(get_templated_prompt, df[\"title\"].values))\n",
        "\n",
        "tasks = list(map(generate, prompts))"
      ]
    },
    {
      "cell_type": "code",
      "execution_count": null,
      "metadata": {
        "colab": {
          "base_uri": "https://localhost:8080/"
        },
        "id": "ooUTbuGosDpj",
        "outputId": "fa848054-2601-4c85-85c9-b313bc7310bb"
      },
      "outputs": [],
      "source": [
        "outputs = []\n",
        "for result in await tqdm.gather(*tasks, total=len(tasks), smoothing=0):\n",
        "    outputs.append(result)\n",
        "\n",
        "df[\"intent\"] = outputs"
      ]
    },
    {
      "cell_type": "code",
      "execution_count": null,
      "metadata": {
        "id": "h1aQ4qwXsDpk"
      },
      "outputs": [],
      "source": [
        "df.to_csv(\"/content/drive/MyDrive/Colab Notebooks/data/intent.csv\", columns=[\"title\", \"time\", \"intent\"])"
      ]
    },
    {
      "cell_type": "code",
      "execution_count": null,
      "metadata": {},
      "outputs": [],
      "source": [
        "df_size = 59235\n",
        "average_output_tokens = 512\n",
        "runpod_h100_hourly_cost = 4.69\n",
        "running_time_hrs = 0.42 # 25:26"
      ]
    },
    {
      "cell_type": "code",
      "execution_count": null,
      "metadata": {
        "id": "E1FOtoKSyvSD"
      },
      "outputs": [],
      "source": [
        "pp_k_tokens = 1000* runpod_h100_hourly_cost * running_time_hrs / (df_size * average_output_tokens)\n",
        "pp_k_tokens"
      ]
    },
    {
      "cell_type": "code",
      "execution_count": null,
      "metadata": {},
      "outputs": [],
      "source": [
        "gtp3_pp_k_tokens = 0.0020\n",
        "gtp3_pp_k_tokens / pp_k_tokens # 30x cheaper!"
      ]
    }
  ],
  "metadata": {
    "colab": {
      "provenance": []
    },
    "kernelspec": {
      "display_name": "Python 3",
      "language": "python",
      "name": "python3"
    },
    "language_info": {
      "codemirror_mode": {
        "name": "ipython",
        "version": 3
      },
      "file_extension": ".py",
      "mimetype": "text/x-python",
      "name": "python",
      "nbconvert_exporter": "python",
      "pygments_lexer": "ipython3",
      "version": "3.11.6"
    }
  },
  "nbformat": 4,
  "nbformat_minor": 0
}
