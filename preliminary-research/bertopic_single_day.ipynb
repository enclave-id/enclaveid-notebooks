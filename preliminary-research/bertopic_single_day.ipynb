{
 "cells": [
  {
   "cell_type": "code",
   "execution_count": null,
   "metadata": {},
   "outputs": [],
   "source": [
    "import pandas as pd\n",
    "df = pd.read_json(\"data/MyActivity.json\")\n",
    "\n",
    "df = df[~df['title'].str.contains('Visited')]\n",
    "df = df[~df['title'].str.contains('Viewed')]\n",
    "df = df[~df['title'].str.contains('Defined')]\n",
    "df = df[~df['title'].str.contains('Used')]\n",
    "df['title'] = df['title'].str.replace('^Searched for ', '', regex=True)\n",
    "\n",
    "df['title'] = df['title'].str.lower()\n",
    "df.drop_duplicates(subset='title', keep='first', inplace=True)\n",
    "\n",
    "df['time'] = pd.to_datetime(df['time'], format='mixed')\n",
    "df = df.sort_values(by='time')"
   ]
  },
  {
   "cell_type": "code",
   "execution_count": null,
   "metadata": {},
   "outputs": [],
   "source": [
    "import numpy as np\n",
    "embeddings = np.load('data/embeddings.npy')"
   ]
  },
  {
   "cell_type": "code",
   "execution_count": null,
   "metadata": {},
   "outputs": [],
   "source": [
    "df['embeddings'] = list(embeddings)"
   ]
  },
  {
   "cell_type": "code",
   "execution_count": null,
   "metadata": {},
   "outputs": [],
   "source": [
    "daily_df = df.loc[df['time'].dt.date == pd.to_datetime('2020-09-04').date()]"
   ]
  },
  {
   "cell_type": "code",
   "execution_count": null,
   "metadata": {},
   "outputs": [],
   "source": [
    "docs = daily_df['title'].tolist()\n",
    "embeddings = np.array(daily_df['embeddings'].tolist())"
   ]
  },
  {
   "cell_type": "code",
   "execution_count": null,
   "metadata": {},
   "outputs": [],
   "source": [
    "from umap import UMAP\n",
    "from hdbscan import HDBSCAN\n",
    "\n",
    "umap_model = UMAP(n_components=10, random_state=42, metric=\"cosine\", verbose=True)\n",
    "hdbscan_model = HDBSCAN(min_samples=3, gen_min_span_tree=True, prediction_data=False, min_cluster_size=2)\n"
   ]
  },
  {
   "cell_type": "code",
   "execution_count": null,
   "metadata": {},
   "outputs": [],
   "source": [
    "umap_embeddings = umap_model.fit_transform(embeddings)\n",
    "clusters = hdbscan_model.fit_predict(umap_embeddings)"
   ]
  },
  {
   "cell_type": "code",
   "execution_count": null,
   "metadata": {},
   "outputs": [],
   "source": [
    "daily_df['cluster'] = clusters"
   ]
  },
  {
   "cell_type": "code",
   "execution_count": null,
   "metadata": {},
   "outputs": [],
   "source": [
    "import plotly.express as px\n",
    "\n",
    "umap_3d = UMAP(n_components=3, init=\"random\", random_state=0)\n",
    "proj_3d = umap_3d.fit_transform(embeddings)\n",
    "fig_3d = px.scatter_3d(\n",
    "    proj_3d,\n",
    "    x=0,\n",
    "    y=1,\n",
    "    z=2,\n",
    "    color=daily_df[\"cluster\"].astype(str),\n",
    ")\n",
    "fig_3d.update_traces(marker_size=5)\n",
    "fig_3d.show()"
   ]
  }
 ],
 "metadata": {
  "kernelspec": {
   "display_name": ".venv",
   "language": "python",
   "name": "python3"
  },
  "language_info": {
   "codemirror_mode": {
    "name": "ipython",
    "version": 3
   },
   "file_extension": ".py",
   "mimetype": "text/x-python",
   "name": "python",
   "nbconvert_exporter": "python",
   "pygments_lexer": "ipython3",
   "version": "3.11.6"
  }
 },
 "nbformat": 4,
 "nbformat_minor": 2
}
