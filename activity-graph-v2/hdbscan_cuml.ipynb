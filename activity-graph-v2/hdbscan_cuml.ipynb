{
 "cells": [
  {
   "cell_type": "code",
   "execution_count": 1,
   "id": "ee6bad52-6893-44b8-8af8-ca5f8b351aa5",
   "metadata": {},
   "outputs": [
    {
     "name": "stdout",
     "output_type": "stream",
     "text": [
      "Looking in indexes: https://pypi.org/simple, https://pypi.nvidia.com\n",
      "Requirement already satisfied: cudf-cu11==24.2.* in /usr/local/lib/python3.10/dist-packages (24.2.1)\n",
      "Requirement already satisfied: dask-cudf-cu11==24.2.* in /usr/local/lib/python3.10/dist-packages (24.2.1)\n",
      "Requirement already satisfied: cuml-cu11==24.2.* in /usr/local/lib/python3.10/dist-packages (24.2.0)\n",
      "Requirement already satisfied: hdbscan in /usr/local/lib/python3.10/dist-packages (0.8.33)\n",
      "Requirement already satisfied: pandas in /usr/local/lib/python3.10/dist-packages (1.5.3)\n",
      "Requirement already satisfied: numpy in /usr/local/lib/python3.10/dist-packages (1.24.1)\n",
      "Collecting tqdm\n",
      "  Downloading tqdm-4.66.2-py3-none-any.whl.metadata (57 kB)\n",
      "\u001b[2K     \u001b[90m━━━━━━━━━━━━━━━━━━━━━━━━━━━━━━━━━━━━━━━━\u001b[0m \u001b[32m57.6/57.6 kB\u001b[0m \u001b[31m2.1 MB/s\u001b[0m eta \u001b[36m0:00:00\u001b[0m\n",
      "\u001b[?25hRequirement already satisfied: cachetools in /usr/local/lib/python3.10/dist-packages (from cudf-cu11==24.2.*) (5.3.2)\n",
      "Requirement already satisfied: cubinlinker-cu11 in /usr/local/lib/python3.10/dist-packages (from cudf-cu11==24.2.*) (0.3.0.post1)\n",
      "Requirement already satisfied: cuda-python<12.0a0,>=11.7.1 in /usr/local/lib/python3.10/dist-packages (from cudf-cu11==24.2.*) (11.8.3)\n",
      "Requirement already satisfied: cupy-cuda11x>=12.0.0 in /usr/local/lib/python3.10/dist-packages (from cudf-cu11==24.2.*) (13.0.0)\n",
      "Requirement already satisfied: fsspec>=0.6.0 in /usr/local/lib/python3.10/dist-packages (from cudf-cu11==24.2.*) (2023.4.0)\n",
      "Requirement already satisfied: numba>=0.57 in /usr/local/lib/python3.10/dist-packages (from cudf-cu11==24.2.*) (0.59.0)\n",
      "Requirement already satisfied: nvtx>=0.2.1 in /usr/local/lib/python3.10/dist-packages (from cudf-cu11==24.2.*) (0.2.10)\n",
      "Requirement already satisfied: packaging in /usr/local/lib/python3.10/dist-packages (from cudf-cu11==24.2.*) (23.2)\n",
      "Requirement already satisfied: protobuf<5,>=4.21 in /usr/local/lib/python3.10/dist-packages (from cudf-cu11==24.2.*) (4.25.3)\n",
      "Requirement already satisfied: ptxcompiler-cu11 in /usr/local/lib/python3.10/dist-packages (from cudf-cu11==24.2.*) (0.7.0.post1)\n",
      "Requirement already satisfied: pyarrow<15.0.0a0,>=14.0.1 in /usr/local/lib/python3.10/dist-packages (from cudf-cu11==24.2.*) (14.0.2)\n",
      "Requirement already satisfied: rich in /usr/local/lib/python3.10/dist-packages (from cudf-cu11==24.2.*) (13.7.0)\n",
      "Requirement already satisfied: rmm-cu11==24.2.* in /usr/local/lib/python3.10/dist-packages (from cudf-cu11==24.2.*) (24.2.0)\n",
      "Requirement already satisfied: typing_extensions>=4.0.0 in /usr/local/lib/python3.10/dist-packages (from cudf-cu11==24.2.*) (4.4.0)\n",
      "Requirement already satisfied: rapids-dask-dependency==24.2.* in /usr/local/lib/python3.10/dist-packages (from dask-cudf-cu11==24.2.*) (24.2.0)\n",
      "Requirement already satisfied: dask-cuda==24.2.* in /usr/local/lib/python3.10/dist-packages (from cuml-cu11==24.2.*) (24.2.0)\n",
      "Requirement already satisfied: joblib>=0.11 in /usr/local/lib/python3.10/dist-packages (from cuml-cu11==24.2.*) (1.3.2)\n",
      "Requirement already satisfied: pylibraft-cu11==24.2.* in /usr/local/lib/python3.10/dist-packages (from cuml-cu11==24.2.*) (24.2.0)\n",
      "Requirement already satisfied: raft-dask-cu11==24.2.* in /usr/local/lib/python3.10/dist-packages (from cuml-cu11==24.2.*) (24.2.0)\n",
      "Requirement already satisfied: scipy>=1.8.0 in /usr/local/lib/python3.10/dist-packages (from cuml-cu11==24.2.*) (1.12.0)\n",
      "Requirement already satisfied: treelite==4.0.0 in /usr/local/lib/python3.10/dist-packages (from cuml-cu11==24.2.*) (4.0.0)\n",
      "Requirement already satisfied: click>=8.1 in /usr/local/lib/python3.10/dist-packages (from dask-cuda==24.2.*->cuml-cu11==24.2.*) (8.1.7)\n",
      "Requirement already satisfied: pynvml<11.5,>=11.0.0 in /usr/local/lib/python3.10/dist-packages (from dask-cuda==24.2.*->cuml-cu11==24.2.*) (11.4.1)\n",
      "Requirement already satisfied: zict>=2.0.0 in /usr/local/lib/python3.10/dist-packages (from dask-cuda==24.2.*->cuml-cu11==24.2.*) (3.0.0)\n",
      "Requirement already satisfied: ucx-py-cu11==0.36.* in /usr/local/lib/python3.10/dist-packages (from raft-dask-cu11==24.2.*->cuml-cu11==24.2.*) (0.36.0)\n",
      "Requirement already satisfied: dask==2024.1.1 in /usr/local/lib/python3.10/dist-packages (from rapids-dask-dependency==24.2.*->dask-cudf-cu11==24.2.*) (2024.1.1)\n",
      "Requirement already satisfied: distributed==2024.1.1 in /usr/local/lib/python3.10/dist-packages (from rapids-dask-dependency==24.2.*->dask-cudf-cu11==24.2.*) (2024.1.1)\n",
      "Requirement already satisfied: cloudpickle>=1.5.0 in /usr/local/lib/python3.10/dist-packages (from dask==2024.1.1->rapids-dask-dependency==24.2.*->dask-cudf-cu11==24.2.*) (3.0.0)\n",
      "Requirement already satisfied: partd>=1.2.0 in /usr/local/lib/python3.10/dist-packages (from dask==2024.1.1->rapids-dask-dependency==24.2.*->dask-cudf-cu11==24.2.*) (1.4.1)\n",
      "Requirement already satisfied: pyyaml>=5.3.1 in /usr/local/lib/python3.10/dist-packages (from dask==2024.1.1->rapids-dask-dependency==24.2.*->dask-cudf-cu11==24.2.*) (6.0.1)\n",
      "Requirement already satisfied: toolz>=0.10.0 in /usr/local/lib/python3.10/dist-packages (from dask==2024.1.1->rapids-dask-dependency==24.2.*->dask-cudf-cu11==24.2.*) (0.12.1)\n",
      "Requirement already satisfied: importlib-metadata>=4.13.0 in /usr/local/lib/python3.10/dist-packages (from dask==2024.1.1->rapids-dask-dependency==24.2.*->dask-cudf-cu11==24.2.*) (7.0.1)\n",
      "Requirement already satisfied: jinja2>=2.10.3 in /usr/local/lib/python3.10/dist-packages (from distributed==2024.1.1->rapids-dask-dependency==24.2.*->dask-cudf-cu11==24.2.*) (3.1.2)\n",
      "Requirement already satisfied: locket>=1.0.0 in /usr/local/lib/python3.10/dist-packages (from distributed==2024.1.1->rapids-dask-dependency==24.2.*->dask-cudf-cu11==24.2.*) (1.0.0)\n",
      "Requirement already satisfied: msgpack>=1.0.0 in /usr/local/lib/python3.10/dist-packages (from distributed==2024.1.1->rapids-dask-dependency==24.2.*->dask-cudf-cu11==24.2.*) (1.0.7)\n",
      "Requirement already satisfied: psutil>=5.7.2 in /usr/local/lib/python3.10/dist-packages (from distributed==2024.1.1->rapids-dask-dependency==24.2.*->dask-cudf-cu11==24.2.*) (5.9.6)\n",
      "Requirement already satisfied: sortedcontainers>=2.0.5 in /usr/local/lib/python3.10/dist-packages (from distributed==2024.1.1->rapids-dask-dependency==24.2.*->dask-cudf-cu11==24.2.*) (2.4.0)\n",
      "Requirement already satisfied: tblib>=1.6.0 in /usr/local/lib/python3.10/dist-packages (from distributed==2024.1.1->rapids-dask-dependency==24.2.*->dask-cudf-cu11==24.2.*) (3.0.0)\n",
      "Requirement already satisfied: tornado>=6.0.4 in /usr/local/lib/python3.10/dist-packages (from distributed==2024.1.1->rapids-dask-dependency==24.2.*->dask-cudf-cu11==24.2.*) (6.3.3)\n",
      "Requirement already satisfied: urllib3>=1.24.3 in /usr/local/lib/python3.10/dist-packages (from distributed==2024.1.1->rapids-dask-dependency==24.2.*->dask-cudf-cu11==24.2.*) (1.26.13)\n",
      "Requirement already satisfied: cython<3,>=0.27 in /usr/local/lib/python3.10/dist-packages (from hdbscan) (0.29.37)\n",
      "Requirement already satisfied: scikit-learn>=0.20 in /usr/local/lib/python3.10/dist-packages (from hdbscan) (1.4.1.post1)\n",
      "Requirement already satisfied: python-dateutil>=2.8.1 in /usr/local/lib/python3.10/dist-packages (from pandas) (2.8.2)\n",
      "Requirement already satisfied: pytz>=2020.1 in /usr/local/lib/python3.10/dist-packages (from pandas) (2024.1)\n",
      "Requirement already satisfied: fastrlock>=0.5 in /usr/local/lib/python3.10/dist-packages (from cupy-cuda11x>=12.0.0->cudf-cu11==24.2.*) (0.8.2)\n",
      "Requirement already satisfied: llvmlite<0.43,>=0.42.0dev0 in /usr/local/lib/python3.10/dist-packages (from numba>=0.57->cudf-cu11==24.2.*) (0.42.0)\n",
      "Requirement already satisfied: six>=1.5 in /usr/lib/python3/dist-packages (from python-dateutil>=2.8.1->pandas) (1.16.0)\n",
      "Requirement already satisfied: threadpoolctl>=2.0.0 in /usr/local/lib/python3.10/dist-packages (from scikit-learn>=0.20->hdbscan) (3.3.0)\n",
      "Requirement already satisfied: markdown-it-py>=2.2.0 in /usr/local/lib/python3.10/dist-packages (from rich->cudf-cu11==24.2.*) (3.0.0)\n",
      "Requirement already satisfied: pygments<3.0.0,>=2.13.0 in /usr/local/lib/python3.10/dist-packages (from rich->cudf-cu11==24.2.*) (2.16.1)\n",
      "Requirement already satisfied: mdurl~=0.1 in /usr/local/lib/python3.10/dist-packages (from markdown-it-py>=2.2.0->rich->cudf-cu11==24.2.*) (0.1.2)\n",
      "Requirement already satisfied: zipp>=0.5 in /usr/lib/python3/dist-packages (from importlib-metadata>=4.13.0->dask==2024.1.1->rapids-dask-dependency==24.2.*->dask-cudf-cu11==24.2.*) (1.0.0)\n",
      "Requirement already satisfied: MarkupSafe>=2.0 in /usr/local/lib/python3.10/dist-packages (from jinja2>=2.10.3->distributed==2024.1.1->rapids-dask-dependency==24.2.*->dask-cudf-cu11==24.2.*) (2.1.2)\n",
      "Downloading tqdm-4.66.2-py3-none-any.whl (78 kB)\n",
      "\u001b[2K   \u001b[90m━━━━━━━━━━━━━━━━━━━━━━━━━━━━━━━━━━━━━━━━\u001b[0m \u001b[32m78.3/78.3 kB\u001b[0m \u001b[31m5.7 MB/s\u001b[0m eta \u001b[36m0:00:00\u001b[0m\n",
      "\u001b[?25hInstalling collected packages: tqdm\n",
      "Successfully installed tqdm-4.66.2\n",
      "\u001b[33mWARNING: Running pip as the 'root' user can result in broken permissions and conflicting behaviour with the system package manager. It is recommended to use a virtual environment instead: https://pip.pypa.io/warnings/venv\u001b[0m\u001b[33m\n",
      "\u001b[0m\n",
      "\u001b[1m[\u001b[0m\u001b[34;49mnotice\u001b[0m\u001b[1;39;49m]\u001b[0m\u001b[39;49m A new release of pip is available: \u001b[0m\u001b[31;49m23.3.1\u001b[0m\u001b[39;49m -> \u001b[0m\u001b[32;49m24.0\u001b[0m\n",
      "\u001b[1m[\u001b[0m\u001b[34;49mnotice\u001b[0m\u001b[1;39;49m]\u001b[0m\u001b[39;49m To update, run: \u001b[0m\u001b[32;49mpython -m pip install --upgrade pip\u001b[0m\n",
      "Note: you may need to restart the kernel to use updated packages.\n"
     ]
    }
   ],
   "source": [
    "%pip install \\\n",
    "    --extra-index-url=https://pypi.nvidia.com \\\n",
    "    cudf-cu11==24.2.* dask-cudf-cu11==24.2.* cuml-cu11==24.2.* hdbscan pandas numpy tqdm seaborn matplotlib"
   ]
  },
  {
   "cell_type": "code",
   "execution_count": 43,
   "id": "84a190e7-0b0a-48ee-8a3f-cdd6fcf3d0e1",
   "metadata": {},
   "outputs": [],
   "source": [
    "import os\n",
    "import re\n",
    "from datetime import datetime\n",
    "\n",
    "PROVIDERS = {\n",
    "    \"google\": {\n",
    "        \"raw\": \"Takeout/My Activity/Search\",\n",
    "        \"parsed\": \"google/search_history\",\n",
    "        \"summary\": \"google/search_history_summary\",\n",
    "        \"context\": \"\",\n",
    "        \"interests\": \"\"\n",
    "    }\n",
    "}\n",
    "\n",
    "\n",
    "def get_filenames(\n",
    "    kind=\"parsed\", start_date=None, end_date=None, provider=\"google\"\n",
    "):\n",
    "    directory = os.path.join(kind, PROVIDERS[provider][kind])\n",
    "    if start_date is not None:\n",
    "        start_date = datetime.strptime(start_date, \"%Y-%m-%d\")\n",
    "    if end_date is not None:\n",
    "        end_date = datetime.strptime(end_date, \"%Y-%m-%d\")\n",
    "    file_pattern = r\"^(\\d{4}-\\d{2}-\\d{2})\\.(csv|json)$\"\n",
    "\n",
    "    def is_date_in_range(file_date):\n",
    "        if start_date is None and end_date is None:\n",
    "            return True\n",
    "        else:\n",
    "            return start_date <= datetime.strptime(file_date, \"%Y-%m-%d\") <= end_date\n",
    "\n",
    "    filenames = []\n",
    "    for root, dirs, files in os.walk(directory):\n",
    "        for file in files:\n",
    "            match = re.match(file_pattern, file)\n",
    "            if match:\n",
    "                file_date = match.groups()[0]\n",
    "                if is_date_in_range(file_date):\n",
    "                    filenames.append(os.path.join(root, file))\n",
    "\n",
    "    return filenames"
   ]
  },
  {
   "cell_type": "code",
   "execution_count": 44,
   "id": "7d97eb31-42cf-4432-96c1-9c068424b56a",
   "metadata": {},
   "outputs": [
    {
     "data": {
      "application/vnd.jupyter.widget-view+json": {
       "model_id": "0c684d7156fc4e71849386754483c10b",
       "version_major": 2,
       "version_minor": 0
      },
      "text/plain": [
       "  0%|          | 0/1506 [00:00<?, ?it/s]"
      ]
     },
     "metadata": {},
     "output_type": "display_data"
    }
   ],
   "source": [
    "# load all parsed data into a single dataframe\n",
    "import pandas as pd\n",
    "import numpy as np\n",
    "import json\n",
    "import os\n",
    "from tqdm.notebook import tqdm\n",
    "\n",
    "df = pd.DataFrame(columns=[\"date\", \"interest\", \"embedding\"])\n",
    "\n",
    "for filename in tqdm(get_filenames(\"interests\")):\n",
    "    date = filename.split(\"/\")[-1].split(\".\")[0]\n",
    "\n",
    "    if not os.path.isfile(f\"embeddings/{date}.npy\"):\n",
    "        continue\n",
    "\n",
    "    tmp_df = pd.DataFrame(columns=[\"date\", \"interest\", \"embedding\"])\n",
    "    \n",
    "    embeddings = np.load(f\"embeddings/{date}.npy\")\n",
    "    interests = json.load(open(f\"interests/{date}.json\"))\n",
    "\n",
    "    tmp_df[\"date\"] = [date] * len(interests)\n",
    "    tmp_df[\"interest\"] = interests\n",
    "    tmp_df[\"embedding\"] = embeddings.tolist()\n",
    "\n",
    "    df = pd.concat([df, tmp_df])\n"
   ]
  },
  {
   "cell_type": "code",
   "execution_count": null,
   "id": "98f1ff6f-35f8-420c-b3b6-33137b331d78",
   "metadata": {},
   "outputs": [],
   "source": [
    "from cuml.metrics import pairwise_distances\n",
    "from hdbscan import HDBSCAN\n",
    "import numpy as np\n",
    "import cupy as cp  \n",
    "import cuml\n",
    "\n",
    "embeddings_gpu = cp.asarray(df[\"embedding\"].to_list())\n",
    "\n",
    "umap_model = cuml.UMAP(n_neighbors=15,\n",
    "                       n_components=100, \n",
    "                       min_dist=0.1, \n",
    "                       metric='cosine')\n",
    "reduced_data_gpu = umap_model.fit_transform(embeddings_gpu)\n",
    "\n",
    "cosine_dist = pairwise_distances(reduced_data_gpu, metric='cosine')\n",
    "\n",
    "clusterer = HDBSCAN(min_cluster_size=5, \n",
    "                    gen_min_span_tree=True,\n",
    "                    metric=\"precomputed\",\n",
    "                    cluster_selection_epsilon=0.02) \n",
    "cluster_labels = clusterer.fit_predict(cosine_dist.astype(np.float64).get())"
   ]
  },
  {
   "cell_type": "code",
   "execution_count": 348,
   "id": "d8aa4708-9af5-4033-96a5-4bf49364227c",
   "metadata": {},
   "outputs": [
    {
     "data": {
      "text/plain": [
       "55"
      ]
     },
     "execution_count": 348,
     "metadata": {},
     "output_type": "execute_result"
    }
   ],
   "source": [
    "len(np.unique(cluster_labels))"
   ]
  },
  {
   "cell_type": "code",
   "execution_count": 350,
   "id": "f49a5f21-c606-448e-a845-e089b5cc6b1c",
   "metadata": {},
   "outputs": [],
   "source": [
    "res_df = pd.DataFrame({\"interest\": df[\"interest\"], \"cluster\": cluster_labels})"
   ]
  },
  {
   "cell_type": "code",
   "execution_count": 51,
   "id": "269d9f81-ea6f-4a30-9268-0e19cd137a1b",
   "metadata": {},
   "outputs": [],
   "source": [
    "import networkx as nx\n",
    "nx.write_graphml(clusterer.condensed_tree_.to_networkx(),\"condensed_tree.graphml\")\n",
    "nx.write_graphml(clusterer.single_linkage_tree_.to_networkx(), \"single_linkage_tree.graphml\")\n"
   ]
  },
  {
   "cell_type": "code",
   "execution_count": null,
   "id": "3720f830-2466-434d-a9ec-bfaa99808c12",
   "metadata": {},
   "outputs": [],
   "source": []
  }
 ],
 "metadata": {
  "kernelspec": {
   "display_name": "Python 3 (ipykernel)",
   "language": "python",
   "name": "python3"
  },
  "language_info": {
   "codemirror_mode": {
    "name": "ipython",
    "version": 3
   },
   "file_extension": ".py",
   "mimetype": "text/x-python",
   "name": "python",
   "nbconvert_exporter": "python",
   "pygments_lexer": "ipython3",
   "version": "3.10.12"
  }
 },
 "nbformat": 4,
 "nbformat_minor": 5
}
