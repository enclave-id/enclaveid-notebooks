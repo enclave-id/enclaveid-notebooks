{
 "cells": [
  {
   "cell_type": "code",
   "execution_count": 7,
   "metadata": {},
   "outputs": [],
   "source": [
    "MAX_CONCURRENCY=256"
   ]
  },
  {
   "cell_type": "code",
   "execution_count": 8,
   "metadata": {},
   "outputs": [],
   "source": [
    "import os\n",
    "import re\n",
    "from datetime import datetime\n",
    "\n",
    "PROVIDERS = {\n",
    "    \"google\": {\n",
    "        \"raw\": \"Takeout/My Activity/Search\",\n",
    "        \"parsed\": \"google/search_history\",\n",
    "        \"summary\": \"google/search_history_summary\",\n",
    "        \"context\": \"\",\n",
    "        \"interests\": \"\"\n",
    "    }\n",
    "}\n",
    "\n",
    "\n",
    "def get_filenames(\n",
    "    kind=\"parsed\", start_date=None, end_date=None, provider=\"google\"\n",
    "):\n",
    "    directory = os.path.join(\"..\", \"_data\", kind, PROVIDERS[provider][kind])\n",
    "    if start_date is not None:\n",
    "        start_date = datetime.strptime(start_date, \"%Y-%m-%d\")\n",
    "    if end_date is not None:\n",
    "        end_date = datetime.strptime(end_date, \"%Y-%m-%d\")\n",
    "    file_pattern = r\"^(\\d{4}-\\d{2}-\\d{2})\\.(csv|json)$\"\n",
    "\n",
    "    def is_date_in_range(file_date):\n",
    "        if start_date is None and end_date is None:\n",
    "            return True\n",
    "        else:\n",
    "            return start_date <= datetime.strptime(file_date, \"%Y-%m-%d\") <= end_date\n",
    "\n",
    "    filenames = []\n",
    "    for root, dirs, files in os.walk(directory):\n",
    "        for file in files:\n",
    "            match = re.match(file_pattern, file)\n",
    "            if match:\n",
    "                file_date = match.groups()[0]\n",
    "                if is_date_in_range(file_date):\n",
    "                    filenames.append(os.path.join(root, file))\n",
    "\n",
    "    return filenames"
   ]
  },
  {
   "cell_type": "code",
   "execution_count": 9,
   "metadata": {},
   "outputs": [],
   "source": [
    "from openai import OpenAI\n",
    "import os\n",
    "import pandas as pd"
   ]
  },
  {
   "cell_type": "code",
   "execution_count": 10,
   "metadata": {},
   "outputs": [],
   "source": [
    "from openai import AsyncOpenAI\n",
    "import httpx\n",
    "\n",
    "custom_client = AsyncOpenAI(\n",
    "  http_client=httpx.AsyncClient(\n",
    "    limits=httpx.Limits(\n",
    "      max_connections=MAX_CONCURRENCY,\n",
    "      max_keepalive_connections=MAX_CONCURRENCY\n",
    "    ),\n",
    "    timeout=60*10\n",
    "  ),\n",
    "  base_url=\"https://wao06rxq3acms1-8000.proxy.runpod.net/v1\"\n",
    ")\n",
    "\n",
    "no_match = 0\n",
    "errors = 0\n",
    "\n",
    "async def summarize_interests(prompt):\n",
    "  global custom_client\n",
    "\n",
    "  summarization_prompt = \"What interests can you find in the following search records? \\n\"\n",
    "\n",
    "  try:\n",
    "    answer1 = await custom_client.chat.completions.create(\n",
    "      model=\"mistralai/Mistral-7B-Instruct-v0.2\",\n",
    "      messages=[\n",
    "        {\"role\": \"user\", \"content\": summarization_prompt+prompt},\n",
    "      ]\n",
    "    )\n",
    "\n",
    "    answer2 = await custom_client.chat.completions.create(\n",
    "      model=\"mistralai/Mistral-7B-Instruct-v0.2\",\n",
    "      messages=[\n",
    "        {\"role\": \"user\", \"content\": summarization_prompt+prompt}, \n",
    "        {\"role\": \"assistant\", \"content\": answer1.choices[0].message.content},\n",
    "        {\"role\": \"user\", \"content\": \"Summarize the previous answer as a comma-separated array of strings.\"},\n",
    "      ]\n",
    "    )\n",
    "\n",
    "    raw = answer2.choices[0].message.content\n",
    "\n",
    "\n",
    "    match = re.search(r'\\[(.*?)\\]', raw)\n",
    "    if match:\n",
    "        # If a match is found, split the substring by comma\n",
    "        return match.group(1).replace(\"\\\"\", \"\").replace(\"'\",\"\").split(\",\")\n",
    "    else:\n",
    "        global no_match\n",
    "        no_match += 1\n",
    "        return []\n",
    "\n",
    "  except Exception as e:\n",
    "    global errors\n",
    "    errors += 1\n",
    "    return []\n",
    "  "
   ]
  },
  {
   "cell_type": "code",
   "execution_count": 11,
   "metadata": {},
   "outputs": [],
   "source": [
    "from collections import defaultdict\n",
    "from tqdm.asyncio import tqdm_asyncio\n",
    "\n",
    "\n",
    "chunk_size = 35\n",
    "\n",
    "interests = defaultdict(list)\n",
    "tasks_dict = defaultdict(list)\n",
    "\n",
    "for filename in get_filenames():\n",
    "    df = pd.read_csv(filename)\n",
    "    date = filename.split(\"/\")[-1].split(\".\")[0]\n",
    "\n",
    "    # if os.path.exists(f\"../_data/summary_embeddings/{date}.npy\"):\n",
    "    #     continue\n",
    "\n",
    "    inputs = df[\"title\"].tolist()\n",
    "\n",
    "    for i in range(0, len(inputs), chunk_size):\n",
    "        tasks_dict[date].append(summarize_interests(\"\\n\".join(inputs[i:i+chunk_size])))\n"
   ]
  },
  {
   "cell_type": "code",
   "execution_count": null,
   "metadata": {},
   "outputs": [],
   "source": [
    "from asyncio import Semaphore\n",
    "\n",
    "wrapped_tasks = []\n",
    "\n",
    "async def wrap_task_with_date(sem, date, t):\n",
    "    async with sem:\n",
    "        result = await t\n",
    "        return (date, result)\n",
    "\n",
    "sem = Semaphore(MAX_CONCURRENCY)\n",
    "for date, tasks in tasks_dict.items():\n",
    "    wrapped_tasks.extend([wrap_task_with_date(sem, date, task) for task in tasks])\n",
    "\n",
    "# Await all wrapped tasks\n",
    "\n",
    "import json\n",
    "\n",
    "results_dict = defaultdict(list)\n",
    "results = await tqdm_asyncio.gather(*wrapped_tasks, smoothing=0)\n",
    "    \n",
    "for date, result in results:\n",
    "    results_dict[date].extend(result)\n",
    "    json.dump(results_dict[date], open(f\"../_data/interests/{date}.json\", \"w\"))"
   ]
  },
  {
   "cell_type": "code",
   "execution_count": null,
   "metadata": {},
   "outputs": [
    {
     "data": {
      "text/plain": [
       "(109, 910)"
      ]
     },
     "execution_count": 8,
     "metadata": {},
     "output_type": "execute_result"
    }
   ],
   "source": [
    "no_match, errors"
   ]
  }
 ],
 "metadata": {
  "kernelspec": {
   "display_name": ".venv",
   "language": "python",
   "name": "python3"
  },
  "language_info": {
   "codemirror_mode": {
    "name": "ipython",
    "version": 3
   },
   "file_extension": ".py",
   "mimetype": "text/x-python",
   "name": "python",
   "nbconvert_exporter": "python",
   "pygments_lexer": "ipython3",
   "version": "3.10.13"
  }
 },
 "nbformat": 4,
 "nbformat_minor": 2
}
