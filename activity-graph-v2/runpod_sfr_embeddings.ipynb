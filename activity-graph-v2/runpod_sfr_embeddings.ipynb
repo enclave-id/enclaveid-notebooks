{
 "cells": [
  {
   "cell_type": "markdown",
   "id": "3ab6d677",
   "metadata": {},
   "source": [
    "This runs in 8 minutes on 1xA6000"
   ]
  },
  {
   "cell_type": "code",
   "execution_count": null,
   "id": "7e435f78-50df-498a-aa9d-6f8388a239f2",
   "metadata": {},
   "outputs": [],
   "source": [
    "%pip install sentence_transformers"
   ]
  },
  {
   "cell_type": "code",
   "execution_count": 2,
   "id": "7e18c8d4-b479-4055-96b7-e7e1137e98f8",
   "metadata": {},
   "outputs": [
    {
     "data": {
      "application/vnd.jupyter.widget-view+json": {
       "model_id": "34b07111af8c4b949b65510cef16d294",
       "version_major": 2,
       "version_minor": 0
      },
      "text/plain": [
       "Loading checkpoint shards:   0%|          | 0/3 [00:00<?, ?it/s]"
      ]
     },
     "metadata": {},
     "output_type": "display_data"
    }
   ],
   "source": [
    "\n",
    "from sentence_transformers import SentenceTransformer, util\n",
    "\n",
    "model = SentenceTransformer(\"Salesforce/SFR-Embedding-Mistral\")"
   ]
  },
  {
   "cell_type": "code",
   "execution_count": 4,
   "id": "5a771b28-f235-4018-855f-7f130abd4035",
   "metadata": {},
   "outputs": [],
   "source": [
    "import os\n",
    "import re\n",
    "from datetime import datetime\n",
    "\n",
    "PROVIDERS = {\n",
    "    \"google\": {\n",
    "        \"raw\": \"Takeout/My Activity/Search\",\n",
    "        \"parsed\": \"google/search_history\",\n",
    "        \"summary\": \"google/search_history_summary\",\n",
    "        \"context\": \"\",\n",
    "        \"interests\": \"\"\n",
    "    }\n",
    "}\n",
    "\n",
    "\n",
    "def get_filenames(\n",
    "    kind=\"parsed\", start_date=None, end_date=None, provider=\"google\"\n",
    "):\n",
    "    directory = os.path.join(kind, PROVIDERS[provider][kind])\n",
    "    if start_date is not None:\n",
    "        start_date = datetime.strptime(start_date, \"%Y-%m-%d\")\n",
    "    if end_date is not None:\n",
    "        end_date = datetime.strptime(end_date, \"%Y-%m-%d\")\n",
    "    file_pattern = r\"^(\\d{4}-\\d{2}-\\d{2})\\.(csv|json)$\"\n",
    "\n",
    "    def is_date_in_range(file_date):\n",
    "        if start_date is None and end_date is None:\n",
    "            return True\n",
    "        else:\n",
    "            return start_date <= datetime.strptime(file_date, \"%Y-%m-%d\") <= end_date\n",
    "\n",
    "    filenames = []\n",
    "    for root, dirs, files in os.walk(directory):\n",
    "        for file in files:\n",
    "            match = re.match(file_pattern, file)\n",
    "            if match:\n",
    "                file_date = match.groups()[0]\n",
    "                if is_date_in_range(file_date):\n",
    "                    filenames.append(os.path.join(root, file))\n",
    "\n",
    "    return filenames"
   ]
  },
  {
   "cell_type": "code",
   "execution_count": 5,
   "id": "88d85f69-ed4c-4083-bf9a-6e0317afebb4",
   "metadata": {},
   "outputs": [],
   "source": [
    "# load the results\n",
    "import json\n",
    "from collections import defaultdict\n",
    "\n",
    "results_dict = defaultdict(list)\n",
    "\n",
    "for filename in get_filenames(kind=\"interests\"):\n",
    "    date = filename.split(\"/\")[-1].split(\".\")[0]\n",
    "    results_dict[date] = list(map(lambda x: x.strip(), json.load(open(filename))))"
   ]
  },
  {
   "cell_type": "code",
   "execution_count": null,
   "id": "400f85b1-4a11-452d-a227-549fdec74489",
   "metadata": {},
   "outputs": [],
   "source": [
    "# craete a dataframe with the embeddings and interests for each date\n",
    "\n",
    "import pandas as pd\n",
    "from tqdm.notebook import tqdm\n",
    "import numpy as np\n",
    "\n",
    "\n",
    "df = pd.DataFrame(columns=[\"date\", \"interest\", \"embedding\"])\n",
    "\n",
    "for date, interests in tqdm(results_dict.items(), smoothing=0):\n",
    "    np.save(f\"embeddings/{date}.npy\", model.encode(interests))\n"
   ]
  }
 ],
 "metadata": {
  "kernelspec": {
   "display_name": "Python 3 (ipykernel)",
   "language": "python",
   "name": "python3"
  },
  "language_info": {
   "codemirror_mode": {
    "name": "ipython",
    "version": 3
   },
   "file_extension": ".py",
   "mimetype": "text/x-python",
   "name": "python",
   "nbconvert_exporter": "python",
   "pygments_lexer": "ipython3",
   "version": "3.10.12"
  }
 },
 "nbformat": 4,
 "nbformat_minor": 5
}
