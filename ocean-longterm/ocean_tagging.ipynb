{
 "cells": [
  {
   "cell_type": "code",
   "execution_count": 41,
   "metadata": {},
   "outputs": [],
   "source": [
    "from mistralai.client import MistralClient\n",
    "import os\n",
    "import pandas as pd"
   ]
  },
  {
   "cell_type": "code",
   "execution_count": 42,
   "metadata": {},
   "outputs": [],
   "source": [
    "api_key = os.environ[\"MISTRAL_API_KEY\"]\n",
    "client = MistralClient(api_key=api_key, timeout=120)"
   ]
  },
  {
   "cell_type": "code",
   "execution_count": 43,
   "metadata": {},
   "outputs": [],
   "source": [
    "\n",
    "# Files mapping:\n",
    "# nothing -> raw\n",
    "# 0 -> summary \n",
    "# 1 -> consolidated summary\n",
    "# 2 -> directionality \n",
    "\n",
    "import os\n",
    "import re\n",
    "from datetime import datetime\n",
    "\n",
    "def get_filenames(kind=None, start_date=None, end_date=None):\n",
    "    directory = \"data/google/search_history/\"\n",
    "    file_pattern = r\"^(\\d{4}-\\d{2}-\\d{2})(?:\\.(\\d+))?\\.(?:csv|txt)$\"\n",
    "\n",
    "    def is_date_in_range(file_date):\n",
    "        if start_date is None and end_date is None:\n",
    "            return True\n",
    "        elif start_date is None:\n",
    "            return file_date <= end_date\n",
    "        elif end_date is None:\n",
    "            return start_date <= file_date\n",
    "        else:\n",
    "            return start_date <= file_date <= end_date\n",
    "\n",
    "    def match_kind(file_kind):\n",
    "        if kind is None:\n",
    "            return file_kind is None\n",
    "        else:\n",
    "            return file_kind == str(kind)\n",
    "\n",
    "    filenames = []\n",
    "    for root, dirs, files in os.walk(directory):\n",
    "        for file in files:\n",
    "            match = re.match(file_pattern, file)\n",
    "            if match:\n",
    "                file_date, file_kind = match.groups()\n",
    "                if is_date_in_range(file_date) and match_kind(file_kind):\n",
    "                    filenames.append(os.path.join(root, file))\n",
    "\n",
    "    return filenames"
   ]
  },
  {
   "cell_type": "code",
   "execution_count": 44,
   "metadata": {},
   "outputs": [],
   "source": [
    "from mistralai.models.chat_completion import ChatMessage\n",
    "\n",
    "errors = []\n",
    "usage = []\n",
    "\n",
    "def get_completion(prompt, model=\"mistral-small\", filename=None):\n",
    "    messages = [ChatMessage(role=\"user\", content=prompt)]\n",
    "\n",
    "    try:\n",
    "        chat_response = client.chat(\n",
    "            model=model,\n",
    "            messages=messages,\n",
    "        )\n",
    "    except Exception as e:\n",
    "        if filename is not None:\n",
    "            errors.append(filename)\n",
    "        return f\"ERROR: {str(e)}\"\n",
    "    \n",
    "    usage.append(chat_response.usage.total_tokens)\n",
    "    \n",
    "    return chat_response.choices[0].message.content"
   ]
  },
  {
   "cell_type": "code",
   "execution_count": 45,
   "metadata": {},
   "outputs": [],
   "source": [
    "from tqdm import tqdm "
   ]
  },
  {
   "cell_type": "code",
   "execution_count": 46,
   "metadata": {},
   "outputs": [
    {
     "name": "stderr",
     "output_type": "stream",
     "text": [
      "  0%|          | 0/1506 [00:00<?, ?it/s, current=data/google/search_history/2018-11/2018-11-07.csv]"
     ]
    },
    {
     "name": "stderr",
     "output_type": "stream",
     "text": [
      "100%|██████████| 1506/1506 [4:04:02<00:00,  9.72s/it, current=data/google/search_history/2023-08/2023-08-17.csv]  "
     ]
    },
    {
     "name": "stdout",
     "output_type": "stream",
     "text": [
      "ERRORS: 2. ['data/google/search_history/2019-01/2019-01-22.csv', 'data/google/search_history/2022-05/2022-05-26.csv']\n"
     ]
    },
    {
     "name": "stderr",
     "output_type": "stream",
     "text": [
      "\n"
     ]
    }
   ],
   "source": [
    "summary_prompt = '''\n",
    "Here is a list of Google search history records for a given day.\n",
    "What can you guess about the user? What is the user's intent behind the main sessions?\n",
    "\n",
    "At the end of your analysis, provide a JSON object categorizing the day with any of these broad category tags that apply to the activities: \n",
    "[\n",
    "  \"science\", \n",
    "  \"arts and culture\", \n",
    "  \"organization and planning\", \n",
    "  \"goal-setting and self-improvement\", \n",
    "  \"educational content\", \n",
    "  \"random browsing and procrastination\", \n",
    "  \"entertainment-focused\", \n",
    "  \"social/extroverted activities\", \n",
    "  \"solitary/introspective content\", \n",
    "  \"solo hobbies\",\n",
    "  \"helping others and charity work\", \n",
    "  \"empathy and emotional intelligence\", \n",
    "  \"relationships\", \n",
    "  \"competitive content\", \n",
    "  \"critical content\", \n",
    "  \"individual success\",\n",
    "  \"anxiety\", \n",
    "  \"stress management and coping mechanisms\", \n",
    "  \"health-related concerns\", \n",
    "  \"relaxation content\",  \n",
    "  \"well-being/positivity\"\n",
    "]\n",
    "\n",
    "Additionally, add a field that contains a more fine-grained set of interests that you can infer from the data.\n",
    "The final result should look something like this:\n",
    "{\n",
    "  \"broad_categories\": [\n",
    "    \"science\", \n",
    "    \"arts and culture\", \n",
    "    \"educational content\", \n",
    "    \"random browsing and procrastination\",\n",
    "    \"critical content\", \n",
    "    \"individual success\"\n",
    "  ], \n",
    "  \"narrow_interests\": [ \n",
    "    \"U2 rock band\", \n",
    "    \"Javascript programming\"\n",
    "  ]\n",
    "}\n",
    "\n",
    "Make sure to only use the provided tags for the \"broad_categories\" field.\n",
    "'''\n",
    "\n",
    "filenames = get_filenames()\n",
    "pbar = tqdm(filenames)\n",
    "for filename in pbar:\n",
    "    pbar.set_postfix({'current': filename})\n",
    "    with open(filename, \"r\") as f:\n",
    "        text = f.read()\n",
    "\n",
    "        result = get_completion(summary_prompt + text, model=\"mistral-small\", filename=filename)\n",
    "    \n",
    "    with open(filename.replace(\".csv\", \".0.txt\"), \"w\") as f:\n",
    "        f.write(result)\n",
    "\n",
    "print(f\"ERRORS: {len(errors)}. {errors}\")    \n",
    "\n",
    "usage_df = pd.DataFrame(usage)\n",
    "usage_df.to_csv(\"usage.csv\")"
   ]
  }
 ],
 "metadata": {
  "kernelspec": {
   "display_name": "Python 3",
   "language": "python",
   "name": "python3"
  },
  "language_info": {
   "codemirror_mode": {
    "name": "ipython",
    "version": 3
   },
   "file_extension": ".py",
   "mimetype": "text/x-python",
   "name": "python",
   "nbconvert_exporter": "python",
   "pygments_lexer": "ipython3",
   "version": "3.12.1"
  }
 },
 "nbformat": 4,
 "nbformat_minor": 2
}
