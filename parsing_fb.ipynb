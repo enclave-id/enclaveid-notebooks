{
 "cells": [
  {
   "cell_type": "code",
   "execution_count": 1,
   "metadata": {},
   "outputs": [],
   "source": [
    "import glob\n",
    "import json\n",
    "\n",
    "with open(glob.glob(\"_data/raw/instagram*/personal_information/personal_information.json\")[0], \"r\") as f:\n",
    "    username = json.load(f)['profile_user'][0]['string_map_data']['Username']['value']"
   ]
  },
  {
   "cell_type": "code",
   "execution_count": 2,
   "metadata": {},
   "outputs": [],
   "source": [
    "file_paths = glob.glob('_data/raw/instagram*/messages/inbox/*/message_*.json')"
   ]
  },
  {
   "cell_type": "code",
   "execution_count": 3,
   "metadata": {},
   "outputs": [],
   "source": [
    "import numpy as np\n",
    "\n",
    "def update_content(row):\n",
    "    if 'share' in row and row['share'] is not np.nan and 'link' in row['share'] and username in row['share']['link']:\n",
    "        return f'Reacted to your story: {row['content']}'\n",
    "    elif 'share' in row and row['share'] is not np.nan:\n",
    "        if 'share_text' in row['share']:\n",
    "            return f'Shared: {row['share']['share_text']}'\n",
    "        elif 'link' in row['share']:\n",
    "            return f'Shared a link: {row['share']['link']}'\n",
    "        else:\n",
    "            return 'Shared some content.'\n",
    "    else:\n",
    "        return row['content']"
   ]
  },
  {
   "cell_type": "code",
   "execution_count": 4,
   "metadata": {},
   "outputs": [],
   "source": [
    "import pandas as pd\n",
    "\n",
    "def process_file(file_path):\n",
    "    with open(file_path) as f:\n",
    "        data = json.load(f)\n",
    "\n",
    "        user = data['participants'][1]['name']\n",
    "        partner = data['participants'][0]['name']\n",
    "\n",
    "        messages = pd.DataFrame(data['messages'])\n",
    "\n",
    "        # if sender_name is user, replace with 'user'\n",
    "        messages['sender_name'] = messages['sender_name'].apply(lambda x: 'user' if x == user else x)\n",
    "\n",
    "\n",
    "\n",
    "        # convert 'timestamp_ms' to datetime\n",
    "        messages['timestamp_ms'] = pd.to_datetime(messages['timestamp_ms'], unit='ms')\n",
    "\n",
    "        \n",
    "        if 'reactions' in messages:\n",
    "            messages['reactions'] = messages['reactions'].apply(lambda x: ','.join([r['reaction'] for r in x]) if isinstance(x, list) else None)\n",
    "        else:\n",
    "            messages['reactions'] = None\n",
    "        \n",
    "        if 'content' in messages:\n",
    "            messages['content'] = messages.apply(update_content, axis=1)\n",
    "        else:\n",
    "            messages['content'] = None\n",
    "\n",
    "        # if there is an 'audio_files' column, replace 'content' with \"audio\"\n",
    "        messages['content'] = messages.apply(\n",
    "            lambda x: 'Sent an audio.' if ('audio_files' in x and x['audio_files'] is not np.nan) else str(x['content']), axis=1\n",
    "        )\n",
    "\n",
    "\n",
    "\n",
    "        # if there is a 'reactions' column, replace with a comma-separated list of reactions, as a new message with the same timestamp and opposite sender\n",
    "        messages = pd.concat([messages, pd.DataFrame(\n",
    "            messages[messages['reactions'].notnull()].apply(\n",
    "                lambda x: pd.Series({\n",
    "                    'sender_name': 'user' if x['sender_name'] == partner else partner,\n",
    "                    'timestamp_ms': x['timestamp_ms'] + pd.Timedelta(3, unit='s')      , \n",
    "                    'content': x['reactions'] if 'reactions' in x else None,\n",
    "                    'reactions': None\n",
    "                }), axis=1\n",
    "            )\n",
    "        )])\n",
    "\n",
    "        messages = messages[['sender_name', 'timestamp_ms', 'content']]\n",
    "\n",
    "        messages['sender_name'] = messages['sender_name'].map(lambda x: x.encode('latin1').decode('utf8'))\n",
    "        messages['content'] = messages['content'].map(lambda x: x.encode('latin1').decode('utf8'))\n",
    "\n",
    "\n",
    "        # order by timestamp\n",
    "        messages = messages.sort_values('timestamp_ms')\n",
    "\n",
    "        # reset index\n",
    "        messages = messages.reset_index(drop=True)\n",
    "\n",
    "        # split timestamp into date and time\n",
    "        messages['date'] = messages['timestamp_ms'].dt.date\n",
    "        messages['time'] = messages['timestamp_ms'].dt.time\n",
    "        messages['time'] = messages['time'].apply(lambda x: x.replace(microsecond=0))\n",
    "\n",
    "        # drop timestamp\n",
    "        messages = messages.drop('timestamp_ms', axis=1)\n",
    "\n",
    "        # save to csv\n",
    "        messages.to_csv('_data/parsed/facebook/conversations/{}.csv'.format(partner.encode('latin1').decode('utf8')), index=False)\n"
   ]
  },
  {
   "cell_type": "code",
   "execution_count": 5,
   "metadata": {},
   "outputs": [],
   "source": [
    "from multiprocessing import Pool\n",
    "\n",
    "with Pool(8) as p:\n",
    "    p.map(process_file, file_paths)\n",
    "    "
   ]
  },
  {
   "cell_type": "code",
   "execution_count": null,
   "metadata": {},
   "outputs": [],
   "source": []
  }
 ],
 "metadata": {
  "kernelspec": {
   "display_name": ".venv",
   "language": "python",
   "name": "python3"
  },
  "language_info": {
   "codemirror_mode": {
    "name": "ipython",
    "version": 3
   },
   "file_extension": ".py",
   "mimetype": "text/x-python",
   "name": "python",
   "nbconvert_exporter": "python",
   "pygments_lexer": "ipython3",
   "version": "3.12.1"
  }
 },
 "nbformat": 4,
 "nbformat_minor": 2
}
