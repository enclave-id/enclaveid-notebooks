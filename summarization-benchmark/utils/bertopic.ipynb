{
 "cells": [
  {
   "cell_type": "code",
   "execution_count": 7,
   "metadata": {},
   "outputs": [],
   "source": [
    "import json\n",
    "\n",
    "with open('summaries/proactive.json', 'r') as file:\n",
    "    d = json.loads(file.read())   \n",
    "\n",
    "docs = []\n",
    "for k in d.keys():\n",
    "    for item in d[k]:\n",
    "        docs.append(f\"{item['title']}. {item['description']}\")"
   ]
  },
  {
   "cell_type": "code",
   "execution_count": 8,
   "metadata": {},
   "outputs": [],
   "source": [
    "from umap import UMAP\n",
    "from hdbscan import HDBSCAN\n",
    "from sentence_transformers import SentenceTransformer\n",
    "from sklearn.feature_extraction.text import CountVectorizer\n",
    "\n",
    "from bertopic import BERTopic\n",
    "from bertopic.representation import KeyBERTInspired\n",
    "from bertopic.vectorizers import ClassTfidfTransformer\n",
    "\n",
    "import numpy as np\n",
    "\n",
    "embeddings = np.load('embeddings/proactive.npy')\n",
    "\n",
    "# Step 2 - Reduce dimensionality\n",
    "umap_model = UMAP(n_neighbors=15, n_components=5, min_dist=0.0, metric='cosine')\n",
    "\n",
    "# Step 3 - Cluster reduced embeddings\n",
    "hdbscan_model = HDBSCAN(min_cluster_size=5, metric='euclidean', cluster_selection_method='eom', prediction_data=True)\n",
    "\n",
    "# Step 4 - Tokenize topics\n",
    "vectorizer_model = CountVectorizer(stop_words=\"english\")\n",
    "\n",
    "# Step 5 - Create topic representation\n",
    "ctfidf_model = ClassTfidfTransformer()\n",
    "\n",
    "# All steps together\n",
    "topic_model = BERTopic(\n",
    "  umap_model=umap_model,                    # Step 2 - Reduce dimensionality\n",
    "  hdbscan_model=hdbscan_model,              # Step 3 - Cluster reduced embeddings\n",
    "  vectorizer_model=vectorizer_model,        # Step 4 - Tokenize topics\n",
    "  ctfidf_model=ctfidf_model,                # Step 5 - Extract topic words\n",
    ").fit(docs, embeddings)"
   ]
  },
  {
   "cell_type": "code",
   "execution_count": 9,
   "metadata": {},
   "outputs": [
    {
     "data": {
      "application/vnd.plotly.v1+json": {
       "config": {
        "plotlyServerURL": "https://plot.ly"
       },
       "data": [
        {
         "hoverinfo": "text",
         "hovertext": [
          "Artificial General Intelligence (AGI) Research. Looking up 'sparks of agi' may derive from a deep-rooted interest in the progress and discussions surrounding AGI.",
          "Exploring AutoGPT. Educating themselves about AI or programming for potential future use or general interest in technology.",
          "Professional Research. Detail-oriented inquiries into TEE, AWS, ISO 27001, domain searches, and Decentriq for work or long-term projects.",
          "Data Services Understanding. Seeking knowledge on data services, dime inc, and live ramp data onboarding for long-term data management and strategy",
          "Recommendation Systems Research. Conducts detailed research on recommendation systems, privacy-preserving techniques, and market sizes, likely for a business strategy or professional development.",
          "Tech Industry Professionals. Learning about key figures in tech and venture capital, possibly for network building or investment insights.",
          "Behavioral Advertising Research. Studying the impacts of behavioral advertising on consumer welfare, privacy concerns, and the influence of advertising on search engine bias.",
          "Solar storm 2023. Seeking information on an upcoming solar storm to prepare or satisfy long-term curiosity about solar events.",
          "Top Class Actions Website Value. Investigation into website's value for potential long-term business considerations.",
          "Supportive Partner Dynamics Research. Research on supportive partner dynamics and the complexities of gifted individuals in relationships, implying a commitment to long-term relationship management.",
          "Professional Industry Research. Researching industry professionals and systems for long-term knowledge in technology's role in government or healthcare.",
          "Legal Research. Looking into class actions databases and Gmail API as foundational work for longer-term legal projects.",
          "Personality Traits and Success. Exploring the relationship between agreeableness, disagreeableness, and success, suggesting long-term interest in personality research or personal development.",
          "Anthropic Co-Founders LinkedIn Profiles. Researching profiles of individuals associated with AI industry for networking or long-term informational purposes.",
          "Privacy and Data Security. Learning about data clean rooms and Decentriq, highlighting a proactive stance on privacy and data security issues",
          null
         ],
         "marker": {
          "color": "#CFD8DC",
          "opacity": 0.5,
          "size": 5
         },
         "mode": "markers+text",
         "name": "other",
         "showlegend": false,
         "type": "scattergl",
         "x": [
          4.2925286293029785,
          4.414794445037842,
          5.28334903717041,
          6.140279293060303,
          6.106015205383301,
          5.357089042663574,
          6.4540205001831055,
          4.024073123931885,
          7.181570053100586,
          5.527727127075195,
          5.501777172088623,
          5.2343010902404785,
          6.030608654022217,
          5.599643230438232,
          5.9719929695129395,
          5.541317939758301
         ],
         "y": [
          9.87642765045166,
          9.87295150756836,
          8.872553825378418,
          8.247431755065918,
          9.109984397888184,
          10.226611137390137,
          9.135627746582031,
          10.33322811126709,
          10.478100776672363,
          10.558501243591309,
          9.314311981201172,
          9.67679214477539,
          10.305355072021484,
          9.860816955566406,
          7.9863810539245605,
          9.590336799621582
         ]
        },
        {
         "hoverinfo": "text",
         "hovertext": [
          "Sam Altman's Favorite Bookstore. Seeking book recommendations potentially for a later visit or to engage in reading habits.",
          "Travel Planning. Proactive planning for a future trip including flights, airlines, Eurostar, and British Airways interests.",
          "Health and Wellness. Seeking information on sleep cycles to improve long-term sleep habits.",
          "Travel Planning. Travel preparation, possibly researching for future trips or accommodations.",
          "Alan Watts. Seeking philosophical knowledge or personal growth through engagement with Alan Watts' work.",
          "Food and Dietary Knowledge. Looking up cheese by protein content for diet planning or health considerations.",
          "L1 Visa Inquiry. Planning for future travel or immigration, or educating on visas for long-term planning.",
          "GDP per Capita Research. Shows long-term interest in economic standings for potential business or educational purposes.",
          "Research on Protestant Reformation Figures. The user is likely conducting research on historical figures associated with the Protestant Reformation, indicating an interest in obtaining knowledge about Philipp Melanchthon and Huldrych Zwingli from Italian-language sources.",
          "Italia 90. Expressing an interest in the history of soccer, specifically the FIFA World Cup in Italy in 1990.",
          "Justine Tunney and Occupy Wall Street. Seeking knowledge about individuals and movements for educational or personal long-term interest.",
          "Young Fathers. Interest in music for long-term cultural knowledge.",
          "Tourist Attractions Research. Planning for future travel to Saint Honore, Gardaland, and Xcaret Mexico.",
          "Quality of Life and Economic Comparisons. Searches relating to quality of life indices and economic comparisons that hint at consideration for relocation or investment.",
          "Event Planning Research. Exploring the costs associated with attending Burning Man indicates forward-thinking about participation in a future event.",
          "Investigating Educational Institution. Looking up information about École Supérieure des Arts Commerciales Angers, which indicates long-term planning related to education or career.",
          "Predictive Coding Theory Research. Studying predictive coding theory, potentially indicating continued academic interest or a deep personal curiosity.",
          "Lifex Paris Inquiry. Potential search for future living arrangements or understanding co-living spaces in Paris.",
          "Atlas Shrugged. Proactive engagement with literature, possibly for personal growth or long-term intellectual interest.",
          "Geological and Biological Research. Studying the age of the Earth, life on Earth, and island formations for broader educational purposes or long-term research projects.",
          "Personal Care Product Creation. Researching how to make lip balm, indicating a proactive DIY project interest.",
          "Decouple Podcast. Engaging with content related to personal development or professional skills enhancement.",
          "Smartwatch and Health Tracker Research. Signifies a proactive approach to personal health tracking or interest in technology advancement.",
          "Home Gym Equipment Research. Implies a long-term goal of fitness and lifestyle change with a focus on setting up a home gym.",
          "Historical Phrase Research. Looking up 'e pluribus unum', likely as part of a broader interest in history or philosophy.",
          "Historical Research. Indicates a proactive interest in learning about historical figures and events.",
          "Nuclear Energy Movies Research. Researching movies related to nuclear energy suggesting interest in long-term knowledge about nuclear power.",
          "Best Argentine movies - Ricardo Darín. Proactively expanding film knowledge or compiling a list of movies to watch.",
          "Historical and Personal Figures. Searching for individuals such as Mario Moretti and Minh Duc, indicating research for personal knowledge or academic interest.",
          "Economic Data Gathering. Looking into the economics of EU countries and UK GDP statistics indicates a broader interest in financial planning or macroeconomic study.",
          "Historical Economic Concepts. Exploration of the 'Dutch disease' in a historical context such as the Roman Empire may indicate an underlying long-term research interest.",
          "Philosophical Inquiry. Investigating the philosophical concept of amor fati possibly for personal development.",
          "Tax Brackets France. Long-term financial planning or consideration for relocation.",
          "Academic Status and Achievement. User researching academic honors, likely in pursuit of long-term educational goals.",
          "Immigration and Visa Planning. Research into different visa options and processes for immigrating to the USA, suggesting long-term life planning.",
          "World demographics. Researching world population ethnic breakdown pointing towards an interest in global demographics for long-term knowledge.",
          "80s Fashion Research. Looking up 80s style outfits and fashion which may indicate a long-term interest or event preparation.",
          "Film Director Research. Researching film director Yorgos Lanthimos, possibly for deepening understanding of contemporary cinema.",
          "Documentary Exploration. A proactive pursuit of educational content, seeking best documentaries to watch.",
          "Tax Declaration Research. Looking into the tax declaration process in France, a task typically done in preparation for a future responsibility.",
          "Self-Improvement Book Search. Looking up 'Clear Thinking' by Shane Parrish indicating a proactive interest in personal development.",
          "Solo Traveller Agencies and Join The Crew International. Proactive approach toward planning future travels or joining travel communities.",
          "Magnesium Glycinate vs Bisglycinate. Personal health management and wellness research.",
          "Learning Italian Verb Tenses. Part of a long-term goal to learn the Italian language or for language-related work.",
          "Historical Figures Research. Proactive learning about historical figures such as Anna Bolena and Carlo V.",
          "Language and Historical Research. Searching langue d'oil, showing intellectual curiosity or educational pursuit for long-term knowledge.",
          "Economic Research. Investigates the Gini coefficient, showing a desire to understand socio-economic trends over the long term.",
          "Alesia. Researching the historical or cultural significance of Alesia, indicative of interest in long-term knowledge acquisition.",
          "Western Roman Empire History. Engaging with historical subject matter such as the Western Roman Empire, aiming for long-term educational enrichment.",
          "Economic Research. An in-depth inquiry into the impact of large corporations on the economy suggesting preparation for a larger-scale project or self-education.",
          "Richard Socher. Potentially learning about AI or industry leaders for professional development or long-term knowledge acquisition.",
          "Historical/Personal Research. Proactive seeking of knowledge on historical figures and locations, possibly for educational purposes or deep personal interest.",
          "H-1B Visa Lottery History. Researching the history of the H-1B visa lottery for work-related immigration or policy understanding.",
          "Nuclear Reactors in Italy. Investigating nuclear reactors in Italy, perhaps as part of an ongoing study or interest in energy and environmental policies.",
          "Bench Press Research. Researching the effects of bench presses as part of a long-term fitness routine or goal.",
          "Population Growth and Ports. Researching demographic data and infrastructure, likely for educational or long-term professional reasons.",
          "5/3/1 for hypertrophy. A proactive search into workout programs, suggesting planning for a fitness regimen.",
          "Car sharing services in Malaga. Researching car sharing for possible future use, or long-term planning.",
          null
         ],
         "marker": {
          "opacity": 0.5,
          "size": 5
         },
         "mode": "markers+text",
         "name": "0_research_historical_longterm",
         "text": [
          "",
          "",
          "",
          "",
          "",
          "",
          "",
          "",
          "",
          "",
          "",
          "",
          "",
          "",
          "",
          "",
          "",
          "",
          "",
          "",
          "",
          "",
          "",
          "",
          "",
          "",
          "",
          "",
          "",
          "",
          "",
          "",
          "",
          "",
          "",
          "",
          "",
          "",
          "",
          "",
          "",
          "",
          "",
          "",
          "",
          "",
          "",
          "",
          "",
          "",
          "",
          "",
          "",
          "",
          "",
          "",
          "",
          "",
          "0_research_historical_longterm"
         ],
         "textfont": {
          "size": 12
         },
         "type": "scattergl",
         "x": [
          4.18981409072876,
          6.179351806640625,
          5.106875896453857,
          5.635289192199707,
          4.104216575622559,
          5.443918704986572,
          6.226105690002441,
          5.880955696105957,
          4.459121227264404,
          3.5485329627990723,
          4.302860736846924,
          3.8654680252075195,
          5.771686553955078,
          6.034407138824463,
          5.777267932891846,
          5.045073509216309,
          5.154898166656494,
          6.3471503257751465,
          4.196970462799072,
          5.209464073181152,
          5.470189094543457,
          4.4133219718933105,
          5.023268699645996,
          4.967138290405273,
          4.832440376281738,
          4.810511112213135,
          3.7099223136901855,
          3.843515396118164,
          4.403973579406738,
          5.768327713012695,
          5.23710823059082,
          4.155722141265869,
          6.593803405761719,
          4.896132469177246,
          6.288229465484619,
          5.66739559173584,
          5.257676601409912,
          3.8013038635253906,
          4.170613765716553,
          6.589001655578613,
          4.107635021209717,
          6.135252952575684,
          5.271224498748779,
          3.9708878993988037,
          4.367190361022949,
          4.870522975921631,
          5.746608257293701,
          4.721768379211426,
          4.923708438873291,
          5.739572525024414,
          4.375722408294678,
          4.735903263092041,
          6.2625651359558105,
          3.686476707458496,
          4.945459842681885,
          5.6817307472229,
          5.069100856781006,
          6.224093437194824,
          5.055421352386475
         ],
         "y": [
          10.906583786010742,
          12.082515716552734,
          11.601865768432617,
          12.028157234191895,
          11.173684120178223,
          11.557331085205078,
          11.468940734863281,
          13.216209411621094,
          12.374584197998047,
          12.153461456298828,
          12.130599975585938,
          11.000860214233398,
          12.167542457580566,
          13.149747848510742,
          12.018569946289062,
          12.445775032043457,
          10.827577590942383,
          12.37553596496582,
          11.077856063842773,
          12.694384574890137,
          11.49878978729248,
          10.614204406738281,
          11.065262794494629,
          11.301647186279297,
          12.62071704864502,
          12.32376480102539,
          11.500027656555176,
          11.284563064575195,
          12.302821159362793,
          13.326231002807617,
          13.17111873626709,
          11.255192756652832,
          12.116246223449707,
          12.227599143981934,
          11.565503120422363,
          13.125530242919922,
          12.050348281860352,
          11.215436935424805,
          11.617644309997559,
          12.1047945022583,
          11.173715591430664,
          12.019403457641602,
          11.467543601989746,
          12.283601760864258,
          12.500943183898926,
          12.505416870117188,
          13.371975898742676,
          12.449883460998535,
          13.022883415222168,
          13.414446830749512,
          10.461578369140625,
          12.21325397491455,
          11.504480361938477,
          12.062195777893066,
          11.470446586608887,
          13.099905014038086,
          11.604097366333008,
          12.346396446228027,
          11.995024681091309
         ]
        },
        {
         "hoverinfo": "text",
         "hovertext": [
          "Programming Technologies Research. Gaining long-term knowledge about a tech stack involving Elixir and TypeScript.",
          "Zero-Knowledge Proofs Research. In-depth research into zero-knowledge proofs for authentication systems, indicating an intellectual pursuit or project planning.",
          "Web Scraping Project Research. Sustained interest in web scraping tools and technologies for an ongoing project or work.",
          "Software Security Solutions. Information on client-side OAuth2 and serverless OpenID Connect as part of developing secure long-term software solutions",
          "Secure Computing Research. Expanding expertise in Trusted Execution Environments, attestation, Azure enclave, and Open Enclave SDK.",
          "Docker Learning Progress. Research on Docker that may be part of long-term development learning or skills enhancement.",
          "Homomorphic Encryption. Deepening understanding of homomorphic encryption, indicating an initiative to gain long-term knowledge in computer science or data security.",
          "AI Technologies and Platforms. Exploring the latest developments in AI such as ChatGPT and GPT-4, reflecting forward-looking engagement with tech trends.",
          "Gmail Account and Data Ownership Research. Researching terms and conditions, data ownership, and privacy laws which indicate a proactive approach to understanding complex, long-term implications regarding personal data rights.",
          "Technological Standards Learning. Continued education regarding privacy-preserving technologies, standards, and their implementation in the field of cybersecurity.",
          "Tech Company and API Research. In-depth exploration of tech companies and email integration APIs like Context.IO and Nylas, indicating a long-term professional interest.",
          "NLP and Machine Learning. Researching topics like NLP data classification and GPT for skill development or long-term projects.",
          "Technology Research on Azure Confidential Computing. Learning about Azure's technologies suggests development of knowledge for secure computing that could apply to future projects or ensure current professional readiness.",
          "Data Onboarding and Technologies. Investigating data onboarding and related technology trends for ongoing learning or project development.",
          "Technology and Security Research. Deep dive into TEE, encryption, and processing technologies for long-term application in projects or enhancements.",
          "Left Join. Proactive learning for long-term technical growth in SQL database skills.",
          "Machine Learning and Collaborative Filtering Research. Queries collaborative filtering and related service providers, indicative of a proactive approach to machine learning application or project planning.",
          "ID Verification Technologies. Research into ID verification technologies and associated providers might reflect a proactive interest, potentially tied to a long-term project or business need.",
          "Azure Enclave and Related Searches. Looking into Azure enclave sockets, implying a professional or long-term interest in cloud services or IT work.",
          "Google KASA Assessment. Proactive work on improving long-term security practices in cloud services.",
          "Tech Development and Security. In-depth research on OAuth, Gmail API, and secure authentication indicating an ongoing software development project",
          "Google OAuth Consultancy. Seeking information about Google OAuth verification consultancy for future projects or business needs.",
          "OAuth and Security Framework Research. Investigating authentication protocols and security frameworks, suggesting proactive learning for professional development or future application security.",
          "Tim Berners-Lee and the Solid Project. Researching Sir Tim Berners-Lee, his work on the World Wide Web, and the Solid project for data privacy.",
          "Technical Knowledge on Privacy and Security. A search about zero knowledge proof openid, which might be for enhancing long-term professional knowledge.",
          "Differential Privacy. Essential understanding for long-term privacy engineering and policy design.",
          "Workplace Teamblind / Facebook Workplace - Blind. User seeking information on workplace community platforms, which could be part of broader research into industry practices.",
          "Diagramming with Lucidchart. Searches for Lucidchart diagramming solutions potentially relate to long-term project planning or optimization of workflows.",
          "AI and Technology Advancements. Exploring updates on GPT-4 to keep up with technological trends.",
          "Your Email Provider Identity YCombinator. Research into long-term implications of email providers on online identity.",
          "OAuth and System Integration. Developing or integrating authentication and authorization systems for sustained long-term use.",
          "Gmail API Policy and Privacy Data Derivation. Long-term interest in data privacy, security, and software development or integration with Google services.",
          "OpenID provider refusing. Strategic consideration of authentication solutions for long-term IT infrastructure.",
          "Exploration of Web Technologies. Inquiries into WebRTC, JavaScript-based web servers, and digital identity suggest a proactive desire to learn about and possibly implement these technologies for personal development or professional growth.",
          "Handling Privacy Measures. Proactively looking into user consent and data privacy practices, possibly in the context of Apple's App Tracking Transparency (ATT) framework.",
          null
         ],
         "marker": {
          "opacity": 0.5,
          "size": 5
         },
         "mode": "markers+text",
         "name": "1_technologies_security_longterm",
         "text": [
          "",
          "",
          "",
          "",
          "",
          "",
          "",
          "",
          "",
          "",
          "",
          "",
          "",
          "",
          "",
          "",
          "",
          "",
          "",
          "",
          "",
          "",
          "",
          "",
          "",
          "",
          "",
          "",
          "",
          "",
          "",
          "",
          "",
          "",
          "",
          "1_technologies_security_longterm"
         ],
         "textfont": {
          "size": 12
         },
         "type": "scattergl",
         "x": [
          4.913235664367676,
          4.624142169952393,
          5.182027339935303,
          5.088847637176514,
          4.994845867156982,
          4.732969760894775,
          4.789758682250977,
          4.340273857116699,
          5.6584882736206055,
          5.061313629150391,
          5.694146633148193,
          4.544564247131348,
          5.0257673263549805,
          4.724736213684082,
          4.83147668838501,
          4.592899322509766,
          5.993624210357666,
          4.711389064788818,
          5.142814636230469,
          5.330320835113525,
          5.25727653503418,
          5.160129070281982,
          5.060872554779053,
          4.969143390655518,
          4.885225772857666,
          5.825611591339111,
          6.218879699707031,
          5.881748199462891,
          4.361433982849121,
          5.582775592803955,
          5.149759292602539,
          5.58978796005249,
          5.215007305145264,
          4.924672603607178,
          5.899672985076904,
          5.141704082489014
         ],
         "y": [
          9.2659330368042,
          7.916935920715332,
          8.985100746154785,
          7.267869472503662,
          8.295697212219238,
          9.20517349243164,
          8.034101486206055,
          9.636346817016602,
          7.543522834777832,
          8.035054206848145,
          9.67713451385498,
          9.516590118408203,
          8.340568542480469,
          8.623082160949707,
          8.463224411010742,
          9.7020845413208,
          9.092653274536133,
          8.581353187561035,
          8.468320846557617,
          7.569702625274658,
          7.457963466644287,
          7.303543567657471,
          7.236445426940918,
          9.140898704528809,
          7.775785446166992,
          7.809157371520996,
          9.753151893615723,
          9.500024795532227,
          9.618996620178223,
          7.373815536499023,
          7.176139831542969,
          7.507890224456787,
          7.083354473114014,
          9.00706672668457,
          7.8780035972595215,
          8.39550495147705
         ]
        },
        {
         "hoverinfo": "text",
         "hovertext": [
          "Legal Proceedings Research. Researching class action legislation in Europe as part of professional development or academic studies.",
          "Legal Resources. Proactive search for legal databases and projects, indicating ongoing engagement with legal matters.",
          "Legal Preparation. Looking up employment lawyers in Paris may suggest a proactive approach to dealing with long-term legal aspects related to work or living status",
          "Employment-related legal searches. Researching employment law topics and connecting with lawyers for potential long-term legal assistance.",
          "Law Education and Career Transition. User considering future education in law post computer science degree, indicating long-term planning.",
          "Legal Research - Class Action Lawsuits. Ongoing legal research that suggests a deep interest or a long-term project.",
          "Google Customer and Software Roles. Proactive career planning or professional development.",
          "Legal Tech Innovation. Interest in AI-driven legal services hints at a long-term engagement with legal tech developments.",
          "Career Planning and Job Search. User searching for jobs and planning for a future career in legal technology.",
          "Career Advancement Inquiry. Inquiries related to qualifications for becoming a senior software engineer indicating career development aspirations.",
          "Staying Motivated in a Big Corporation. Long-term career development and motivation strategies.",
          "Career Satisfaction and Business Marketing Strategy. Exploration of job satisfaction with a focus on working in large corporations and strategies for advertising for small businesses.",
          "Employment Law Research. Extensive searches related to different aspects of employment law, indicating a need for understanding that likely pertains to long-term career planning or resolving legal issues.",
          null
         ],
         "marker": {
          "opacity": 0.5,
          "size": 5
         },
         "mode": "markers+text",
         "name": "2_legal_career_law",
         "text": [
          "",
          "",
          "",
          "",
          "",
          "",
          "",
          "",
          "",
          "",
          "",
          "",
          "",
          "2_legal_career_law"
         ],
         "textfont": {
          "size": 12
         },
         "type": "scattergl",
         "x": [
          7.093083381652832,
          6.949687480926514,
          6.75377893447876,
          6.75291109085083,
          6.3679656982421875,
          7.046890735626221,
          5.867969989776611,
          6.205596923828125,
          6.312184810638428,
          5.927448272705078,
          6.112011909484863,
          6.0282158851623535,
          6.932991981506348,
          6.488517761230469
         ],
         "y": [
          10.928400993347168,
          10.977607727050781,
          11.719152450561523,
          11.103982925415039,
          10.946986198425293,
          10.887651443481445,
          10.025388717651367,
          10.719172477722168,
          10.726935386657715,
          10.367400169372559,
          10.220155715942383,
          10.090493202209473,
          11.15253734588623,
          10.758913040161133
         ]
        },
        {
         "hoverinfo": "text",
         "hovertext": [
          "Entrepreneurship and Business Planning. Research on International Entrepreneur Rule, startup support services from tech giants, and long-term business strategy",
          "Nylas Valuation and Related Searches. Investigating the valuation of Nylas as part of long-term business research or investment strategy.",
          "Strategic Business Information. Examining Plaid fintech and differences in business data models for strategic understanding.",
          "Website builder comparisons. Looking into different website builders such as Webflow and Squarespace for planning a long-term project or business.",
          "Stock Market Checks. Investigating multiple stock prices, suggesting ongoing investment tracking or research for long term financial planning.",
          "Financial services research. Exploring financial planning and investment options with a visit to an asset management company's website.",
          "Financial Platforms Long-term Planning. Investigating financial services platforms for long-term market analysis or strategy development.",
          "Recommendation Engine Startups and Y Combinator. Information gathering related to startup accelerators and recommendation engine startups for long-term entrepreneurial strategies.",
          "Business Strategy and Development. Research on commoditizing complements, activist investors, and startup activism related to business strategy.",
          "Company Research on Crunchbase. Looking up company profiles, potentially for market research or investment planning.",
          "YouTube Business Study. Research on YouTube Premium, its revenue, subscription statistics, and history, as well as information about its founders, indicative of studying the digital platform's business model.",
          "Startup Funding and Incubation Research. Exploring Y Combinator application deadlines for long-term career or business goals.",
          null
         ],
         "marker": {
          "opacity": 0.5,
          "size": 5
         },
         "mode": "markers+text",
         "name": "3_business_financial_strategy",
         "text": [
          "",
          "",
          "",
          "",
          "",
          "",
          "",
          "",
          "",
          "",
          "",
          "",
          "3_business_financial_strategy"
         ],
         "textfont": {
          "size": 12
         },
         "type": "scattergl",
         "x": [
          6.836847305297852,
          7.049798965454102,
          7.029576778411865,
          7.0667877197265625,
          7.067607879638672,
          7.167201519012451,
          7.180635452270508,
          6.501501560211182,
          6.8079657554626465,
          6.728460311889648,
          6.81851863861084,
          6.55162239074707,
          6.900543212890625
         ],
         "y": [
          9.36950397491455,
          9.842196464538574,
          9.254368782043457,
          9.807353973388672,
          9.854927062988281,
          9.970577239990234,
          9.594062805175781,
          9.534858703613281,
          9.518315315246582,
          9.872478485107422,
          9.479101181030273,
          9.686356544494629,
          9.648674964904785
         ]
        },
        {
         "hoverinfo": "text",
         "hovertext": [
          "Board Games Interest. Exploring board game mechanics and searching for the best 3X board games, reflecting an enduring interest and potentially a long-term hobby or passion.",
          "Learning and Planning - Here I Stand Game. Planning for leisure activities, learning game rules, and exploring virtual/board game versions for future use.",
          "Game Rules Study. Studying the rules of the game 'Here I Stand' as a hobby or long-term interest.",
          "Board Game Research. Several searches regarding the board game 'Here I Stand', revealing a keen interest and intention to learn and strategize for long-term engagement with the game.",
          "Long-term Engagement with Board Game Community. Engaging with board game rule discussions and community forums like BoardGameGeek suggests long-term interest and involvement.",
          "Board Games Research. Researching a variety of board games reveals a deep-seated hobby in wargames and strategic board games.",
          "Human Body Control in Blender. Exploring 3D animation with Blender, suggesting engagement in a long-term project or educational pursuit.",
          "Board Game Proficiency. Deep engagement with 'Here I Stand', including strategies and game mechanics.",
          null
         ],
         "marker": {
          "opacity": 0.5,
          "size": 5
         },
         "mode": "markers+text",
         "name": "4_game_board_games",
         "text": [
          "",
          "",
          "",
          "",
          "",
          "",
          "",
          "",
          "4_game_board_games"
         ],
         "textfont": {
          "size": 12
         },
         "type": "scattergl",
         "x": [
          2.0870361328125,
          2.2438464164733887,
          2.2119805812835693,
          2.197997808456421,
          2.1303670406341553,
          2.0857927799224854,
          2.472163677215576,
          2.16237211227417,
          2.198944568634033
         ],
         "y": [
          11.560245513916016,
          11.51752758026123,
          11.47270393371582,
          11.447105407714844,
          11.507099151611328,
          11.559182167053223,
          11.377817153930664,
          11.43895149230957,
          11.485078811645508
         ]
        }
       ],
       "layout": {
        "annotations": [
         {
          "showarrow": false,
          "text": "D1",
          "x": 1.7729238629341126,
          "y": 10.723732578754426,
          "yshift": 10
         },
         {
          "showarrow": false,
          "text": "D2",
          "x": 5.015864711999893,
          "xshift": 10,
          "y": 15.42661385536194
         }
        ],
        "height": 750,
        "shapes": [
         {
          "line": {
           "color": "#CFD8DC",
           "width": 2
          },
          "type": "line",
          "x0": 5.015864711999893,
          "x1": 5.015864711999893,
          "y0": 6.020851302146911,
          "y1": 15.42661385536194
         },
         {
          "line": {
           "color": "#9E9E9E",
           "width": 2
          },
          "type": "line",
          "x0": 1.7729238629341126,
          "x1": 8.258805561065675,
          "y0": 10.723732578754426,
          "y1": 10.723732578754426
         }
        ],
        "template": {
         "data": {
          "bar": [
           {
            "error_x": {
             "color": "rgb(36,36,36)"
            },
            "error_y": {
             "color": "rgb(36,36,36)"
            },
            "marker": {
             "line": {
              "color": "white",
              "width": 0.5
             },
             "pattern": {
              "fillmode": "overlay",
              "size": 10,
              "solidity": 0.2
             }
            },
            "type": "bar"
           }
          ],
          "barpolar": [
           {
            "marker": {
             "line": {
              "color": "white",
              "width": 0.5
             },
             "pattern": {
              "fillmode": "overlay",
              "size": 10,
              "solidity": 0.2
             }
            },
            "type": "barpolar"
           }
          ],
          "carpet": [
           {
            "aaxis": {
             "endlinecolor": "rgb(36,36,36)",
             "gridcolor": "white",
             "linecolor": "white",
             "minorgridcolor": "white",
             "startlinecolor": "rgb(36,36,36)"
            },
            "baxis": {
             "endlinecolor": "rgb(36,36,36)",
             "gridcolor": "white",
             "linecolor": "white",
             "minorgridcolor": "white",
             "startlinecolor": "rgb(36,36,36)"
            },
            "type": "carpet"
           }
          ],
          "choropleth": [
           {
            "colorbar": {
             "outlinewidth": 1,
             "tickcolor": "rgb(36,36,36)",
             "ticks": "outside"
            },
            "type": "choropleth"
           }
          ],
          "contour": [
           {
            "colorbar": {
             "outlinewidth": 1,
             "tickcolor": "rgb(36,36,36)",
             "ticks": "outside"
            },
            "colorscale": [
             [
              0,
              "#440154"
             ],
             [
              0.1111111111111111,
              "#482878"
             ],
             [
              0.2222222222222222,
              "#3e4989"
             ],
             [
              0.3333333333333333,
              "#31688e"
             ],
             [
              0.4444444444444444,
              "#26828e"
             ],
             [
              0.5555555555555556,
              "#1f9e89"
             ],
             [
              0.6666666666666666,
              "#35b779"
             ],
             [
              0.7777777777777778,
              "#6ece58"
             ],
             [
              0.8888888888888888,
              "#b5de2b"
             ],
             [
              1,
              "#fde725"
             ]
            ],
            "type": "contour"
           }
          ],
          "contourcarpet": [
           {
            "colorbar": {
             "outlinewidth": 1,
             "tickcolor": "rgb(36,36,36)",
             "ticks": "outside"
            },
            "type": "contourcarpet"
           }
          ],
          "heatmap": [
           {
            "colorbar": {
             "outlinewidth": 1,
             "tickcolor": "rgb(36,36,36)",
             "ticks": "outside"
            },
            "colorscale": [
             [
              0,
              "#440154"
             ],
             [
              0.1111111111111111,
              "#482878"
             ],
             [
              0.2222222222222222,
              "#3e4989"
             ],
             [
              0.3333333333333333,
              "#31688e"
             ],
             [
              0.4444444444444444,
              "#26828e"
             ],
             [
              0.5555555555555556,
              "#1f9e89"
             ],
             [
              0.6666666666666666,
              "#35b779"
             ],
             [
              0.7777777777777778,
              "#6ece58"
             ],
             [
              0.8888888888888888,
              "#b5de2b"
             ],
             [
              1,
              "#fde725"
             ]
            ],
            "type": "heatmap"
           }
          ],
          "heatmapgl": [
           {
            "colorbar": {
             "outlinewidth": 1,
             "tickcolor": "rgb(36,36,36)",
             "ticks": "outside"
            },
            "colorscale": [
             [
              0,
              "#440154"
             ],
             [
              0.1111111111111111,
              "#482878"
             ],
             [
              0.2222222222222222,
              "#3e4989"
             ],
             [
              0.3333333333333333,
              "#31688e"
             ],
             [
              0.4444444444444444,
              "#26828e"
             ],
             [
              0.5555555555555556,
              "#1f9e89"
             ],
             [
              0.6666666666666666,
              "#35b779"
             ],
             [
              0.7777777777777778,
              "#6ece58"
             ],
             [
              0.8888888888888888,
              "#b5de2b"
             ],
             [
              1,
              "#fde725"
             ]
            ],
            "type": "heatmapgl"
           }
          ],
          "histogram": [
           {
            "marker": {
             "line": {
              "color": "white",
              "width": 0.6
             }
            },
            "type": "histogram"
           }
          ],
          "histogram2d": [
           {
            "colorbar": {
             "outlinewidth": 1,
             "tickcolor": "rgb(36,36,36)",
             "ticks": "outside"
            },
            "colorscale": [
             [
              0,
              "#440154"
             ],
             [
              0.1111111111111111,
              "#482878"
             ],
             [
              0.2222222222222222,
              "#3e4989"
             ],
             [
              0.3333333333333333,
              "#31688e"
             ],
             [
              0.4444444444444444,
              "#26828e"
             ],
             [
              0.5555555555555556,
              "#1f9e89"
             ],
             [
              0.6666666666666666,
              "#35b779"
             ],
             [
              0.7777777777777778,
              "#6ece58"
             ],
             [
              0.8888888888888888,
              "#b5de2b"
             ],
             [
              1,
              "#fde725"
             ]
            ],
            "type": "histogram2d"
           }
          ],
          "histogram2dcontour": [
           {
            "colorbar": {
             "outlinewidth": 1,
             "tickcolor": "rgb(36,36,36)",
             "ticks": "outside"
            },
            "colorscale": [
             [
              0,
              "#440154"
             ],
             [
              0.1111111111111111,
              "#482878"
             ],
             [
              0.2222222222222222,
              "#3e4989"
             ],
             [
              0.3333333333333333,
              "#31688e"
             ],
             [
              0.4444444444444444,
              "#26828e"
             ],
             [
              0.5555555555555556,
              "#1f9e89"
             ],
             [
              0.6666666666666666,
              "#35b779"
             ],
             [
              0.7777777777777778,
              "#6ece58"
             ],
             [
              0.8888888888888888,
              "#b5de2b"
             ],
             [
              1,
              "#fde725"
             ]
            ],
            "type": "histogram2dcontour"
           }
          ],
          "mesh3d": [
           {
            "colorbar": {
             "outlinewidth": 1,
             "tickcolor": "rgb(36,36,36)",
             "ticks": "outside"
            },
            "type": "mesh3d"
           }
          ],
          "parcoords": [
           {
            "line": {
             "colorbar": {
              "outlinewidth": 1,
              "tickcolor": "rgb(36,36,36)",
              "ticks": "outside"
             }
            },
            "type": "parcoords"
           }
          ],
          "pie": [
           {
            "automargin": true,
            "type": "pie"
           }
          ],
          "scatter": [
           {
            "fillpattern": {
             "fillmode": "overlay",
             "size": 10,
             "solidity": 0.2
            },
            "type": "scatter"
           }
          ],
          "scatter3d": [
           {
            "line": {
             "colorbar": {
              "outlinewidth": 1,
              "tickcolor": "rgb(36,36,36)",
              "ticks": "outside"
             }
            },
            "marker": {
             "colorbar": {
              "outlinewidth": 1,
              "tickcolor": "rgb(36,36,36)",
              "ticks": "outside"
             }
            },
            "type": "scatter3d"
           }
          ],
          "scattercarpet": [
           {
            "marker": {
             "colorbar": {
              "outlinewidth": 1,
              "tickcolor": "rgb(36,36,36)",
              "ticks": "outside"
             }
            },
            "type": "scattercarpet"
           }
          ],
          "scattergeo": [
           {
            "marker": {
             "colorbar": {
              "outlinewidth": 1,
              "tickcolor": "rgb(36,36,36)",
              "ticks": "outside"
             }
            },
            "type": "scattergeo"
           }
          ],
          "scattergl": [
           {
            "marker": {
             "colorbar": {
              "outlinewidth": 1,
              "tickcolor": "rgb(36,36,36)",
              "ticks": "outside"
             }
            },
            "type": "scattergl"
           }
          ],
          "scattermapbox": [
           {
            "marker": {
             "colorbar": {
              "outlinewidth": 1,
              "tickcolor": "rgb(36,36,36)",
              "ticks": "outside"
             }
            },
            "type": "scattermapbox"
           }
          ],
          "scatterpolar": [
           {
            "marker": {
             "colorbar": {
              "outlinewidth": 1,
              "tickcolor": "rgb(36,36,36)",
              "ticks": "outside"
             }
            },
            "type": "scatterpolar"
           }
          ],
          "scatterpolargl": [
           {
            "marker": {
             "colorbar": {
              "outlinewidth": 1,
              "tickcolor": "rgb(36,36,36)",
              "ticks": "outside"
             }
            },
            "type": "scatterpolargl"
           }
          ],
          "scatterternary": [
           {
            "marker": {
             "colorbar": {
              "outlinewidth": 1,
              "tickcolor": "rgb(36,36,36)",
              "ticks": "outside"
             }
            },
            "type": "scatterternary"
           }
          ],
          "surface": [
           {
            "colorbar": {
             "outlinewidth": 1,
             "tickcolor": "rgb(36,36,36)",
             "ticks": "outside"
            },
            "colorscale": [
             [
              0,
              "#440154"
             ],
             [
              0.1111111111111111,
              "#482878"
             ],
             [
              0.2222222222222222,
              "#3e4989"
             ],
             [
              0.3333333333333333,
              "#31688e"
             ],
             [
              0.4444444444444444,
              "#26828e"
             ],
             [
              0.5555555555555556,
              "#1f9e89"
             ],
             [
              0.6666666666666666,
              "#35b779"
             ],
             [
              0.7777777777777778,
              "#6ece58"
             ],
             [
              0.8888888888888888,
              "#b5de2b"
             ],
             [
              1,
              "#fde725"
             ]
            ],
            "type": "surface"
           }
          ],
          "table": [
           {
            "cells": {
             "fill": {
              "color": "rgb(237,237,237)"
             },
             "line": {
              "color": "white"
             }
            },
            "header": {
             "fill": {
              "color": "rgb(217,217,217)"
             },
             "line": {
              "color": "white"
             }
            },
            "type": "table"
           }
          ]
         },
         "layout": {
          "annotationdefaults": {
           "arrowhead": 0,
           "arrowwidth": 1
          },
          "autotypenumbers": "strict",
          "coloraxis": {
           "colorbar": {
            "outlinewidth": 1,
            "tickcolor": "rgb(36,36,36)",
            "ticks": "outside"
           }
          },
          "colorscale": {
           "diverging": [
            [
             0,
             "rgb(103,0,31)"
            ],
            [
             0.1,
             "rgb(178,24,43)"
            ],
            [
             0.2,
             "rgb(214,96,77)"
            ],
            [
             0.3,
             "rgb(244,165,130)"
            ],
            [
             0.4,
             "rgb(253,219,199)"
            ],
            [
             0.5,
             "rgb(247,247,247)"
            ],
            [
             0.6,
             "rgb(209,229,240)"
            ],
            [
             0.7,
             "rgb(146,197,222)"
            ],
            [
             0.8,
             "rgb(67,147,195)"
            ],
            [
             0.9,
             "rgb(33,102,172)"
            ],
            [
             1,
             "rgb(5,48,97)"
            ]
           ],
           "sequential": [
            [
             0,
             "#440154"
            ],
            [
             0.1111111111111111,
             "#482878"
            ],
            [
             0.2222222222222222,
             "#3e4989"
            ],
            [
             0.3333333333333333,
             "#31688e"
            ],
            [
             0.4444444444444444,
             "#26828e"
            ],
            [
             0.5555555555555556,
             "#1f9e89"
            ],
            [
             0.6666666666666666,
             "#35b779"
            ],
            [
             0.7777777777777778,
             "#6ece58"
            ],
            [
             0.8888888888888888,
             "#b5de2b"
            ],
            [
             1,
             "#fde725"
            ]
           ],
           "sequentialminus": [
            [
             0,
             "#440154"
            ],
            [
             0.1111111111111111,
             "#482878"
            ],
            [
             0.2222222222222222,
             "#3e4989"
            ],
            [
             0.3333333333333333,
             "#31688e"
            ],
            [
             0.4444444444444444,
             "#26828e"
            ],
            [
             0.5555555555555556,
             "#1f9e89"
            ],
            [
             0.6666666666666666,
             "#35b779"
            ],
            [
             0.7777777777777778,
             "#6ece58"
            ],
            [
             0.8888888888888888,
             "#b5de2b"
            ],
            [
             1,
             "#fde725"
            ]
           ]
          },
          "colorway": [
           "#1F77B4",
           "#FF7F0E",
           "#2CA02C",
           "#D62728",
           "#9467BD",
           "#8C564B",
           "#E377C2",
           "#7F7F7F",
           "#BCBD22",
           "#17BECF"
          ],
          "font": {
           "color": "rgb(36,36,36)"
          },
          "geo": {
           "bgcolor": "white",
           "lakecolor": "white",
           "landcolor": "white",
           "showlakes": true,
           "showland": true,
           "subunitcolor": "white"
          },
          "hoverlabel": {
           "align": "left"
          },
          "hovermode": "closest",
          "mapbox": {
           "style": "light"
          },
          "paper_bgcolor": "white",
          "plot_bgcolor": "white",
          "polar": {
           "angularaxis": {
            "gridcolor": "rgb(232,232,232)",
            "linecolor": "rgb(36,36,36)",
            "showgrid": false,
            "showline": true,
            "ticks": "outside"
           },
           "bgcolor": "white",
           "radialaxis": {
            "gridcolor": "rgb(232,232,232)",
            "linecolor": "rgb(36,36,36)",
            "showgrid": false,
            "showline": true,
            "ticks": "outside"
           }
          },
          "scene": {
           "xaxis": {
            "backgroundcolor": "white",
            "gridcolor": "rgb(232,232,232)",
            "gridwidth": 2,
            "linecolor": "rgb(36,36,36)",
            "showbackground": true,
            "showgrid": false,
            "showline": true,
            "ticks": "outside",
            "zeroline": false,
            "zerolinecolor": "rgb(36,36,36)"
           },
           "yaxis": {
            "backgroundcolor": "white",
            "gridcolor": "rgb(232,232,232)",
            "gridwidth": 2,
            "linecolor": "rgb(36,36,36)",
            "showbackground": true,
            "showgrid": false,
            "showline": true,
            "ticks": "outside",
            "zeroline": false,
            "zerolinecolor": "rgb(36,36,36)"
           },
           "zaxis": {
            "backgroundcolor": "white",
            "gridcolor": "rgb(232,232,232)",
            "gridwidth": 2,
            "linecolor": "rgb(36,36,36)",
            "showbackground": true,
            "showgrid": false,
            "showline": true,
            "ticks": "outside",
            "zeroline": false,
            "zerolinecolor": "rgb(36,36,36)"
           }
          },
          "shapedefaults": {
           "fillcolor": "black",
           "line": {
            "width": 0
           },
           "opacity": 0.3
          },
          "ternary": {
           "aaxis": {
            "gridcolor": "rgb(232,232,232)",
            "linecolor": "rgb(36,36,36)",
            "showgrid": false,
            "showline": true,
            "ticks": "outside"
           },
           "baxis": {
            "gridcolor": "rgb(232,232,232)",
            "linecolor": "rgb(36,36,36)",
            "showgrid": false,
            "showline": true,
            "ticks": "outside"
           },
           "bgcolor": "white",
           "caxis": {
            "gridcolor": "rgb(232,232,232)",
            "linecolor": "rgb(36,36,36)",
            "showgrid": false,
            "showline": true,
            "ticks": "outside"
           }
          },
          "title": {
           "x": 0.05
          },
          "xaxis": {
           "automargin": true,
           "gridcolor": "rgb(232,232,232)",
           "linecolor": "rgb(36,36,36)",
           "showgrid": false,
           "showline": true,
           "ticks": "outside",
           "title": {
            "standoff": 15
           },
           "zeroline": false,
           "zerolinecolor": "rgb(36,36,36)"
          },
          "yaxis": {
           "automargin": true,
           "gridcolor": "rgb(232,232,232)",
           "linecolor": "rgb(36,36,36)",
           "showgrid": false,
           "showline": true,
           "ticks": "outside",
           "title": {
            "standoff": 15
           },
           "zeroline": false,
           "zerolinecolor": "rgb(36,36,36)"
          }
         }
        },
        "title": {
         "font": {
          "color": "Black",
          "size": 22
         },
         "text": "<b>Documents and Topics</b>",
         "x": 0.5,
         "xanchor": "center",
         "yanchor": "top"
        },
        "width": 1200,
        "xaxis": {
         "visible": false
        },
        "yaxis": {
         "visible": false
        }
       }
      }
     },
     "metadata": {},
     "output_type": "display_data"
    }
   ],
   "source": [
    "topic_model.visualize_documents(docs, embeddings=embeddings)"
   ]
  }
 ],
 "metadata": {
  "kernelspec": {
   "display_name": ".venv",
   "language": "python",
   "name": "python3"
  },
  "language_info": {
   "codemirror_mode": {
    "name": "ipython",
    "version": 3
   },
   "file_extension": ".py",
   "mimetype": "text/x-python",
   "name": "python",
   "nbconvert_exporter": "python",
   "pygments_lexer": "ipython3",
   "version": "3.11.6"
  }
 },
 "nbformat": 4,
 "nbformat_minor": 2
}
