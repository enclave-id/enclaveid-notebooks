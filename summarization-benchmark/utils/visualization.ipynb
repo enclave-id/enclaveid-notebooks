{
 "cells": [
  {
   "cell_type": "code",
   "execution_count": 48,
   "metadata": {},
   "outputs": [],
   "source": [
    "categories = [\n",
    "    \"Transportation and Travel Planning\",\n",
    "    \"Curiosity and General Knowledge\",\n",
    "    \"Entertainment and Leisure\",\n",
    "    \"Shopping and Product Research\",\n",
    "    \"Health and Personal Care\",\n",
    "    \"Food and Cooking\",\n",
    "    \"News and Current Events\",\n",
    "    \"Work and Professional Interests\",\n",
    "    \"Social Media and Relationships\",\n",
    "    \"Miscellaneous Immediate Needs and Tasks\"\n",
    "]"
   ]
  },
  {
   "cell_type": "code",
   "execution_count": 49,
   "metadata": {},
   "outputs": [
    {
     "name": "stderr",
     "output_type": "stream",
     "text": [
      "/tmp/ipykernel_71045/1671703568.py:14: UserWarning:\n",
      "\n",
      "Could not infer format, so each element will be parsed individually, falling back to `dateutil`. To ensure parsing is consistent and as-expected, please specify a format.\n",
      "\n"
     ]
    }
   ],
   "source": [
    "import json\n",
    "import pandas as pd\n",
    "import random\n",
    "\n",
    "with open('summaries/reactive.json', 'r') as file:\n",
    "    d = json.loads(file.read())   \n",
    "\n",
    "datapoints = []\n",
    "for k in d.keys():\n",
    "    for item in d[k]:\n",
    "        datapoints.append({**item, \"date\": k, \"category\": random.choice(categories)})\n",
    "\n",
    "df = pd.DataFrame(datapoints)\n",
    "df.time_start = pd.to_datetime(df.time_start)\n",
    "df.sort_values(by=['time_start'], inplace=True, ascending=True)"
   ]
  },
  {
   "cell_type": "code",
   "execution_count": 51,
   "metadata": {},
   "outputs": [
    {
     "data": {
      "application/vnd.plotly.v1+json": {
       "config": {
        "plotlyServerURL": "https://plot.ly"
       },
       "data": [
        {
         "hovertemplate": "<b>%{hovertext}</b><br><br>category=Work and Professional Interests<br>date=%{x}<br>time_start=%{y}<extra></extra>",
         "hovertext": [
          "Immediate clarification on rhum vs whisky, likely a quick information need.",
          "Searches for information regarding leaving notice periods indicate a need to understand immediate employment obligations.",
          "Exploring the new Apple M2 chip suggests a spontaneous interest prompted by recent product news.",
          "Comparing fintech services for immediate decision-making, such as choosing a service provider.",
          "Searching for weather information, likely for immediate or near-future travel plans or activities.",
          "Searching 'dating a taller girl' could be a reaction to a current personal situation.",
          "A search that might have been prompted by recent considerations about education options or discussions.",
          "Likely responding to an immediate task requiring image editing.",
          "Reacting to a trending meme or current event on social media.",
          "Looking up information about a singer and actors, possibly in immediate reaction to watching a show or developing interest in the performers.",
          "Looking for advice on dealing with a specific, immediate social situation.",
          "Reactive search due to experiencing symptoms or knowledge of someone who is, needing immediate health-related information.",
          "Looking for entertainment options to engage with in the near future.",
          "Gathering information on a board game suggests planning for immediate leisure or strategic gameplay."
         ],
         "legendgroup": "Work and Professional Interests",
         "marker": {
          "color": "#636efa",
          "symbol": "circle"
         },
         "mode": "markers",
         "name": "Work and Professional Interests",
         "orientation": "v",
         "showlegend": true,
         "type": "scatter",
         "x": [
          "2023-04-29",
          "2023-04-18",
          "2023-04-18",
          "2023-04-17",
          "2023-04-06",
          "2023-04-27",
          "2023-04-23",
          "2023-04-04",
          "2023-04-15",
          "2023-04-27",
          "2023-04-29",
          "2023-04-25",
          "2023-04-30",
          "2023-04-18"
         ],
         "xaxis": "x",
         "y": [
          "2023-11-14T00:24:00",
          "2023-11-14T07:28:00",
          "2023-11-14T07:35:00",
          "2023-11-14T08:44:00",
          "2023-11-14T12:04:00",
          "2023-11-14T13:34:00",
          "2023-11-14T14:46:00",
          "2023-11-14T15:53:00",
          "2023-11-14T16:51:00",
          "2023-11-14T17:58:00",
          "2023-11-14T19:13:00",
          "2023-11-14T19:22:00",
          "2023-11-14T19:34:00",
          "2023-11-14T20:12:00"
         ],
         "yaxis": "y"
        },
        {
         "hovertemplate": "<b>%{hovertext}</b><br><br>category=Entertainment and Leisure<br>date=%{x}<br>time_start=%{y}<extra></extra>",
         "hovertext": [
          "Converting mph to kmh for an immediate need or query.",
          "Finding out options for traveling with a bicycle on the RER C train line in Paris.",
          "Looking up the term 'dow' possibly after encountering it in a game.",
          "Immediate response to a platform block or prompt.",
          "Immediate need or desire indicated by the specific search for car models and used options.",
          "Could be a reactive search related to a recent event or a current discussion topic.",
          "Looking up recipes for fajitas, suggesting an immediate interest in meal preparation.",
          "Finding out the time of the sunset in Paris, likely for daily planning purposes.",
          "Knowledge seeking for identification of a spider, indicative of an immediate reactive search.",
          "Near-term planning for social activities and exploring locations for leisure."
         ],
         "legendgroup": "Entertainment and Leisure",
         "marker": {
          "color": "#EF553B",
          "symbol": "circle"
         },
         "mode": "markers",
         "name": "Entertainment and Leisure",
         "orientation": "v",
         "showlegend": true,
         "type": "scatter",
         "x": [
          "2023-04-29",
          "2023-04-21",
          "2023-04-07",
          "2023-04-26",
          "2023-04-02",
          "2023-04-01",
          "2023-04-17",
          "2023-04-03",
          "2023-04-17",
          "2023-04-24"
         ],
         "xaxis": "x",
         "y": [
          "2023-11-14T01:01:00",
          "2023-11-14T08:12:00",
          "2023-11-14T09:16:00",
          "2023-11-14T14:42:00",
          "2023-11-14T15:09:00",
          "2023-11-14T15:39:00",
          "2023-11-14T16:17:00",
          "2023-11-14T17:22:00",
          "2023-11-14T21:25:00",
          "2023-11-14T22:09:00"
         ],
         "yaxis": "y"
        },
        {
         "hovertemplate": "<b>%{hovertext}</b><br><br>category=Miscellaneous Immediate Needs and Tasks<br>date=%{x}<br>time_start=%{y}<extra></extra>",
         "hovertext": [
          "Immediate financial calculations possibly for a specific need or prompt.",
          "Immediate need to know the day's weather in Paris for planning purposes.",
          "Checking the weather for Paris likely for planning the day's activities.",
          "A one-time event planning search likely in response to recent decision or opportunity to visit the park.",
          "Detailed searches about purchasing 'Here I Stand' including pricing and delivery options.",
          "Searching for bus lines in Treviso, possibly related to immediate travel plans or local transportation needs.",
          "Searches related to Paris-Beauvais airport and shuttle services for immediate travel plans or transport requirements.",
          "Converting height measurements on Bumble from one unit system to another.",
          "User seeking immediate translation and information on a cultural term or personality.",
          "Exploring LifeX and co-living spaces, indicating a possible immediate interest in living arrangement changes.",
          "Searches related to the weather in Paris, indicating an immediate need for weather information",
          "Seeking immediate weather information for Paris and understanding bicycle policies for subway transit.",
          "Finding recipes for immediate cooking needs, indicating a short-term intent.",
          "Immediate reaction to news or stock market activity.",
          "Immediate health-related searches concerning collarbone and hearing aids.",
          "Searches related to bicycle purchases or repairs show an immediate response to a transportation need or a new interest in cycling.",
          "Comparing population stats possibly due to recent conversation or for immediate comparison purposes.",
          "Viewing information about Plaza de Mayo, possibly needed for a trip, discussion, or paper.",
          "Reacting to immediate health concerns or symptoms experienced."
         ],
         "legendgroup": "Miscellaneous Immediate Needs and Tasks",
         "marker": {
          "color": "#00cc96",
          "symbol": "circle"
         },
         "mode": "markers",
         "name": "Miscellaneous Immediate Needs and Tasks",
         "orientation": "v",
         "showlegend": true,
         "type": "scatter",
         "x": [
          "2023-04-26",
          "2023-04-04",
          "2023-04-17",
          "2023-04-16",
          "2023-04-03",
          "2023-04-10",
          "2023-04-11",
          "2023-04-14",
          "2023-04-05",
          "2023-04-28",
          "2023-04-19",
          "2023-04-14",
          "2023-04-15",
          "2023-04-26",
          "2023-04-07",
          "2023-04-22",
          "2023-04-30",
          "2023-04-20",
          "2023-04-04"
         ],
         "xaxis": "x",
         "y": [
          "2023-11-14T05:23:00",
          "2023-11-14T06:45:00",
          "2023-11-14T06:55:00",
          "2023-11-14T07:21:00",
          "2023-11-14T07:50:00",
          "2023-11-14T08:26:00",
          "2023-11-14T08:37:00",
          "2023-11-14T10:25:00",
          "2023-11-14T12:01:00",
          "2023-11-14T12:13:00",
          "2023-11-14T12:30:00",
          "2023-11-14T14:33:00",
          "2023-11-14T14:39:00",
          "2023-11-14T16:27:00",
          "2023-11-14T16:58:00",
          "2023-11-14T17:20:00",
          "2023-11-14T18:06:00",
          "2023-11-14T20:49:00",
          "2023-11-14T22:10:00"
         ],
         "yaxis": "y"
        },
        {
         "hovertemplate": "<b>%{hovertext}</b><br><br>category=Transportation and Travel Planning<br>date=%{x}<br>time_start=%{y}<extra></extra>",
         "hovertext": [
          "Adjusting Bumble profile settings in response to an app prompt or particular need.",
          "Searching for bars and weather in Paris, likely in response to immediate plans, such as an outing or an activity.",
          "Research on web crawling tools and Scrapy for immediate coding and project needs.",
          "Looking up how to handle file overriding in Python, likely related to an immediate coding task.",
          "User appears to be searching for travel options, potentially booking flights.",
          "Potentially triggered by news article or media mention.",
          "Checks weather conditions in Paris, indicative of planning for the day or travel.",
          "The look-up for Mullvad VPN hints at a concern for personal online privacy that likely requires attention in the short term.",
          "Seeking information on 'laxative lactulose' for an immediate health concern.",
          "Immediate searches for achieving particular tasks or addressing issues within SQL queries using Presto.",
          "Making a booking at a restaurant or service responding to immediate need.",
          "Looking up information about pilonidal cysts, including symptoms and treatments, indicates a health concern requiring timely attention.",
          "Searching for a person on Instagram and information about a machine potentially related to work.",
          "Reading about the unique story of Wojtek the bear out of personal interest.",
          "Curiosity or decision about what beverage to consume, indicative of a short-term action.",
          "Immediate meal planning or cooking activity.",
          "Comparing dating apps such as Hinge and Bumble, indicating an immediate social or personal curiosity."
         ],
         "legendgroup": "Transportation and Travel Planning",
         "marker": {
          "color": "#ab63fa",
          "symbol": "circle"
         },
         "mode": "markers",
         "name": "Transportation and Travel Planning",
         "orientation": "v",
         "showlegend": true,
         "type": "scatter",
         "x": [
          "2023-04-14",
          "2023-04-27",
          "2023-04-17",
          "2023-04-17",
          "2023-04-05",
          "2023-04-02",
          "2023-04-22",
          "2023-04-18",
          "2023-04-28",
          "2023-04-24",
          "2023-04-04",
          "2023-04-11",
          "2023-04-04",
          "2023-04-21",
          "2023-04-25",
          "2023-04-16",
          "2023-04-21"
         ],
         "xaxis": "x",
         "y": [
          "2023-11-14T05:43:00",
          "2023-11-14T07:08:00",
          "2023-11-14T07:13:00",
          "2023-11-14T07:46:00",
          "2023-11-14T08:32:00",
          "2023-11-14T09:05:00",
          "2023-11-14T10:09:00",
          "2023-11-14T11:23:00",
          "2023-11-14T12:44:00",
          "2023-11-14T14:09:00",
          "2023-11-14T16:31:00",
          "2023-11-14T16:35:00",
          "2023-11-14T17:01:00",
          "2023-11-14T17:45:00",
          "2023-11-14T19:31:00",
          "2023-11-14T20:28:00",
          "2023-11-14T23:32:00"
         ],
         "yaxis": "y"
        },
        {
         "hovertemplate": "<b>%{hovertext}</b><br><br>category=Social Media and Relationships<br>date=%{x}<br>time_start=%{y}<extra></extra>",
         "hovertext": [
          "Looking up immediate travel information or location details for Punta Sabbioni.",
          "Quick search possibly related to an immediate purchase decision or need.",
          "Planning for a possible outing soon.",
          "Needed immediate information on GPT input limitations for a task.",
          "Seeking advice on how to handle exercising while experiencing sore muscles, responsive to a physical condition.",
          "A health-related inquiry likely followed by immediate application on the daily dosage of vitamin D3.",
          "Immediate searches related to job hunting or LinkedIn profile adjustments.",
          "User is responding to immediate needs of tracking the status of an online order.",
          "Looking up individuals like 'gretamaso' and Julia Selemet on LinkedIn, Instagram, and TikTok, potentially in response to a recent reference or interaction.",
          "Inquiring about Moderna represents a search likely triggered by current health discussions or events.",
          "Likely a search due to immediate hunger or interest in finding hotpot-related dining options or recipes.",
          "Another instance of checking the weather in Paris, likely due to planning needs.",
          "Investigation of Mafia-related films possibly prompted by a recent conversation or event.",
          "Prompted by gaming activities or community discussion for immediate follow-up.",
          "Browsing information related to Hasbro, Stephen Curry, and Westbrook may be in response to news or recent events."
         ],
         "legendgroup": "Social Media and Relationships",
         "marker": {
          "color": "#FFA15A",
          "symbol": "circle"
         },
         "mode": "markers",
         "name": "Social Media and Relationships",
         "orientation": "v",
         "showlegend": true,
         "type": "scatter",
         "x": [
          "2023-04-28",
          "2023-04-20",
          "2023-04-30",
          "2023-04-17",
          "2023-04-18",
          "2023-04-24",
          "2023-04-29",
          "2023-04-03",
          "2023-04-09",
          "2023-04-18",
          "2023-04-23",
          "2023-04-13",
          "2023-04-23",
          "2023-04-25",
          "2023-04-03"
         ],
         "xaxis": "x",
         "y": [
          "2023-11-14T06:16:00",
          "2023-11-14T07:08:00",
          "2023-11-14T07:29:00",
          "2023-11-14T07:50:00",
          "2023-11-14T10:04:00",
          "2023-11-14T11:05:00",
          "2023-11-14T11:54:00",
          "2023-11-14T14:19:00",
          "2023-11-14T15:37:00",
          "2023-11-14T17:30:00",
          "2023-11-14T17:33:00",
          "2023-11-14T19:12:00",
          "2023-11-14T19:19:00",
          "2023-11-14T19:44:00",
          "2023-11-14T21:54:00"
         ],
         "yaxis": "y"
        },
        {
         "hovertemplate": "<b>%{hovertext}</b><br><br>category=Health and Personal Care<br>date=%{x}<br>time_start=%{y}<extra></extra>",
         "hovertext": [
          "User seeking immediate, current information possibly for practical decision-making or curiosity.",
          "Immediate search for a specific location in Paris, potentially for short-term planning of a visit or commutation.",
          "Research for an immediate technical problem or need regarding daisy chaining.",
          "Checking Paris weather conditions and researching 'anti rain cannon' for immediate practical reasons.",
          "Searches for recent articles, discussions, and memes like 'wazzup Beijing', responding to immediate curiosity or exposure.",
          "Searches about yellow ducks, and why doves coo suggest immediate stimuli or short-lived curiosity.",
          "Searching the term 'dindiot,' likely a reactive search due to immediate curiosity or misunderstanding.",
          "Queries for specific tools needed for call transcription and data visualization, possibly for an urgent project requirement.",
          "Using Flightradar24 and searching for an airport name indicates immediate travel curiosity or need for logistical information.",
          "Seeking up-to-date information on EU countries' inflation rates, likely for immediate use.",
          "Researching for immediate culinary interests such as finding a patisserie or planning a meal.",
          "Checks return policy of Victoria's Secret, likely due to a recent purchase or considering making a return.",
          "Searching for specific information on 'A Plague Tale' game for immediate knowledge.",
          "Likely responding to a recommendation or seeking immediate entertainment.",
          "User is looking for strategies and rules for an imminent game session.",
          "Checking travel advisories for Russia due to current events or immediate travel consideration."
         ],
         "legendgroup": "Health and Personal Care",
         "marker": {
          "color": "#19d3f3",
          "symbol": "circle"
         },
         "mode": "markers",
         "name": "Health and Personal Care",
         "orientation": "v",
         "showlegend": true,
         "type": "scatter",
         "x": [
          "2023-04-05",
          "2023-04-18",
          "2023-04-07",
          "2023-04-28",
          "2023-04-22",
          "2023-04-01",
          "2023-04-09",
          "2023-04-24",
          "2023-04-13",
          "2023-04-20",
          "2023-04-20",
          "2023-04-22",
          "2023-04-17",
          "2023-04-25",
          "2023-04-05",
          "2023-04-15"
         ],
         "xaxis": "x",
         "y": [
          "2023-11-14T06:35:00",
          "2023-11-14T07:36:00",
          "2023-11-14T07:57:00",
          "2023-11-14T07:58:00",
          "2023-11-14T10:19:00",
          "2023-11-14T10:24:00",
          "2023-11-14T11:58:00",
          "2023-11-14T12:26:00",
          "2023-11-14T15:04:00",
          "2023-11-14T17:03:00",
          "2023-11-14T17:35:00",
          "2023-11-14T18:22:00",
          "2023-11-14T19:06:00",
          "2023-11-14T19:47:00",
          "2023-11-14T21:14:00",
          "2023-11-14T22:02:00"
         ],
         "yaxis": "y"
        },
        {
         "hovertemplate": "<b>%{hovertext}</b><br><br>category=Shopping and Product Research<br>date=%{x}<br>time_start=%{y}<extra></extra>",
         "hovertext": [
          "Looking up lyrics for a song the user is currently listening to or wants to understand.",
          "Lookup of an individual named Chioma Menankiti, possibly triggered by a recent mention or encounter.",
          "The user looking up terms possibly related to music or a specific topic of interest triggered by a recent event.",
          "Checking the weather in Paris, a common reactive task based on daily plans.",
          "Looking up a term to describe a frequent complainer could be in response to a specific conversation or social interaction.",
          "Inquiring about how to reach Paris-Beauvais Airport, indicating imminent travel.",
          "Immediate search to understand a term encountered in conversation or reading material.",
          "Looking for immediate options for local transportation from Beauvais SNCF to the airport and bus tickets.",
          "Finding a recipe ('sarde in saor') and the French term for a tank top ('canottiera in francese') likely for a near-term cooking experience or dressing up for an event.",
          "Reactive clarification of a term for immediate understanding or use.",
          "Immediate desire to obtain more information after hearing about the film or actor.",
          "Looking up company profiles on Crunchbase in response to recent events or for quick assessments.",
          "Immediate search related to finding entertainment options for the day.",
          "User is looking for immediate housing options, indicating a short-term need.",
          "Looking for a recipe on preparing asparagus, indicating a plan to cook in the near future.",
          "Seeking streaming options for movies and the TV series 'The White Lotus', and searching for associated actors, indicative of a desire for immediate entertainment.",
          "Immediate troubleshooting or information seeking for a work process.",
          "Searches for safety concerns and functionality of electric heaters, suggesting an immediate concern or recent purchase"
         ],
         "legendgroup": "Shopping and Product Research",
         "marker": {
          "color": "#FF6692",
          "symbol": "circle"
         },
         "mode": "markers",
         "name": "Shopping and Product Research",
         "orientation": "v",
         "showlegend": true,
         "type": "scatter",
         "x": [
          "2023-04-06",
          "2023-04-13",
          "2023-04-12",
          "2023-04-13",
          "2023-04-13",
          "2023-04-06",
          "2023-04-25",
          "2023-04-07",
          "2023-04-14",
          "2023-04-26",
          "2023-04-30",
          "2023-04-28",
          "2023-04-02",
          "2023-04-05",
          "2023-04-20",
          "2023-04-10",
          "2023-04-17",
          "2023-04-19"
         ],
         "xaxis": "x",
         "y": [
          "2023-11-14T06:44:00",
          "2023-11-14T09:19:00",
          "2023-11-14T09:50:00",
          "2023-11-14T11:51:00",
          "2023-11-14T13:39:00",
          "2023-11-14T14:26:00",
          "2023-11-14T14:29:00",
          "2023-11-14T15:23:00",
          "2023-11-14T16:08:00",
          "2023-11-14T16:10:00",
          "2023-11-14T16:41:00",
          "2023-11-14T16:47:00",
          "2023-11-14T17:15:00",
          "2023-11-14T17:39:00",
          "2023-11-14T18:04:00",
          "2023-11-14T18:58:00",
          "2023-11-14T20:57:00",
          "2023-11-14T23:02:00"
         ],
         "yaxis": "y"
        },
        {
         "hovertemplate": "<b>%{hovertext}</b><br><br>category=Curiosity and General Knowledge<br>date=%{x}<br>time_start=%{y}<extra></extra>",
         "hovertext": [
          "Seeking immediate understanding possibly due to a recent event, discussion, or academic need.",
          "Looking into athletes' dating experiences and reasons colleges seek athletes, which might be in response to a recent conversation or personal situation.",
          "Searches related to a specific game or gamer, likely a response to immediate interest or conversation.",
          "Inquiring about the muscles involved in pull-ups, likely related to exercise activity.",
          "Looking up shipping from Romania to Italy, related to immediate plans for receiving a game.",
          "Searching for humor related to Winston Churchill, possibly sparked by a social media post or conversation.",
          "Searches for a fitness app to assist with a workout regime represent an immediate need for tools to support personal fitness.",
          "Looking up a recipe for 'frittata agli spinaci', likely responding to the need to prepare a meal in the near term.",
          "Searching for the charging time for an electric bike indicates an immediate need to use the bike.",
          "User checking the weather, indicating an immediate need for weather information, likely for travel or daily planning.",
          "Possibly a reaction to encountering the term or brand, looking for immediate information about Amorino.",
          "Searching for coworking spaces in Paris for an immediate workplace requirement."
         ],
         "legendgroup": "Curiosity and General Knowledge",
         "marker": {
          "color": "#B6E880",
          "symbol": "circle"
         },
         "mode": "markers",
         "name": "Curiosity and General Knowledge",
         "orientation": "v",
         "showlegend": true,
         "type": "scatter",
         "x": [
          "2023-04-25",
          "2023-04-10",
          "2023-04-12",
          "2023-04-21",
          "2023-04-03",
          "2023-04-09",
          "2023-04-18",
          "2023-04-27",
          "2023-04-13",
          "2023-04-12",
          "2023-04-23",
          "2023-04-21"
         ],
         "xaxis": "x",
         "y": [
          "2023-11-14T06:45:00",
          "2023-11-14T07:48:00",
          "2023-11-14T08:14:00",
          "2023-11-14T09:26:00",
          "2023-11-14T09:37:00",
          "2023-11-14T10:07:00",
          "2023-11-14T10:20:00",
          "2023-11-14T10:42:00",
          "2023-11-14T11:52:00",
          "2023-11-14T15:12:00",
          "2023-11-14T15:53:00",
          "2023-11-14T20:02:00"
         ],
         "yaxis": "y"
        },
        {
         "hovertemplate": "<b>%{hovertext}</b><br><br>category=Food and Cooking<br>date=%{x}<br>time_start=%{y}<extra></extra>",
         "hovertext": [
          "Searching for travel-related information within Venice like 'ponte venezia' for immediate navigation purposes.",
          "Likely a response to immediate fueling need.",
          "Seeking information on insoles likely for an immediate personal comfort need.",
          "Looking up translations for the word 'turkey' in French and English, possibly for immediate linguistic clarification.",
          "Searching for Antonio Garcia-Martinez on LinkedIn, likely for a prompt professional reason such as an upcoming meeting.",
          "Reactive searches related to 'Scott Pilgrim vs. The World' meme and artist Negative XP.",
          "A variety of searches that appear to be initiated by immediate curiosity or needs, including a product search, a software tool guide, a photography filter, and a Reddit thread.",
          "Immediate curiosity possibly stemming from a conversation or a direct question.",
          "Curiosity-driven research into Russian political figures, potentially due to a recent news item or discussion.",
          "A search for events reflecting spontaneous decision making.",
          "Looking up recent news about Twitter layoffs and checking passport strength for immediate knowledge.",
          "Immediate response to a specific program or content the user came across.",
          "Searching for France's heating restrictions possibly for immediate application or preparation.",
          "Looking up information on the epicanthic fold, likely driven by sudden interest or recent conversation about physical traits.",
          "Searching for an English-speaking board games event in Paris for immediate participation.",
          "Concerned search about a possible connection between acne and kidney health."
         ],
         "legendgroup": "Food and Cooking",
         "marker": {
          "color": "#FF97FF",
          "symbol": "circle"
         },
         "mode": "markers",
         "name": "Food and Cooking",
         "orientation": "v",
         "showlegend": true,
         "type": "scatter",
         "x": [
          "2023-04-28",
          "2023-04-02",
          "2023-04-07",
          "2023-04-09",
          "2023-04-11",
          "2023-04-07",
          "2023-04-06",
          "2023-04-25",
          "2023-04-24",
          "2023-04-02",
          "2023-04-14",
          "2023-04-30",
          "2023-04-14",
          "2023-04-22",
          "2023-04-15",
          "2023-04-15"
         ],
         "xaxis": "x",
         "y": [
          "2023-11-14T07:59:00",
          "2023-11-14T10:38:00",
          "2023-11-14T11:01:00",
          "2023-11-14T11:58:00",
          "2023-11-14T12:36:00",
          "2023-11-14T14:54:00",
          "2023-11-14T15:44:00",
          "2023-11-14T16:11:00",
          "2023-11-14T17:05:00",
          "2023-11-14T17:51:00",
          "2023-11-14T18:36:00",
          "2023-11-14T19:38:00",
          "2023-11-14T19:40:00",
          "2023-11-14T19:50:00",
          "2023-11-14T20:24:00",
          "2023-11-14T21:33:00"
         ],
         "yaxis": "y"
        },
        {
         "hovertemplate": "<b>%{hovertext}</b><br><br>category=News and Current Events<br>date=%{x}<br>time_start=%{y}<extra></extra>",
         "hovertext": [
          "Looking up current air quality data for Paris, New York City, and Venice, possibly due to travel concerns or current events impacting the user.",
          "Immediate interest or specific task-related search possibly for purchasing or investing.",
          "User searching for information on Paola Santana, possibly in reaction to a recent mention or event.",
          "Searching for transportation routes possibly for immediate transit needs in Malaga.",
          "Looking up information on Gmail's market share, perhaps for a work-related or current event query.",
          "Checking weather in specific cities, probably for short-term travel planning or daily activities.",
          "Immediate need to solve a Docker-related problem or translate technical content.",
          "Need for a TikZ renderer and SVG/HTML editors suggests an ongoing project requiring these tools.",
          "Spontaneous curiosity about the use of 'gonorrea' as an insult in Colombia.",
          "Investigating the Bumble app for potential dating or networking purposes is typically a reaction to social needs.",
          "Short-term interest in music content for entertainment or leisure.",
          "Looking into Uber Eats for ordering food, which is typically a response to an immediate need for a meal.",
          "Reactive checking of current events and news about Israel.",
          "Prompted by an immediate interest in the cuisine, potentially for meal planning.",
          "Searching for flight options for specific dates, indicating a need for scheduling travel.",
          "Looking up immediate technology-related questions about GPT-4 and tap directions."
         ],
         "legendgroup": "News and Current Events",
         "marker": {
          "color": "#FECB52",
          "symbol": "circle"
         },
         "mode": "markers",
         "name": "News and Current Events",
         "orientation": "v",
         "showlegend": true,
         "type": "scatter",
         "x": [
          "2023-04-10",
          "2023-04-17",
          "2023-04-12",
          "2023-04-01",
          "2023-04-20",
          "2023-04-29",
          "2023-04-16",
          "2023-04-13",
          "2023-04-16",
          "2023-04-13",
          "2023-04-16",
          "2023-04-06",
          "2023-04-07",
          "2023-04-30",
          "2023-04-21",
          "2023-04-15"
         ],
         "xaxis": "x",
         "y": [
          "2023-11-14T08:51:00",
          "2023-11-14T08:56:00",
          "2023-11-14T09:52:00",
          "2023-11-14T10:11:00",
          "2023-11-14T11:28:00",
          "2023-11-14T12:54:00",
          "2023-11-14T13:03:00",
          "2023-11-14T13:08:00",
          "2023-11-14T13:45:00",
          "2023-11-14T14:20:00",
          "2023-11-14T15:29:00",
          "2023-11-14T15:34:00",
          "2023-11-14T17:09:00",
          "2023-11-14T18:17:00",
          "2023-11-14T18:27:00",
          "2023-11-14T20:24:00"
         ],
         "yaxis": "y"
        }
       ],
       "layout": {
        "legend": {
         "title": {
          "text": "category"
         },
         "tracegroupgap": 0
        },
        "margin": {
         "t": 60
        },
        "template": {
         "data": {
          "bar": [
           {
            "error_x": {
             "color": "#2a3f5f"
            },
            "error_y": {
             "color": "#2a3f5f"
            },
            "marker": {
             "line": {
              "color": "#E5ECF6",
              "width": 0.5
             },
             "pattern": {
              "fillmode": "overlay",
              "size": 10,
              "solidity": 0.2
             }
            },
            "type": "bar"
           }
          ],
          "barpolar": [
           {
            "marker": {
             "line": {
              "color": "#E5ECF6",
              "width": 0.5
             },
             "pattern": {
              "fillmode": "overlay",
              "size": 10,
              "solidity": 0.2
             }
            },
            "type": "barpolar"
           }
          ],
          "carpet": [
           {
            "aaxis": {
             "endlinecolor": "#2a3f5f",
             "gridcolor": "white",
             "linecolor": "white",
             "minorgridcolor": "white",
             "startlinecolor": "#2a3f5f"
            },
            "baxis": {
             "endlinecolor": "#2a3f5f",
             "gridcolor": "white",
             "linecolor": "white",
             "minorgridcolor": "white",
             "startlinecolor": "#2a3f5f"
            },
            "type": "carpet"
           }
          ],
          "choropleth": [
           {
            "colorbar": {
             "outlinewidth": 0,
             "ticks": ""
            },
            "type": "choropleth"
           }
          ],
          "contour": [
           {
            "colorbar": {
             "outlinewidth": 0,
             "ticks": ""
            },
            "colorscale": [
             [
              0,
              "#0d0887"
             ],
             [
              0.1111111111111111,
              "#46039f"
             ],
             [
              0.2222222222222222,
              "#7201a8"
             ],
             [
              0.3333333333333333,
              "#9c179e"
             ],
             [
              0.4444444444444444,
              "#bd3786"
             ],
             [
              0.5555555555555556,
              "#d8576b"
             ],
             [
              0.6666666666666666,
              "#ed7953"
             ],
             [
              0.7777777777777778,
              "#fb9f3a"
             ],
             [
              0.8888888888888888,
              "#fdca26"
             ],
             [
              1,
              "#f0f921"
             ]
            ],
            "type": "contour"
           }
          ],
          "contourcarpet": [
           {
            "colorbar": {
             "outlinewidth": 0,
             "ticks": ""
            },
            "type": "contourcarpet"
           }
          ],
          "heatmap": [
           {
            "colorbar": {
             "outlinewidth": 0,
             "ticks": ""
            },
            "colorscale": [
             [
              0,
              "#0d0887"
             ],
             [
              0.1111111111111111,
              "#46039f"
             ],
             [
              0.2222222222222222,
              "#7201a8"
             ],
             [
              0.3333333333333333,
              "#9c179e"
             ],
             [
              0.4444444444444444,
              "#bd3786"
             ],
             [
              0.5555555555555556,
              "#d8576b"
             ],
             [
              0.6666666666666666,
              "#ed7953"
             ],
             [
              0.7777777777777778,
              "#fb9f3a"
             ],
             [
              0.8888888888888888,
              "#fdca26"
             ],
             [
              1,
              "#f0f921"
             ]
            ],
            "type": "heatmap"
           }
          ],
          "heatmapgl": [
           {
            "colorbar": {
             "outlinewidth": 0,
             "ticks": ""
            },
            "colorscale": [
             [
              0,
              "#0d0887"
             ],
             [
              0.1111111111111111,
              "#46039f"
             ],
             [
              0.2222222222222222,
              "#7201a8"
             ],
             [
              0.3333333333333333,
              "#9c179e"
             ],
             [
              0.4444444444444444,
              "#bd3786"
             ],
             [
              0.5555555555555556,
              "#d8576b"
             ],
             [
              0.6666666666666666,
              "#ed7953"
             ],
             [
              0.7777777777777778,
              "#fb9f3a"
             ],
             [
              0.8888888888888888,
              "#fdca26"
             ],
             [
              1,
              "#f0f921"
             ]
            ],
            "type": "heatmapgl"
           }
          ],
          "histogram": [
           {
            "marker": {
             "pattern": {
              "fillmode": "overlay",
              "size": 10,
              "solidity": 0.2
             }
            },
            "type": "histogram"
           }
          ],
          "histogram2d": [
           {
            "colorbar": {
             "outlinewidth": 0,
             "ticks": ""
            },
            "colorscale": [
             [
              0,
              "#0d0887"
             ],
             [
              0.1111111111111111,
              "#46039f"
             ],
             [
              0.2222222222222222,
              "#7201a8"
             ],
             [
              0.3333333333333333,
              "#9c179e"
             ],
             [
              0.4444444444444444,
              "#bd3786"
             ],
             [
              0.5555555555555556,
              "#d8576b"
             ],
             [
              0.6666666666666666,
              "#ed7953"
             ],
             [
              0.7777777777777778,
              "#fb9f3a"
             ],
             [
              0.8888888888888888,
              "#fdca26"
             ],
             [
              1,
              "#f0f921"
             ]
            ],
            "type": "histogram2d"
           }
          ],
          "histogram2dcontour": [
           {
            "colorbar": {
             "outlinewidth": 0,
             "ticks": ""
            },
            "colorscale": [
             [
              0,
              "#0d0887"
             ],
             [
              0.1111111111111111,
              "#46039f"
             ],
             [
              0.2222222222222222,
              "#7201a8"
             ],
             [
              0.3333333333333333,
              "#9c179e"
             ],
             [
              0.4444444444444444,
              "#bd3786"
             ],
             [
              0.5555555555555556,
              "#d8576b"
             ],
             [
              0.6666666666666666,
              "#ed7953"
             ],
             [
              0.7777777777777778,
              "#fb9f3a"
             ],
             [
              0.8888888888888888,
              "#fdca26"
             ],
             [
              1,
              "#f0f921"
             ]
            ],
            "type": "histogram2dcontour"
           }
          ],
          "mesh3d": [
           {
            "colorbar": {
             "outlinewidth": 0,
             "ticks": ""
            },
            "type": "mesh3d"
           }
          ],
          "parcoords": [
           {
            "line": {
             "colorbar": {
              "outlinewidth": 0,
              "ticks": ""
             }
            },
            "type": "parcoords"
           }
          ],
          "pie": [
           {
            "automargin": true,
            "type": "pie"
           }
          ],
          "scatter": [
           {
            "fillpattern": {
             "fillmode": "overlay",
             "size": 10,
             "solidity": 0.2
            },
            "type": "scatter"
           }
          ],
          "scatter3d": [
           {
            "line": {
             "colorbar": {
              "outlinewidth": 0,
              "ticks": ""
             }
            },
            "marker": {
             "colorbar": {
              "outlinewidth": 0,
              "ticks": ""
             }
            },
            "type": "scatter3d"
           }
          ],
          "scattercarpet": [
           {
            "marker": {
             "colorbar": {
              "outlinewidth": 0,
              "ticks": ""
             }
            },
            "type": "scattercarpet"
           }
          ],
          "scattergeo": [
           {
            "marker": {
             "colorbar": {
              "outlinewidth": 0,
              "ticks": ""
             }
            },
            "type": "scattergeo"
           }
          ],
          "scattergl": [
           {
            "marker": {
             "colorbar": {
              "outlinewidth": 0,
              "ticks": ""
             }
            },
            "type": "scattergl"
           }
          ],
          "scattermapbox": [
           {
            "marker": {
             "colorbar": {
              "outlinewidth": 0,
              "ticks": ""
             }
            },
            "type": "scattermapbox"
           }
          ],
          "scatterpolar": [
           {
            "marker": {
             "colorbar": {
              "outlinewidth": 0,
              "ticks": ""
             }
            },
            "type": "scatterpolar"
           }
          ],
          "scatterpolargl": [
           {
            "marker": {
             "colorbar": {
              "outlinewidth": 0,
              "ticks": ""
             }
            },
            "type": "scatterpolargl"
           }
          ],
          "scatterternary": [
           {
            "marker": {
             "colorbar": {
              "outlinewidth": 0,
              "ticks": ""
             }
            },
            "type": "scatterternary"
           }
          ],
          "surface": [
           {
            "colorbar": {
             "outlinewidth": 0,
             "ticks": ""
            },
            "colorscale": [
             [
              0,
              "#0d0887"
             ],
             [
              0.1111111111111111,
              "#46039f"
             ],
             [
              0.2222222222222222,
              "#7201a8"
             ],
             [
              0.3333333333333333,
              "#9c179e"
             ],
             [
              0.4444444444444444,
              "#bd3786"
             ],
             [
              0.5555555555555556,
              "#d8576b"
             ],
             [
              0.6666666666666666,
              "#ed7953"
             ],
             [
              0.7777777777777778,
              "#fb9f3a"
             ],
             [
              0.8888888888888888,
              "#fdca26"
             ],
             [
              1,
              "#f0f921"
             ]
            ],
            "type": "surface"
           }
          ],
          "table": [
           {
            "cells": {
             "fill": {
              "color": "#EBF0F8"
             },
             "line": {
              "color": "white"
             }
            },
            "header": {
             "fill": {
              "color": "#C8D4E3"
             },
             "line": {
              "color": "white"
             }
            },
            "type": "table"
           }
          ]
         },
         "layout": {
          "annotationdefaults": {
           "arrowcolor": "#2a3f5f",
           "arrowhead": 0,
           "arrowwidth": 1
          },
          "autotypenumbers": "strict",
          "coloraxis": {
           "colorbar": {
            "outlinewidth": 0,
            "ticks": ""
           }
          },
          "colorscale": {
           "diverging": [
            [
             0,
             "#8e0152"
            ],
            [
             0.1,
             "#c51b7d"
            ],
            [
             0.2,
             "#de77ae"
            ],
            [
             0.3,
             "#f1b6da"
            ],
            [
             0.4,
             "#fde0ef"
            ],
            [
             0.5,
             "#f7f7f7"
            ],
            [
             0.6,
             "#e6f5d0"
            ],
            [
             0.7,
             "#b8e186"
            ],
            [
             0.8,
             "#7fbc41"
            ],
            [
             0.9,
             "#4d9221"
            ],
            [
             1,
             "#276419"
            ]
           ],
           "sequential": [
            [
             0,
             "#0d0887"
            ],
            [
             0.1111111111111111,
             "#46039f"
            ],
            [
             0.2222222222222222,
             "#7201a8"
            ],
            [
             0.3333333333333333,
             "#9c179e"
            ],
            [
             0.4444444444444444,
             "#bd3786"
            ],
            [
             0.5555555555555556,
             "#d8576b"
            ],
            [
             0.6666666666666666,
             "#ed7953"
            ],
            [
             0.7777777777777778,
             "#fb9f3a"
            ],
            [
             0.8888888888888888,
             "#fdca26"
            ],
            [
             1,
             "#f0f921"
            ]
           ],
           "sequentialminus": [
            [
             0,
             "#0d0887"
            ],
            [
             0.1111111111111111,
             "#46039f"
            ],
            [
             0.2222222222222222,
             "#7201a8"
            ],
            [
             0.3333333333333333,
             "#9c179e"
            ],
            [
             0.4444444444444444,
             "#bd3786"
            ],
            [
             0.5555555555555556,
             "#d8576b"
            ],
            [
             0.6666666666666666,
             "#ed7953"
            ],
            [
             0.7777777777777778,
             "#fb9f3a"
            ],
            [
             0.8888888888888888,
             "#fdca26"
            ],
            [
             1,
             "#f0f921"
            ]
           ]
          },
          "colorway": [
           "#636efa",
           "#EF553B",
           "#00cc96",
           "#ab63fa",
           "#FFA15A",
           "#19d3f3",
           "#FF6692",
           "#B6E880",
           "#FF97FF",
           "#FECB52"
          ],
          "font": {
           "color": "#2a3f5f"
          },
          "geo": {
           "bgcolor": "white",
           "lakecolor": "white",
           "landcolor": "#E5ECF6",
           "showlakes": true,
           "showland": true,
           "subunitcolor": "white"
          },
          "hoverlabel": {
           "align": "left"
          },
          "hovermode": "closest",
          "mapbox": {
           "style": "light"
          },
          "paper_bgcolor": "white",
          "plot_bgcolor": "#E5ECF6",
          "polar": {
           "angularaxis": {
            "gridcolor": "white",
            "linecolor": "white",
            "ticks": ""
           },
           "bgcolor": "#E5ECF6",
           "radialaxis": {
            "gridcolor": "white",
            "linecolor": "white",
            "ticks": ""
           }
          },
          "scene": {
           "xaxis": {
            "backgroundcolor": "#E5ECF6",
            "gridcolor": "white",
            "gridwidth": 2,
            "linecolor": "white",
            "showbackground": true,
            "ticks": "",
            "zerolinecolor": "white"
           },
           "yaxis": {
            "backgroundcolor": "#E5ECF6",
            "gridcolor": "white",
            "gridwidth": 2,
            "linecolor": "white",
            "showbackground": true,
            "ticks": "",
            "zerolinecolor": "white"
           },
           "zaxis": {
            "backgroundcolor": "#E5ECF6",
            "gridcolor": "white",
            "gridwidth": 2,
            "linecolor": "white",
            "showbackground": true,
            "ticks": "",
            "zerolinecolor": "white"
           }
          },
          "shapedefaults": {
           "line": {
            "color": "#2a3f5f"
           }
          },
          "ternary": {
           "aaxis": {
            "gridcolor": "white",
            "linecolor": "white",
            "ticks": ""
           },
           "baxis": {
            "gridcolor": "white",
            "linecolor": "white",
            "ticks": ""
           },
           "bgcolor": "#E5ECF6",
           "caxis": {
            "gridcolor": "white",
            "linecolor": "white",
            "ticks": ""
           }
          },
          "title": {
           "x": 0.05
          },
          "xaxis": {
           "automargin": true,
           "gridcolor": "white",
           "linecolor": "white",
           "ticks": "",
           "title": {
            "standoff": 15
           },
           "zerolinecolor": "white",
           "zerolinewidth": 2
          },
          "yaxis": {
           "automargin": true,
           "gridcolor": "white",
           "linecolor": "white",
           "ticks": "",
           "title": {
            "standoff": 15
           },
           "zerolinecolor": "white",
           "zerolinewidth": 2
          }
         }
        },
        "xaxis": {
         "anchor": "y",
         "domain": [
          0,
          1
         ],
         "title": {
          "text": "date"
         }
        },
        "yaxis": {
         "anchor": "x",
         "domain": [
          0,
          1
         ],
         "title": {
          "text": "time_start"
         }
        }
       }
      }
     },
     "metadata": {},
     "output_type": "display_data"
    }
   ],
   "source": [
    "import plotly.express as px\n",
    "\n",
    "fig = px.scatter(df,  y=\"time_start\", x=\"date\", hover_name=\"description\", color=\"category\")\n",
    "fig.show()"
   ]
  },
  {
   "cell_type": "code",
   "execution_count": null,
   "metadata": {},
   "outputs": [],
   "source": []
  }
 ],
 "metadata": {
  "kernelspec": {
   "display_name": ".venv",
   "language": "python",
   "name": "python3"
  },
  "language_info": {
   "codemirror_mode": {
    "name": "ipython",
    "version": 3
   },
   "file_extension": ".py",
   "mimetype": "text/x-python",
   "name": "python",
   "nbconvert_exporter": "python",
   "pygments_lexer": "ipython3",
   "version": "3.11.6"
  }
 },
 "nbformat": 4,
 "nbformat_minor": 2
}
