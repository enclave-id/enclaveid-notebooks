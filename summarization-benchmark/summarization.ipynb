{
 "cells": [
  {
   "cell_type": "code",
   "execution_count": 37,
   "metadata": {},
   "outputs": [
    {
     "name": "stdout",
     "output_type": "stream",
     "text": [
      "The dotenv extension is already loaded. To reload it, use:\n",
      "  %reload_ext dotenv\n"
     ]
    }
   ],
   "source": [
    "%load_ext dotenv\n",
    "%dotenv"
   ]
  },
  {
   "cell_type": "code",
   "execution_count": 38,
   "metadata": {},
   "outputs": [],
   "source": [
    "previous_context = \"\"\"\n",
    "Additionally, the user has shown interest in the following topics in the previous month:\n",
    "\n",
    "**Career Development & Transition:**\n",
    "- Mar 1: Transition from a software engineer to a product manager, grow a professional network, connecting with competitors on LinkedIn.\n",
    "- Continued exploration through searches for FAANG companies, MBA programs, switching careers at 25, job opportunities in legal tech, and researching notable business figures such as Alessandro Solbiati and Ginni Rometty.\n",
    "\n",
    "**Legal & Political Engagement:**\n",
    "- Mar 1: Class actions, effectiveness of policy change, legal tech market research.\n",
    "- Subsequent legal research includes judicial innovation fellowships, environmental activism (urgenda), legal proceedings in Europe, and employment law.\n",
    "\n",
    "**Technology & AI:**\n",
    "- Research on AI advancements, interest in notable figures in AI like Richard Socher, ongoing technology-related searches including blockchain, cybersecurity, and legal tech innovations.\n",
    "\n",
    "**Economic & Business Knowledge:**\n",
    "- Mar 2-4: VAT information, stock inquiries, research on billionaires, and VC funding trends, indicating an interest in economic and business knowledge.\n",
    "\n",
    "**Personal Development:**\n",
    "- Mar 2: Researching mentorship, personal growth figures like Justine Tunney, historical research, and skill development searches around managing and identifying talent.\n",
    "\n",
    "**Fitness & Health:**\n",
    "- Mar 5: Home gym and fitness tracking, sleep cycles, bench presses, suggesting a focus on physical health and fitness.\n",
    "\n",
    "**Art & Culture:**\n",
    "- Interest in films, literature, games, and historical figures can be seen with explorations of arthouse cinemas, series like \"Steins;Gate,\" \"New Kind of Science Blog Wolfram,\" and more.\n",
    "\n",
    "**Language Learning & Cultural Exploration:**\n",
    "- Mar 6 & 16: Languages, including 'todo bien' (Spanish) and research on cultural figures and locations indicates an interest in linguistics and history.\n",
    "\n",
    "**Social Causes & Activism:**\n",
    "- Research on effective altruism and shareholder activism, potentially to make informed decisions about personal involvement in social and environmental causes.\n",
    "\n",
    "**Legal Tech:**\n",
    "- Continuous search for legal technologies, trends, and opportunities, hinting at professional growth or a shift into the legal tech space.\n",
    "\n",
    "**Policy & Economics:**\n",
    "- Research on public policy programs and economic ideologies, representing a strong inclination towards understanding societal governance and finances.\n",
    "\"\"\""
   ]
  },
  {
   "cell_type": "code",
   "execution_count": 22,
   "metadata": {},
   "outputs": [],
   "source": [
    "def summary_prompt(which):\n",
    "    if which == \"reactive\":\n",
    "        return \"\"\"\n",
    "        I have a dataset containing a list of reactive search intents of a Google user from the past month. These searches are exogenous and driven by \n",
    "        short term necessities. \n",
    "        Categorize each single event in the following list. Be as exhaustive as possible. \\n\\n \n",
    "        \"\"\"\n",
    "    elif which == \"proactive\":\n",
    "        return f\"\"\"\n",
    "        I have a dataset containing a list of proactive search intents \n",
    "        of a Google user from the past month. These searches are endogenous and driven by \n",
    "        long term goals, skills and knowledge. {previous_context} \\n\\n\n",
    "        Provide a timeline of the progression towards each goal, skill and knowledge area you discover in the following list: \\n\\n \n",
    "        \"\"\""
   ]
  },
  {
   "cell_type": "code",
   "execution_count": 23,
   "metadata": {},
   "outputs": [],
   "source": [
    "from openai import OpenAI\n",
    "import os, json\n",
    "client = OpenAI(api_key = os.environ['OPENAI_API_KEY'])"
   ]
  },
  {
   "cell_type": "code",
   "execution_count": 24,
   "metadata": {},
   "outputs": [],
   "source": [
    "def summarize(which):\n",
    "    with open('summaries/' + which + '.json', 'r') as f:\n",
    "        json_data = json.load(f)\n",
    "        return client.chat.completions.create(\n",
    "            model=\"gpt-4-1106-preview\",\n",
    "            messages=[\n",
    "                {\"role\": \"system\", \"content\": \"You are a helpful assistant.\"},\n",
    "                {\"role\": \"user\", \"content\": summary_prompt(which) + \"\\n\\n\" + json.dumps(json_data, indent=4)},\n",
    "            ],\n",
    "        ).choices[0].message.content"
   ]
  },
  {
   "cell_type": "code",
   "execution_count": 20,
   "metadata": {},
   "outputs": [],
   "source": [
    "res = summarize(\"proactive\")\n",
    "\n",
    "with open('summaries/proactive-out.md', 'w') as f:\n",
    "    f.write(res)"
   ]
  },
  {
   "cell_type": "code",
   "execution_count": 25,
   "metadata": {},
   "outputs": [],
   "source": [
    "res = summarize(\"reactive\")\n",
    "\n",
    "with open('summaries/reactive-out.md', 'w') as f:\n",
    "    f.write(res)"
   ]
  }
 ],
 "metadata": {
  "kernelspec": {
   "display_name": "Python 3",
   "language": "python",
   "name": "python3"
  },
  "language_info": {
   "codemirror_mode": {
    "name": "ipython",
    "version": 3
   },
   "file_extension": ".py",
   "mimetype": "text/x-python",
   "name": "python",
   "nbconvert_exporter": "python",
   "pygments_lexer": "ipython3",
   "version": "3.12.0"
  }
 },
 "nbformat": 4,
 "nbformat_minor": 2
}
