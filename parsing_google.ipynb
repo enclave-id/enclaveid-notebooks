{
 "cells": [
  {
   "cell_type": "code",
   "execution_count": null,
   "metadata": {},
   "outputs": [],
   "source": [
    "import pandas as pd\n",
    "df = pd.read_json(\"_data/raw/Takeout/My Activity/Search/MyActivity.json\")\n",
    "\n",
    "df['datetime'] = pd.to_datetime(df['time'], format='mixed')\n",
    "df = df.sort_values(by='datetime')\n",
    "\n",
    "# split date into two columns: date and hour without milliseconds\n",
    "df['date'] = df['datetime'].dt.date\n",
    "df['hour'] = df['datetime'].dt.time.apply(lambda x: x.strftime('%H:%M'))\n"
   ]
  },
  {
   "cell_type": "code",
   "execution_count": null,
   "metadata": {},
   "outputs": [],
   "source": [
    "import os\n",
    "\n",
    "def save_df_to_files(df, folder_name = '_data/parsed/google/search_history/'):\n",
    "   \n",
    "    # Get the unique month from the dataframe\n",
    "    month = '%02d' % df['datetime'].dt.month.unique()[0]\n",
    "    year = df['datetime'].dt.year.unique()[0]\n",
    "\n",
    "\n",
    "    folder_name = f\"{folder_name}/{year}-{month}\"\n",
    "    \n",
    "    # Create the folder if it doesn't exist\n",
    "    if not os.path.exists(folder_name):\n",
    "        os.makedirs(folder_name)\n",
    "\n",
    "   # save all dates into separate files\n",
    "    for date in df['date'].unique():\n",
    "        df[df['date'] == date].to_csv(f\"{folder_name}/{date}.csv\", index=False, columns=['hour', 'title'])\n",
    "\n",
    "    print(f\"Saved {len(df)} rows to {folder_name}\")"
   ]
  },
  {
   "cell_type": "code",
   "execution_count": null,
   "metadata": {},
   "outputs": [],
   "source": [
    "len(df)"
   ]
  },
  {
   "cell_type": "code",
   "execution_count": null,
   "metadata": {},
   "outputs": [],
   "source": [
    "months_to_save = []\n",
    "\n",
    "for month in df['datetime'].dt.strftime('%Y-%m').unique():\n",
    "    months_to_save.append(month)"
   ]
  },
  {
   "cell_type": "code",
   "execution_count": null,
   "metadata": {},
   "outputs": [],
   "source": [
    "for month in months_to_save:\n",
    "    save_df_to_files(df[df['datetime'].dt.strftime('%Y-%m') == month])"
   ]
  },
  {
   "cell_type": "code",
   "execution_count": null,
   "metadata": {},
   "outputs": [],
   "source": [
    "import pandas as pd\n",
    "import glob\n",
    "\n",
    "# Get a list of all the saved files\n",
    "file_list = glob.glob('_data/parsed/google/search_history/*/*.csv')\n",
    "\n",
    "# Initialize an empty list to store the dataframes\n",
    "dfs = []\n",
    "\n",
    "# Load each file into a dataframe and append it to the list\n",
    "for file in file_list:\n",
    "    df = pd.read_csv(file)\n",
    "    dfs.append(df)\n",
    "\n",
    "# Concatenate all the dataframes into a single dataframe\n",
    "combined_df = pd.concat(dfs)\n",
    "\n"
   ]
  }
 ],
 "metadata": {
  "kernelspec": {
   "display_name": ".venv",
   "language": "python",
   "name": "python3"
  },
  "language_info": {
   "codemirror_mode": {
    "name": "ipython",
    "version": 3
   },
   "file_extension": ".py",
   "mimetype": "text/x-python",
   "name": "python",
   "nbconvert_exporter": "python",
   "pygments_lexer": "ipython3",
   "version": "3.12.1"
  }
 },
 "nbformat": 4,
 "nbformat_minor": 2
}
