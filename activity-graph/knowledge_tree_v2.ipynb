{
 "cells": [
  {
   "cell_type": "code",
   "execution_count": 25,
   "metadata": {},
   "outputs": [],
   "source": [
    "from mistralai.client import MistralClient\n",
    "from openai import OpenAI\n",
    "import os\n",
    "import pandas as pd"
   ]
  },
  {
   "cell_type": "code",
   "execution_count": 26,
   "metadata": {},
   "outputs": [
    {
     "name": "stdout",
     "output_type": "stream",
     "text": [
      "The dotenv extension is already loaded. To reload it, use:\n",
      "  %reload_ext dotenv\n"
     ]
    }
   ],
   "source": [
    "%load_ext dotenv\n",
    "%dotenv"
   ]
  },
  {
   "cell_type": "code",
   "execution_count": 27,
   "metadata": {},
   "outputs": [],
   "source": [
    "client = MistralClient(api_key=os.environ[\"MISTRAL_API_KEY\"])\n",
    "openai_client = OpenAI(api_key=os.environ[\"OPENAI_API_KEY\"])\n",
    "\n",
    "def create_embeddings(inputs, model=\"text-embedding-3-small\"):\n",
    "    if model == \"mistral-embed\":\n",
    "        embeddings_batch_response = client.embeddings(\n",
    "            model=\"mistral-embed\",\n",
    "            input=inputs,\n",
    "        )\n",
    "    else:\n",
    "        embeddings_batch_response = openai_client.embeddings.create(\n",
    "            model=model,\n",
    "            input=inputs,\n",
    "            encoding_format=\"float\"\n",
    "        )\n",
    "    \n",
    "    return list(map(lambda x: x.embedding, embeddings_batch_response.data))\n"
   ]
  },
  {
   "cell_type": "code",
   "execution_count": 28,
   "metadata": {},
   "outputs": [],
   "source": [
    "import os\n",
    "import re\n",
    "from datetime import datetime\n",
    "\n",
    "PROVIDERS = {\n",
    "    \"google\": {\n",
    "        \"raw\": \"Takeout/My Activity/Search\",\n",
    "        \"parsed\": \"google/search_history\",\n",
    "        \"summary\": \"google/search_history_summary\",\n",
    "        \"context\": \"\"\n",
    "    }\n",
    "}\n",
    "\n",
    "\n",
    "def get_filenames(\n",
    "    kind=\"parsed\", start_date=\"2018-11-07\", end_date=\"2023-02-01\", provider=\"google\"\n",
    "):\n",
    "    directory = os.path.join(\"..\", \"_data\", kind, PROVIDERS[provider][kind])\n",
    "    start_date = datetime.strptime(start_date, \"%Y-%m-%d\")\n",
    "    end_date = datetime.strptime(end_date, \"%Y-%m-%d\")\n",
    "    file_pattern = r\"^(\\d{4}-\\d{2}-\\d{2})\\.csv$\"\n",
    "\n",
    "    def is_date_in_range(file_date):\n",
    "        return start_date <= datetime.strptime(file_date, \"%Y-%m-%d\") <= end_date\n",
    "\n",
    "    filenames = []\n",
    "    for root, dirs, files in os.walk(directory):\n",
    "        for file in files:\n",
    "            match = re.match(file_pattern, file)\n",
    "            if match:\n",
    "                file_date = match.groups()[0]\n",
    "                if is_date_in_range(file_date):\n",
    "                    filenames.append(os.path.join(root, file))\n",
    "\n",
    "    return filenames"
   ]
  },
  {
   "cell_type": "code",
   "execution_count": 29,
   "metadata": {},
   "outputs": [],
   "source": [
    "from openai import AsyncOpenAI\n",
    "import httpx\n",
    "\n",
    "custom_client = AsyncOpenAI(\n",
    "  http_client=httpx.AsyncClient(\n",
    "    limits=httpx.Limits(\n",
    "      max_connections=256,\n",
    "      max_keepalive_connections=256\n",
    "    )\n",
    "  ),\n",
    "  base_url=\"https://3nkk8uq95cvr44-8000.proxy.runpod.net/v1\"\n",
    ")\n",
    "\n",
    "async def get_completion(prompt):\n",
    "  try:\n",
    "    res = await custom_client.chat.completions.create(\n",
    "      model=\"mistralai/Mistral-7B-Instruct-v0.2\",\n",
    "      messages=[\n",
    "        {\"role\": \"user\", \"content\": prompt},\n",
    "      ]\n",
    "    )\n",
    "\n",
    "    return res.choices[0].message.content\n",
    "  except Exception as e:\n",
    "    return \"\"\n",
    "  "
   ]
  },
  {
   "cell_type": "code",
   "execution_count": 30,
   "metadata": {},
   "outputs": [
    {
     "data": {
      "text/plain": [
       "' The capital city of France is Paris. Paris is the most populous city in France and is known for its iconic landmarks such as the Eiffel Tower, Louvre Museum, Notre-Dame Cathedral, and Montmartre. It is also the political, cultural, and commercial center of France and is renowned for its fashion, gastronomy, art, and culture. Paris has long been a major European political and cultural center, and it continues to be a significant global city today.'"
      ]
     },
     "execution_count": 30,
     "metadata": {},
     "output_type": "execute_result"
    }
   ],
   "source": [
    "await get_completion(\"What is the capital of France?\")"
   ]
  },
  {
   "cell_type": "code",
   "execution_count": 31,
   "metadata": {},
   "outputs": [
    {
     "name": "stderr",
     "output_type": "stream",
     "text": [
      "  0%|          | 0/106930 [00:00<?, ?it/s]"
     ]
    }
   ],
   "source": [
    "contextualization_prompt = \"I will provide a Google search record from my search history. What is the search term referring to? What could have been my intent with such a search? Reply with 'NOT SURE' if you're not sure.\"\n",
    "\n",
    "from tqdm.asyncio import tqdm_asyncio\n",
    "\n",
    "top_dir = os.path.join(\"..\", \"_data\", \"context\")\n",
    "\n",
    "input_df = pd.DataFrame(columns=[\"date\", \"time\", \"raw\"])\n",
    "output_df = pd.DataFrame(columns=[\"date\", \"time\", \"raw\", \"description\"])\n",
    "\n",
    "for filename in (get_filenames()):\n",
    "    file_df = pd.read_csv(filename)\n",
    "\n",
    "    input_df = pd.concat(\n",
    "            [\n",
    "                input_df,\n",
    "                pd.DataFrame(\n",
    "                    {\n",
    "                        \"date\": filename.split(\"/\")[-1].split(\".\")[0],\n",
    "                        \"time\": file_df[\"hour\"],\n",
    "                        \"raw\": file_df[\"title\"],\n",
    "                    }\n",
    "                ),\n",
    "            ],\n",
    "            ignore_index=True,\n",
    "        )\n",
    "\n",
    "results = []\n",
    "\n",
    "for i in range(0, len(input_df)):\n",
    "    results.append(get_completion(f\"{contextualization_prompt}\\n{input_df.iloc[i][\"raw\"]}\"))\n",
    "\n",
    "for i, answer in enumerate(await tqdm_asyncio.gather(*results, smoothing=0)):\n",
    "    output_df = pd.concat(\n",
    "        [\n",
    "            output_df,\n",
    "            pd.DataFrame(\n",
    "                {   \n",
    "                    \"date\": input_df.iloc[i][\"date\"],\n",
    "                    \"time\": [input_df.iloc[i][\"time\"]],\n",
    "                    \"raw\": [input_df.iloc[i][\"raw\"]],\n",
    "                    \"description\": [answer],\n",
    "                }\n",
    "            ),\n",
    "        ],\n",
    "        ignore_index=True,\n",
    "    )\n",
    "\n"
   ]
  },
  {
   "cell_type": "code",
   "execution_count": null,
   "metadata": {},
   "outputs": [],
   "source": [
    "import os\n",
    "\n",
    "for date in output_df['date'].unique():\n",
    "    date_rows = output_df[output_df['date'] == date]\n",
    "    out_path = os.path.join(top_dir, date[:-6], date[:-3])\n",
    "    if not os.path.exists(out_path):\n",
    "        os.makedirs(out_path)\n",
    "    date_rows.to_csv(os.path.join(out_path, f\"{date}.csv\"), index=False)"
   ]
  },
  {
   "cell_type": "code",
   "execution_count": null,
   "metadata": {},
   "outputs": [],
   "source": [
    "def parse_md_table(md_table):\n",
    "    # Split the table into lines\n",
    "    lines = md_table.replace(\",\", \" \").strip().split('\\n')\n",
    "\n",
    "    # Remove the header separator line (usually the second line)\n",
    "    lines.pop(1)\n",
    "\n",
    "    # Replace pipe symbols with commas and trim spaces\n",
    "    csv_lines = [','.join(cell.strip() for cell in line.split('|')[1:-1]) for line in lines]\n",
    "\n",
    "    # Join the lines back into a single string\n",
    "    return '\\n'.join(csv_lines)"
   ]
  },
  {
   "cell_type": "code",
   "execution_count": null,
   "metadata": {},
   "outputs": [
    {
     "data": {
      "text/plain": [
       "'[{\"ID\":1,\"Topic\":\"\\\\/Arts & Entertainment\"},{\"ID\":350,\"Topic\":\"\\\\/Arts & Entertainment\\\\/Celebrities & Entertainment News\"},{\"ID\":351,\"Topic\":\"\\\\/Arts & Entertainment\\\\/Comics & Animation\"},{\"ID\":352,\"Topic\":\"\\\\/Arts & Entertainment\\\\/Events & Listings\"},{\"ID\":353,\"Topic\":\"\\\\/Arts & Entertainment\\\\/Events & Listings\\\\/Bars  Clubs & Nightlife\"},{\"ID\":4,\"Topic\":\"\\\\/Arts & Entertainment\\\\/Events & Listings\\\\/Concerts & Music Festivals\"},{\"ID\":354,\"Topic\":\"\\\\/Arts & Entertainment\\\\/Events & Listings\\\\/Event Ticket Sales\"},{\"ID\":355,\"Topic\":\"\\\\/Arts & Entertainment\\\\/Events & Listings\\\\/Expos & Conventions\"},{\"ID\":356,\"Topic\":\"\\\\/Arts & Entertainment\\\\/Events & Listings\\\\/Film Festivals\"},{\"ID\":357,\"Topic\":\"\\\\/Arts & Entertainment\\\\/Events & Listings\\\\/Food & Beverage Events\"},{\"ID\":9,\"Topic\":\"\\\\/Arts & Entertainment\\\\/Events & Listings\\\\/Live Sporting Events\"},{\"ID\":12,\"Topic\":\"\\\\/Arts & Entertainment\\\\/Movies\"},{\"ID\":13,\"Topic\":\"\\\\/Arts & Entertainment\\\\/Movies\\\\/Action & Adventure Films\"},{\"ID\":15,\"Topic\":\"\\\\/Arts & Entertainment\\\\/Movies\\\\/Comedy Films\"},{\"ID\":18,\"Topic\":\"\\\\/Arts & Entertainment\\\\/Movies\\\\/Drama Films\"},{\"ID\":19,\"Topic\":\"\\\\/Arts & Entertainment\\\\/Movies\\\\/Family Films\"},{\"ID\":20,\"Topic\":\"\\\\/Arts & Entertainment\\\\/Movies\\\\/Horror Films\"},{\"ID\":21,\"Topic\":\"\\\\/Arts & Entertainment\\\\/Movies\\\\/Romance Films\"},{\"ID\":358,\"Topic\":\"\\\\/Arts & Entertainment\\\\/Movies\\\\/Science Fiction & Fantasy Films\"},{\"ID\":23,\"Topic\":\"\\\\/Arts & Entertainment\\\\/Music & Audio\"},{\"ID\":24,\"Topic\":\"\\\\/Arts & Entertainment\\\\/Music & Audio\\\\/Blues\"},{\"ID\":25,\"Topic\":\"\\\\/Arts & Entertainment\\\\/Music & Audio\\\\/Classical Music\"},{\"ID\":26,\"Topic\":\"\\\\/Arts & Entertainment\\\\/Music & Audio\\\\/Country Music\"},{\"ID\":27,\"Topic\":\"\\\\/Arts & Entertainment\\\\/Music & Audio\\\\/Dance & Electronic Music\"},{\"ID\":359,\"Topic\":\"\\\\/Arts & Entertainment\\\\/Music & Audio\\\\/DJ Resources & Equipment\"},{\"ID\":28,\"Topic\":\"\\\\/Arts & Entertainment\\\\/Music & Audio\\\\/Folk & Traditional Music\"},{\"ID\":29,\"Topic\":\"\\\\/Arts & Entertainment\\\\/Music & Audio\\\\/Jazz\"},{\"ID\":30,\"Topic\":\"\\\\/Arts & Entertainment\\\\/Music & Audio\\\\/Musical Instruments\"},{\"ID\":31,\"Topic\":\"\\\\/Arts & Entertainment\\\\/Music & Audio\\\\/Pop Music\"},{\"ID\":32,\"Topic\":\"\\\\/Arts & Entertainment\\\\/Music & Audio\\\\/Rap & Hip-Hop\"},{\"ID\":33,\"Topic\":\"\\\\/Arts & Entertainment\\\\/Music & Audio\\\\/Rock Music\"},{\"ID\":36,\"Topic\":\"\\\\/Arts & Entertainment\\\\/Music & Audio\\\\/Rock Music\\\\/Indie & Alternative Music\"},{\"ID\":360,\"Topic\":\"\\\\/Arts & Entertainment\\\\/Music & Audio\\\\/Rock Music\\\\/Metal (Music)\"},{\"ID\":361,\"Topic\":\"\\\\/Arts & Entertainment\\\\/Performing Arts\"},{\"ID\":362,\"Topic\":\"\\\\/Arts & Entertainment\\\\/Performing Arts\\\\/Broadway & Musical Theater\"},{\"ID\":363,\"Topic\":\"\\\\/Arts & Entertainment\\\\/TV & Video\"},{\"ID\":364,\"Topic\":\"\\\\/Arts & Entertainment\\\\/TV & Video\\\\/Live Video Streaming\"},{\"ID\":365,\"Topic\":\"\\\\/Arts & Entertainment\\\\/TV & Video\\\\/Movie & TV Streaming\"},{\"ID\":46,\"Topic\":\"\\\\/Arts & Entertainment\\\\/TV & Video\\\\/TV Comedies\"},{\"ID\":47,\"Topic\":\"\\\\/Arts & Entertainment\\\\/TV & Video\\\\/TV Documentary & Nonfiction\"},{\"ID\":48,\"Topic\":\"\\\\/Arts & Entertainment\\\\/TV & Video\\\\/TV Dramas\"},{\"ID\":50,\"Topic\":\"\\\\/Arts & Entertainment\\\\/TV & Video\\\\/TV Family-Oriented Shows\"},{\"ID\":366,\"Topic\":\"\\\\/Arts & Entertainment\\\\/TV & Video\\\\/TV Game Shows\"},{\"ID\":51,\"Topic\":\"\\\\/Arts & Entertainment\\\\/TV & Video\\\\/TV Reality Shows\"},{\"ID\":52,\"Topic\":\"\\\\/Arts & Entertainment\\\\/TV & Video\\\\/TV Sci-Fi & Fantasy Shows\"},{\"ID\":367,\"Topic\":\"\\\\/Arts & Entertainment\\\\/TV & Video\\\\/TV Talk Shows\"},{\"ID\":53,\"Topic\":\"\\\\/Arts & Entertainment\\\\/Visual Art & Design\"},{\"ID\":368,\"Topic\":\"\\\\/Arts & Entertainment\\\\/Visual Art & Design\\\\/Architecture\"},{\"ID\":56,\"Topic\":\"\\\\/Arts & Entertainment\\\\/Visual Art & Design\\\\/Photographic & Digital Arts\"},{\"ID\":57,\"Topic\":\"\\\\/Autos & Vehicles\"},{\"ID\":369,\"Topic\":\"\\\\/Autos & Vehicles\\\\/Bicycles & Accessories\"},{\"ID\":370,\"Topic\":\"\\\\/Autos & Vehicles\\\\/Boats & Watercraft\"},{\"ID\":371,\"Topic\":\"\\\\/Autos & Vehicles\\\\/Campers & RVs\"},{\"ID\":59,\"Topic\":\"\\\\/Autos & Vehicles\\\\/Classic Vehicles\"},{\"ID\":372,\"Topic\":\"\\\\/Autos & Vehicles\\\\/Commercial Vehicles\"},{\"ID\":60,\"Topic\":\"\\\\/Autos & Vehicles\\\\/Custom & Performance Vehicles\"},{\"ID\":62,\"Topic\":\"\\\\/Autos & Vehicles\\\\/Motor Vehicles (By Type)\"},{\"ID\":63,\"Topic\":\"\\\\/Autos & Vehicles\\\\/Motor Vehicles (By Type)\\\\/Autonomous Vehicles\"},{\"ID\":373,\"Topic\":\"\\\\/Autos & Vehicles\\\\/Motor Vehicles (By Type)\\\\/Compact Cars\"},{\"ID\":64,\"Topic\":\"\\\\/Autos & Vehicles\\\\/Motor Vehicles (By Type)\\\\/Convertibles\"},{\"ID\":65,\"Topic\":\"\\\\/Autos & Vehicles\\\\/Motor Vehicles (By Type)\\\\/Coupes\"},{\"ID\":374,\"Topic\":\"\\\\/Autos & Vehicles\\\\/Motor Vehicles (By Type)\\\\/Diesel Vehicles\"},{\"ID\":66,\"Topic\":\"\\\\/Autos & Vehicles\\\\/Motor Vehicles (By Type)\\\\/Hatchbacks\"},{\"ID\":67,\"Topic\":\"\\\\/Autos & Vehicles\\\\/Motor Vehicles (By Type)\\\\/Hybrid & Alternative Vehicles\"},{\"ID\":375,\"Topic\":\"\\\\/Autos & Vehicles\\\\/Motor Vehicles (By Type)\\\\/Hybrid & Alternative Vehicles\\\\/Electric & Plug-In Vehicles\"},{\"ID\":68,\"Topic\":\"\\\\/Autos & Vehicles\\\\/Motor Vehicles (By Type)\\\\/Luxury Vehicles\"},{\"ID\":69,\"Topic\":\"\\\\/Autos & Vehicles\\\\/Motor Vehicles (By Type)\\\\/Microcars & Subcompacts\"},{\"ID\":70,\"Topic\":\"\\\\/Autos & Vehicles\\\\/Motor Vehicles (By Type)\\\\/Motorcycles\"},{\"ID\":71,\"Topic\":\"\\\\/Autos & Vehicles\\\\/Motor Vehicles (By Type)\\\\/Off-Road Vehicles\"},{\"ID\":73,\"Topic\":\"\\\\/Autos & Vehicles\\\\/Motor Vehicles (By Type)\\\\/Scooters & Mopeds\"},{\"ID\":74,\"Topic\":\"\\\\/Autos & Vehicles\\\\/Motor Vehicles (By Type)\\\\/Sedans\"},{\"ID\":376,\"Topic\":\"\\\\/Autos & Vehicles\\\\/Motor Vehicles (By Type)\\\\/Sports Cars\"},{\"ID\":75,\"Topic\":\"\\\\/Autos & Vehicles\\\\/Motor Vehicles (By Type)\\\\/Station Wagons\"},{\"ID\":377,\"Topic\":\"\\\\/Autos & Vehicles\\\\/Motor Vehicles (By Type)\\\\/Trucks  Vans & SUVs\"},{\"ID\":72,\"Topic\":\"\\\\/Autos & Vehicles\\\\/Motor Vehicles (By Type)\\\\/Trucks  Vans & SUVs\\\\/Pickup Trucks\"},{\"ID\":76,\"Topic\":\"\\\\/Autos & Vehicles\\\\/Motor Vehicles (By Type)\\\\/Trucks  Vans & SUVs\\\\/SUVs & Crossovers\"},{\"ID\":78,\"Topic\":\"\\\\/Autos & Vehicles\\\\/Motor Vehicles (By Type)\\\\/Trucks  Vans & SUVs\\\\/Vans & Minivans\"},{\"ID\":81,\"Topic\":\"\\\\/Autos & Vehicles\\\\/Vehicle Parts & Accessories\"},{\"ID\":378,\"Topic\":\"\\\\/Autos & Vehicles\\\\/Vehicle Parts & Accessories\\\\/High Performance & Aftermarket Auto Parts\"},{\"ID\":379,\"Topic\":\"\\\\/Autos & Vehicles\\\\/Vehicle Parts & Accessories\\\\/Vehicle Wheels & Tires\"},{\"ID\":82,\"Topic\":\"\\\\/Autos & Vehicles\\\\/Vehicle Repair & Maintenance\"},{\"ID\":83,\"Topic\":\"\\\\/Autos & Vehicles\\\\/Vehicle Shopping\"},{\"ID\":84,\"Topic\":\"\\\\/Autos & Vehicles\\\\/Vehicle Shopping\\\\/Used Vehicles\"},{\"ID\":86,\"Topic\":\"\\\\/Beauty & Fitness\"},{\"ID\":380,\"Topic\":\"\\\\/Beauty & Fitness\\\\/Beauty Services & Spas\"},{\"ID\":381,\"Topic\":\"\\\\/Beauty & Fitness\\\\/Beauty Services & Spas\\\\/Manicures & Pedicures\"},{\"ID\":382,\"Topic\":\"\\\\/Beauty & Fitness\\\\/Cosmetology & Beauty Professionals\"},{\"ID\":88,\"Topic\":\"\\\\/Beauty & Fitness\\\\/Face & Body Care\"},{\"ID\":91,\"Topic\":\"\\\\/Beauty & Fitness\\\\/Face & Body Care\\\\/Clean Beauty\"},{\"ID\":383,\"Topic\":\"\\\\/Beauty & Fitness\\\\/Face & Body Care\\\\/Hygiene & Toiletries\"},{\"ID\":89,\"Topic\":\"\\\\/Beauty & Fitness\\\\/Face & Body Care\\\\/Hygiene & Toiletries\\\\/Antiperspirants  Deodorants & Body Sprays\"},{\"ID\":384,\"Topic\":\"\\\\/Beauty & Fitness\\\\/Face & Body Care\\\\/Hygiene & Toiletries\\\\/Feminine Hygiene Products\"},{\"ID\":92,\"Topic\":\"\\\\/Beauty & Fitness\\\\/Face & Body Care\\\\/Make-Up & Cosmetics\"},{\"ID\":94,\"Topic\":\"\\\\/Beauty & Fitness\\\\/Face & Body Care\\\\/Perfumes & Fragrances\"},{\"ID\":385,\"Topic\":\"\\\\/Beauty & Fitness\\\\/Face & Body Care\\\\/Skin & Nail Care\"},{\"ID\":90,\"Topic\":\"\\\\/Beauty & Fitness\\\\/Face & Body Care\\\\/Skin & Nail Care\\\\/Bath & Body Products\"},{\"ID\":386,\"Topic\":\"\\\\/Beauty & Fitness\\\\/Face & Body Care\\\\/Skin & Nail Care\\\\/Face Care Products\"},{\"ID\":93,\"Topic\":\"\\\\/Beauty & Fitness\\\\/Face & Body Care\\\\/Skin & Nail Care\\\\/Nail Care Products\"},{\"ID\":387,\"Topic\":\"\\\\/Beauty & Fitness\\\\/Face & Body Care\\\\/Sun Care & Tanning Products\"},{\"ID\":388,\"Topic\":\"\\\\/Beauty & Fitness\\\\/Face & Body Care\\\\/Unwanted Body & Facial Hair Removal\"},{\"ID\":95,\"Topic\":\"\\\\/Beauty & Fitness\\\\/Face & Body Care\\\\/Unwanted Body & Facial Hair Removal\\\\/Razors & Shavers\"},{\"ID\":96,\"Topic\":\"\\\\/Beauty & Fitness\\\\/Fashion & Style\"},{\"ID\":97,\"Topic\":\"\\\\/Beauty & Fitness\\\\/Fitness\"},{\"ID\":389,\"Topic\":\"\\\\/Beauty & Fitness\\\\/Fitness\\\\/Fitness Equipment & Accessories\"},{\"ID\":390,\"Topic\":\"\\\\/Beauty & Fitness\\\\/Fitness\\\\/Fitness Equipment & Accessories\\\\/Fitness Technology Products\"},{\"ID\":391,\"Topic\":\"\\\\/Beauty & Fitness\\\\/Fitness\\\\/Fitness Instruction & Personal Training\"},{\"ID\":392,\"Topic\":\"\\\\/Beauty & Fitness\\\\/Fitness\\\\/Gyms & Health Clubs\"},{\"ID\":393,\"Topic\":\"\\\\/Beauty & Fitness\\\\/Fitness\\\\/High Intensity Interval Training\"},{\"ID\":394,\"Topic\":\"\\\\/Beauty & Fitness\\\\/Fitness\\\\/Yoga & Pilates\"},{\"ID\":99,\"Topic\":\"\\\\/Beauty & Fitness\\\\/Hair Care\"},{\"ID\":395,\"Topic\":\"\\\\/Beauty & Fitness\\\\/Hair Care\\\\/Shampoos & Conditioners\"},{\"ID\":100,\"Topic\":\"\\\\/Books & Literature\"},{\"ID\":396,\"Topic\":\"\\\\/Books & Literature\\\\/Audiobooks\"},{\"ID\":397,\"Topic\":\"\\\\/Books & Literature\\\\/Book Retailers\"},{\"ID\":101,\"Topic\":\"\\\\/Books & Literature\\\\/Children\\'s Literature\"},{\"ID\":398,\"Topic\":\"\\\\/Books & Literature\\\\/Fan Fiction\"},{\"ID\":399,\"Topic\":\"\\\\/Books & Literature\\\\/Literary Classics\"},{\"ID\":400,\"Topic\":\"\\\\/Books & Literature\\\\/Magazines\"},{\"ID\":102,\"Topic\":\"\\\\/Books & Literature\\\\/Poetry\"},{\"ID\":401,\"Topic\":\"\\\\/Books & Literature\\\\/Writers Resources\"},{\"ID\":103,\"Topic\":\"\\\\/Business & Industrial\"},{\"ID\":104,\"Topic\":\"\\\\/Business & Industrial\\\\/Advertising & Marketing\"},{\"ID\":402,\"Topic\":\"\\\\/Business & Industrial\\\\/Building Materials & Supplies\"},{\"ID\":403,\"Topic\":\"\\\\/Business & Industrial\\\\/Business Finance\"},{\"ID\":113,\"Topic\":\"\\\\/Business & Industrial\\\\/Business Finance\\\\/Commercial Lending\"},{\"ID\":404,\"Topic\":\"\\\\/Business & Industrial\\\\/Business Services\"},{\"ID\":405,\"Topic\":\"\\\\/Business & Industrial\\\\/Business Services\\\\/Corporate Events\"},{\"ID\":406,\"Topic\":\"\\\\/Business & Industrial\\\\/Business Services\\\\/Fire & Security Services\"},{\"ID\":407,\"Topic\":\"\\\\/Business & Industrial\\\\/Business Services\\\\/Merchant Services & Payment Systems\"},{\"ID\":408,\"Topic\":\"\\\\/Business & Industrial\\\\/Business Services\\\\/Office Supplies\"},{\"ID\":409,\"Topic\":\"\\\\/Business & Industrial\\\\/Business Services\\\\/Office Supplies\\\\/Office Furniture\"},{\"ID\":410,\"Topic\":\"\\\\/Business & Industrial\\\\/Business Services\\\\/Signage\"},{\"ID\":411,\"Topic\":\"\\\\/Business & Industrial\\\\/Construction Consulting & Contracting\"},{\"ID\":412,\"Topic\":\"\\\\/Business & Industrial\\\\/Document & Printing Services\"},{\"ID\":413,\"Topic\":\"\\\\/Business & Industrial\\\\/Event Planning\"},{\"ID\":414,\"Topic\":\"\\\\/Business & Industrial\\\\/Food Service\"},{\"ID\":415,\"Topic\":\"\\\\/Business & Industrial\\\\/Industrial Materials & Equipment\"},{\"ID\":416,\"Topic\":\"\\\\/Business & Industrial\\\\/Industrial Materials & Equipment\\\\/Work Safety Protective Gear\"},{\"ID\":417,\"Topic\":\"\\\\/Business & Industrial\\\\/Moving & Relocation\"},{\"ID\":418,\"Topic\":\"\\\\/Business & Industrial\\\\/Payroll Services\"},{\"ID\":419,\"Topic\":\"\\\\/Business & Industrial\\\\/Recruitment & Staffing\"},{\"ID\":126,\"Topic\":\"\\\\/Computers & Electronics\"},{\"ID\":420,\"Topic\":\"\\\\/Computers & Electronics\\\\/Computer Hardware\"},{\"ID\":421,\"Topic\":\"\\\\/Computers & Electronics\\\\/Computer Hardware\\\\/Computer Components\"},{\"ID\":422,\"Topic\":\"\\\\/Computers & Electronics\\\\/Computer Hardware\\\\/Computer Drives & Storage\"},{\"ID\":128,\"Topic\":\"\\\\/Computers & Electronics\\\\/Computer Hardware\\\\/Computer Peripherals\"},{\"ID\":134,\"Topic\":\"\\\\/Computers & Electronics\\\\/Computer Hardware\\\\/Desktop Computers\"},{\"ID\":135,\"Topic\":\"\\\\/Computers & Electronics\\\\/Computer Hardware\\\\/Laptops & Notebooks\"},{\"ID\":423,\"Topic\":\"\\\\/Computers & Electronics\\\\/Computer Security\"},{\"ID\":129,\"Topic\":\"\\\\/Computers & Electronics\\\\/Consumer Electronics\"},{\"ID\":424,\"Topic\":\"\\\\/Computers & Electronics\\\\/Consumer Electronics\\\\/Audio Equipment\"},{\"ID\":425,\"Topic\":\"\\\\/Computers & Electronics\\\\/Consumer Electronics\\\\/Audio Equipment\\\\/Headphones\"},{\"ID\":426,\"Topic\":\"\\\\/Computers & Electronics\\\\/Consumer Electronics\\\\/Audio Equipment\\\\/Speakers\"},{\"ID\":427,\"Topic\":\"\\\\/Computers & Electronics\\\\/Consumer Electronics\\\\/Audio Equipment\\\\/Stereo Systems & Components\"},{\"ID\":428,\"Topic\":\"\\\\/Computers & Electronics\\\\/Consumer Electronics\\\\/Camera & Photo Equipment\"},{\"ID\":429,\"Topic\":\"\\\\/Computers & Electronics\\\\/Consumer Electronics\\\\/Car Audio\"},{\"ID\":430,\"Topic\":\"\\\\/Computers & Electronics\\\\/Consumer Electronics\\\\/Gadgets & Portable Electronics\"},{\"ID\":431,\"Topic\":\"\\\\/Computers & Electronics\\\\/Consumer Electronics\\\\/Game Systems & Consoles\"},{\"ID\":432,\"Topic\":\"\\\\/Computers & Electronics\\\\/Consumer Electronics\\\\/Game Systems & Consoles\\\\/Handheld Game Consoles\"},{\"ID\":131,\"Topic\":\"\\\\/Computers & Electronics\\\\/Consumer Electronics\\\\/Home Automation\"},{\"ID\":132,\"Topic\":\"\\\\/Computers & Electronics\\\\/Consumer Electronics\\\\/Home Theater Systems\"},{\"ID\":433,\"Topic\":\"\\\\/Computers & Electronics\\\\/Consumer Electronics\\\\/Televisions\"},{\"ID\":434,\"Topic\":\"\\\\/Computers & Electronics\\\\/Electronics & Electrical\"},{\"ID\":435,\"Topic\":\"\\\\/Computers & Electronics\\\\/Electronics & Electrical\\\\/Power Supplies\"},{\"ID\":436,\"Topic\":\"\\\\/Computers & Electronics\\\\/Enterprise Technology\"},{\"ID\":137,\"Topic\":\"\\\\/Computers & Electronics\\\\/Networking\"},{\"ID\":437,\"Topic\":\"\\\\/Computers & Electronics\\\\/Networking\\\\/Network Monitoring & Management\"},{\"ID\":438,\"Topic\":\"\\\\/Computers & Electronics\\\\/Networking\\\\/Networking Equipment\"},{\"ID\":140,\"Topic\":\"\\\\/Computers & Electronics\\\\/Software\"},{\"ID\":439,\"Topic\":\"\\\\/Computers & Electronics\\\\/Software\\\\/Business & Productivity Software\"},{\"ID\":440,\"Topic\":\"\\\\/Computers & Electronics\\\\/Software\\\\/Business & Productivity Software\\\\/Accounting & Financial Software\"},{\"ID\":441,\"Topic\":\"\\\\/Computers & Electronics\\\\/Software\\\\/Business & Productivity Software\\\\/Collaboration & Conferencing Software\"},{\"ID\":442,\"Topic\":\"\\\\/Computers & Electronics\\\\/Software\\\\/Multimedia Software\"},{\"ID\":141,\"Topic\":\"\\\\/Computers & Electronics\\\\/Software\\\\/Multimedia Software\\\\/Audio & Music Software\"},{\"ID\":144,\"Topic\":\"\\\\/Computers & Electronics\\\\/Software\\\\/Multimedia Software\\\\/Graphics & Animation Software\"},{\"ID\":443,\"Topic\":\"\\\\/Computers & Electronics\\\\/Software\\\\/Multimedia Software\\\\/Photo & Video Software\"},{\"ID\":149,\"Topic\":\"\\\\/Finance\"},{\"ID\":150,\"Topic\":\"\\\\/Finance\\\\/Accounting & Auditing\"},{\"ID\":151,\"Topic\":\"\\\\/Finance\\\\/Accounting & Auditing\\\\/Tax Preparation & Planning\"},{\"ID\":444,\"Topic\":\"\\\\/Finance\\\\/Banking\"},{\"ID\":445,\"Topic\":\"\\\\/Finance\\\\/Banking\\\\/Debit & Checking Services\"},{\"ID\":446,\"Topic\":\"\\\\/Finance\\\\/Banking\\\\/Savings Accounts\"},{\"ID\":447,\"Topic\":\"\\\\/Finance\\\\/Credit & Lending\"},{\"ID\":448,\"Topic\":\"\\\\/Finance\\\\/Credit & Lending\\\\/Auto Financing\"},{\"ID\":152,\"Topic\":\"\\\\/Finance\\\\/Credit & Lending\\\\/Credit Cards\"},{\"ID\":449,\"Topic\":\"\\\\/Finance\\\\/Credit & Lending\\\\/Credit Reporting & Monitoring\"},{\"ID\":157,\"Topic\":\"\\\\/Finance\\\\/Credit & Lending\\\\/Home Financing\"},{\"ID\":170,\"Topic\":\"\\\\/Finance\\\\/Credit & Lending\\\\/Personal Loans\"},{\"ID\":171,\"Topic\":\"\\\\/Finance\\\\/Credit & Lending\\\\/Student Loans & College Financing\"},{\"ID\":153,\"Topic\":\"\\\\/Finance\\\\/Financial Planning & Management\"},{\"ID\":154,\"Topic\":\"\\\\/Finance\\\\/Financial Planning & Management\\\\/Retirement & Pension\"},{\"ID\":158,\"Topic\":\"\\\\/Finance\\\\/Insurance\"},{\"ID\":159,\"Topic\":\"\\\\/Finance\\\\/Insurance\\\\/Auto Insurance\"},{\"ID\":160,\"Topic\":\"\\\\/Finance\\\\/Insurance\\\\/Health Insurance\"},{\"ID\":161,\"Topic\":\"\\\\/Finance\\\\/Insurance\\\\/Home Insurance\"},{\"ID\":162,\"Topic\":\"\\\\/Finance\\\\/Insurance\\\\/Life Insurance\"},{\"ID\":163,\"Topic\":\"\\\\/Finance\\\\/Insurance\\\\/Travel Insurance\"},{\"ID\":164,\"Topic\":\"\\\\/Finance\\\\/Investing\"},{\"ID\":172,\"Topic\":\"\\\\/Food & Drink\"},{\"ID\":173,\"Topic\":\"\\\\/Food & Drink\\\\/Cooking & Recipes\"},{\"ID\":176,\"Topic\":\"\\\\/Food & Drink\\\\/Cooking & Recipes\\\\/Vegetarian Cuisine\"},{\"ID\":177,\"Topic\":\"\\\\/Food & Drink\\\\/Cooking & Recipes\\\\/Vegetarian Cuisine\\\\/Vegan Cuisine\"},{\"ID\":450,\"Topic\":\"\\\\/Food & Drink\\\\/Food\"},{\"ID\":451,\"Topic\":\"\\\\/Food & Drink\\\\/Food\\\\/Baked Goods\"},{\"ID\":452,\"Topic\":\"\\\\/Food & Drink\\\\/Food\\\\/Breakfast Foods\"},{\"ID\":453,\"Topic\":\"\\\\/Food & Drink\\\\/Food\\\\/Candy & Sweets\"},{\"ID\":454,\"Topic\":\"\\\\/Food & Drink\\\\/Food\\\\/Condiments & Dressings\"},{\"ID\":455,\"Topic\":\"\\\\/Food & Drink\\\\/Food\\\\/Dairy & Eggs\"},{\"ID\":456,\"Topic\":\"\\\\/Food & Drink\\\\/Food\\\\/Gourmet & Specialty Foods\"},{\"ID\":457,\"Topic\":\"\\\\/Food & Drink\\\\/Food\\\\/Meat & Seafood\"},{\"ID\":458,\"Topic\":\"\\\\/Food & Drink\\\\/Food\\\\/Meat & Seafood\\\\/Fish & Seafood\"},{\"ID\":459,\"Topic\":\"\\\\/Food & Drink\\\\/Food\\\\/Organic & Natural Foods\"},{\"ID\":460,\"Topic\":\"\\\\/Food & Drink\\\\/Grocery Delivery Services\"},{\"ID\":461,\"Topic\":\"\\\\/Food & Drink\\\\/Restaurant Delivery Services\"},{\"ID\":462,\"Topic\":\"\\\\/Food & Drink\\\\/Restaurants\"},{\"ID\":463,\"Topic\":\"\\\\/Food & Drink\\\\/Restaurants\\\\/Fast Food\"},{\"ID\":464,\"Topic\":\"\\\\/Food & Drink\\\\/Restaurants\\\\/Pizzerias\"},{\"ID\":180,\"Topic\":\"\\\\/Games\"},{\"ID\":465,\"Topic\":\"\\\\/Games\\\\/Board Games\"},{\"ID\":183,\"Topic\":\"\\\\/Games\\\\/Computer & Video Games\"},{\"ID\":184,\"Topic\":\"\\\\/Games\\\\/Computer & Video Games\\\\/Action & Platform Games\"},{\"ID\":185,\"Topic\":\"\\\\/Games\\\\/Computer & Video Games\\\\/Adventure Games\"},{\"ID\":186,\"Topic\":\"\\\\/Games\\\\/Computer & Video Games\\\\/Casual Games\"},{\"ID\":187,\"Topic\":\"\\\\/Games\\\\/Computer & Video Games\\\\/Competitive Video Gaming\"},{\"ID\":466,\"Topic\":\"\\\\/Games\\\\/Computer & Video Games\\\\/Driving & Racing Games\"},{\"ID\":467,\"Topic\":\"\\\\/Games\\\\/Computer & Video Games\\\\/Shooter Games\"},{\"ID\":191,\"Topic\":\"\\\\/Games\\\\/Computer & Video Games\\\\/Sports Games\"},{\"ID\":192,\"Topic\":\"\\\\/Games\\\\/Computer & Video Games\\\\/Strategy Games\"},{\"ID\":468,\"Topic\":\"\\\\/Games\\\\/Family-Oriented Games & Activities\"},{\"ID\":194,\"Topic\":\"\\\\/Games\\\\/Roleplaying Games\"},{\"ID\":196,\"Topic\":\"\\\\/Hobbies & Leisure\"},{\"ID\":469,\"Topic\":\"\\\\/Hobbies & Leisure\\\\/Art & Craft Supplies\"},{\"ID\":470,\"Topic\":\"\\\\/Hobbies & Leisure\\\\/Boating\"},{\"ID\":471,\"Topic\":\"\\\\/Hobbies & Leisure\\\\/Holidays & Seasonal Events\"},{\"ID\":201,\"Topic\":\"\\\\/Hobbies & Leisure\\\\/Outdoors\"},{\"ID\":202,\"Topic\":\"\\\\/Hobbies & Leisure\\\\/Outdoors\\\\/Fishing\"},{\"ID\":472,\"Topic\":\"\\\\/Hobbies & Leisure\\\\/Outdoors\\\\/Hiking & Camping\"},{\"ID\":207,\"Topic\":\"\\\\/Home & Garden\"},{\"ID\":473,\"Topic\":\"\\\\/Home & Garden\\\\/Bed & Bath\"},{\"ID\":474,\"Topic\":\"\\\\/Home & Garden\\\\/Bed & Bath\\\\/Bathroom\"},{\"ID\":475,\"Topic\":\"\\\\/Home & Garden\\\\/Bed & Bath\\\\/Bedroom\"},{\"ID\":476,\"Topic\":\"\\\\/Home & Garden\\\\/Bed & Bath\\\\/Bedroom\\\\/Bedding & Bed Linens\"},{\"ID\":477,\"Topic\":\"\\\\/Home & Garden\\\\/Bed & Bath\\\\/Bedroom\\\\/Beds & Headboards\"},{\"ID\":478,\"Topic\":\"\\\\/Home & Garden\\\\/Bed & Bath\\\\/Bedroom\\\\/Mattresses\"},{\"ID\":479,\"Topic\":\"\\\\/Home & Garden\\\\/Cleaning Services\"},{\"ID\":209,\"Topic\":\"\\\\/Home & Garden\\\\/Home & Interior Decor\"},{\"ID\":210,\"Topic\":\"\\\\/Home & Garden\\\\/Home Appliances\"},{\"ID\":480,\"Topic\":\"\\\\/Home & Garden\\\\/Home Appliances\\\\/Vacuums & Floor Care\"},{\"ID\":481,\"Topic\":\"\\\\/Home & Garden\\\\/Home Appliances\\\\/Water Filters & Purifiers\"},{\"ID\":482,\"Topic\":\"\\\\/Home & Garden\\\\/Home Furnishings\"},{\"ID\":483,\"Topic\":\"\\\\/Home & Garden\\\\/Home Furnishings\\\\/Countertops\"},{\"ID\":484,\"Topic\":\"\\\\/Home & Garden\\\\/Home Furnishings\\\\/Curtains & Window Treatments\"},{\"ID\":485,\"Topic\":\"\\\\/Home & Garden\\\\/Home Furnishings\\\\/Kitchen & Dining Furniture\"},{\"ID\":486,\"Topic\":\"\\\\/Home & Garden\\\\/Home Furnishings\\\\/Lamps & Lighting\"},{\"ID\":487,\"Topic\":\"\\\\/Home & Garden\\\\/Home Furnishings\\\\/Living Room Furniture\"},{\"ID\":488,\"Topic\":\"\\\\/Home & Garden\\\\/Home Furnishings\\\\/Living Room Furniture\\\\/Sofas & Armchairs\"},{\"ID\":489,\"Topic\":\"\\\\/Home & Garden\\\\/Home Furnishings\\\\/Outdoor Furniture\"},{\"ID\":490,\"Topic\":\"\\\\/Home & Garden\\\\/Home Furnishings\\\\/Rugs & Carpets\"},{\"ID\":211,\"Topic\":\"\\\\/Home & Garden\\\\/Home Improvement\"},{\"ID\":491,\"Topic\":\"\\\\/Home & Garden\\\\/Home Improvement\\\\/Construction & Power Tools\"},{\"ID\":492,\"Topic\":\"\\\\/Home & Garden\\\\/Home Improvement\\\\/Doors & Windows\"},{\"ID\":493,\"Topic\":\"\\\\/Home & Garden\\\\/Home Improvement\\\\/Flooring\"},{\"ID\":494,\"Topic\":\"\\\\/Home & Garden\\\\/Home Improvement\\\\/House Painting & Finishing\"},{\"ID\":495,\"Topic\":\"\\\\/Home & Garden\\\\/Home Improvement\\\\/Locks & Locksmiths\"},{\"ID\":496,\"Topic\":\"\\\\/Home & Garden\\\\/Home Improvement\\\\/Plumbing\"},{\"ID\":497,\"Topic\":\"\\\\/Home & Garden\\\\/Home Improvement\\\\/Roofing\"},{\"ID\":212,\"Topic\":\"\\\\/Home & Garden\\\\/Home Safety & Security\"},{\"ID\":498,\"Topic\":\"\\\\/Home & Garden\\\\/Home Storage & Shelving\"},{\"ID\":499,\"Topic\":\"\\\\/Home & Garden\\\\/Home Storage & Shelving\\\\/Cabinetry\"},{\"ID\":500,\"Topic\":\"\\\\/Home & Garden\\\\/Home Swimming Pools  Saunas & Spas\"},{\"ID\":213,\"Topic\":\"\\\\/Home & Garden\\\\/Household Supplies\"},{\"ID\":501,\"Topic\":\"\\\\/Home & Garden\\\\/Household Supplies\\\\/Household Batteries\"},{\"ID\":502,\"Topic\":\"\\\\/Home & Garden\\\\/Household Supplies\\\\/Household Cleaning Supplies\"},{\"ID\":503,\"Topic\":\"\\\\/Home & Garden\\\\/HVAC & Climate Control\"},{\"ID\":504,\"Topic\":\"\\\\/Home & Garden\\\\/HVAC & Climate Control\\\\/Air Conditioners\"},{\"ID\":505,\"Topic\":\"\\\\/Home & Garden\\\\/HVAC & Climate Control\\\\/Fireplaces & Stoves\"},{\"ID\":506,\"Topic\":\"\\\\/Home & Garden\\\\/HVAC & Climate Control\\\\/Household Fans\"},{\"ID\":507,\"Topic\":\"\\\\/Home & Garden\\\\/Kitchen & Dining\"},{\"ID\":508,\"Topic\":\"\\\\/Home & Garden\\\\/Kitchen & Dining\\\\/Cookware & Diningware\"},{\"ID\":509,\"Topic\":\"\\\\/Home & Garden\\\\/Kitchen & Dining\\\\/Cookware & Diningware\\\\/Cookware\"},{\"ID\":510,\"Topic\":\"\\\\/Home & Garden\\\\/Kitchen & Dining\\\\/Cookware & Diningware\\\\/Diningware\"},{\"ID\":511,\"Topic\":\"\\\\/Home & Garden\\\\/Kitchen & Dining\\\\/Dishwashers\"},{\"ID\":512,\"Topic\":\"\\\\/Home & Garden\\\\/Kitchen & Dining\\\\/Microwaves\"},{\"ID\":513,\"Topic\":\"\\\\/Home & Garden\\\\/Kitchen & Dining\\\\/Ranges  Cooktops & Ovens\"},{\"ID\":514,\"Topic\":\"\\\\/Home & Garden\\\\/Kitchen & Dining\\\\/Refrigerators & Freezers\"},{\"ID\":515,\"Topic\":\"\\\\/Home & Garden\\\\/Kitchen & Dining\\\\/Small Kitchen Appliances\"},{\"ID\":516,\"Topic\":\"\\\\/Home & Garden\\\\/Kitchen & Dining\\\\/Small Kitchen Appliances\\\\/Blenders & Juicers\"},{\"ID\":517,\"Topic\":\"\\\\/Home & Garden\\\\/Kitchen & Dining\\\\/Small Kitchen Appliances\\\\/Coffee & Espresso Makers\"},{\"ID\":518,\"Topic\":\"\\\\/Home & Garden\\\\/Kitchen & Dining\\\\/Small Kitchen Appliances\\\\/Food Mixers\"},{\"ID\":519,\"Topic\":\"\\\\/Home & Garden\\\\/Patio  Lawn & Garden\"},{\"ID\":520,\"Topic\":\"\\\\/Home & Garden\\\\/Patio  Lawn & Garden\\\\/Barbecues & Grills\"},{\"ID\":208,\"Topic\":\"\\\\/Home & Garden\\\\/Patio  Lawn & Garden\\\\/Gardening\"},{\"ID\":214,\"Topic\":\"\\\\/Home & Garden\\\\/Patio  Lawn & Garden\\\\/Landscape Design\"},{\"ID\":521,\"Topic\":\"\\\\/Home & Garden\\\\/Patio  Lawn & Garden\\\\/Yard Maintenance\"},{\"ID\":522,\"Topic\":\"\\\\/Home & Garden\\\\/Patio  Lawn & Garden\\\\/Yard Maintenance\\\\/Lawn Mowers\"},{\"ID\":523,\"Topic\":\"\\\\/Home & Garden\\\\/Pest Control\"},{\"ID\":524,\"Topic\":\"\\\\/Home & Garden\\\\/Washers & Dryers\"},{\"ID\":215,\"Topic\":\"\\\\/Internet & Telecom\"},{\"ID\":525,\"Topic\":\"\\\\/Internet & Telecom\\\\/Communications Equipment\"},{\"ID\":526,\"Topic\":\"\\\\/Internet & Telecom\\\\/Communications Equipment\\\\/Radio Equipment\"},{\"ID\":527,\"Topic\":\"\\\\/Internet & Telecom\\\\/Mobile & Wireless Accessories\"},{\"ID\":528,\"Topic\":\"\\\\/Internet & Telecom\\\\/Mobile Phones\"},{\"ID\":529,\"Topic\":\"\\\\/Internet & Telecom\\\\/Mobile Phones\\\\/Mobile Phone Repair & Services\"},{\"ID\":530,\"Topic\":\"\\\\/Internet & Telecom\\\\/Service Providers\"},{\"ID\":531,\"Topic\":\"\\\\/Internet & Telecom\\\\/Service Providers\\\\/Cable & Satellite Providers\"},{\"ID\":217,\"Topic\":\"\\\\/Internet & Telecom\\\\/Service Providers\\\\/ISPs\"},{\"ID\":218,\"Topic\":\"\\\\/Internet & Telecom\\\\/Service Providers\\\\/Phone Service Providers\"},{\"ID\":532,\"Topic\":\"\\\\/Internet & Telecom\\\\/Voice & Video Chat\"},{\"ID\":533,\"Topic\":\"\\\\/Internet & Telecom\\\\/Web Services\"},{\"ID\":534,\"Topic\":\"\\\\/Internet & Telecom\\\\/Web Services\\\\/Cloud Storage\"},{\"ID\":535,\"Topic\":\"\\\\/Internet & Telecom\\\\/Web Services\\\\/Search Engine Optimization & Marketing\"},{\"ID\":224,\"Topic\":\"\\\\/Internet & Telecom\\\\/Web Services\\\\/Web Design & Development\"},{\"ID\":536,\"Topic\":\"\\\\/Internet & Telecom\\\\/Web Services\\\\/Web Hosting & Domain Registration\"},{\"ID\":226,\"Topic\":\"\\\\/Jobs & Education\"},{\"ID\":227,\"Topic\":\"\\\\/Jobs & Education\\\\/Education\"},{\"ID\":537,\"Topic\":\"\\\\/Jobs & Education\\\\/Education\\\\/Business Education\"},{\"ID\":229,\"Topic\":\"\\\\/Jobs & Education\\\\/Education\\\\/Colleges & Universities\"},{\"ID\":538,\"Topic\":\"\\\\/Jobs & Education\\\\/Education\\\\/Computer Education\"},{\"ID\":230,\"Topic\":\"\\\\/Jobs & Education\\\\/Education\\\\/Distance Learning\"},{\"ID\":231,\"Topic\":\"\\\\/Jobs & Education\\\\/Education\\\\/Early Childhood Education\"},{\"ID\":277,\"Topic\":\"\\\\/Jobs & Education\\\\/Education\\\\/Foreign Language Study\"},{\"ID\":539,\"Topic\":\"\\\\/Jobs & Education\\\\/Education\\\\/Health Education & Medical Training\"},{\"ID\":233,\"Topic\":\"\\\\/Jobs & Education\\\\/Education\\\\/Homeschooling\"},{\"ID\":540,\"Topic\":\"\\\\/Jobs & Education\\\\/Education\\\\/Legal Education\"},{\"ID\":541,\"Topic\":\"\\\\/Jobs & Education\\\\/Education\\\\/Open Online Courses\"},{\"ID\":542,\"Topic\":\"\\\\/Jobs & Education\\\\/Education\\\\/Primary & Secondary Schooling (K-12)\"},{\"ID\":543,\"Topic\":\"\\\\/Jobs & Education\\\\/Education\\\\/Private Tutoring Services\"},{\"ID\":544,\"Topic\":\"\\\\/Jobs & Education\\\\/Education\\\\/School Supplies & Classroom Equipment\"},{\"ID\":234,\"Topic\":\"\\\\/Jobs & Education\\\\/Education\\\\/Standardized & Admissions Tests\"},{\"ID\":545,\"Topic\":\"\\\\/Jobs & Education\\\\/Education\\\\/Study Abroad\"},{\"ID\":546,\"Topic\":\"\\\\/Jobs & Education\\\\/Education\\\\/Visual Arts & Design Education\"},{\"ID\":547,\"Topic\":\"\\\\/Jobs & Education\\\\/Internships\"},{\"ID\":236,\"Topic\":\"\\\\/Jobs & Education\\\\/Jobs\"},{\"ID\":237,\"Topic\":\"\\\\/Jobs & Education\\\\/Jobs\\\\/Career Resources & Planning\"},{\"ID\":238,\"Topic\":\"\\\\/Jobs & Education\\\\/Jobs\\\\/Job Listings\"},{\"ID\":548,\"Topic\":\"\\\\/Jobs & Education\\\\/Jobs\\\\/Job Listings\\\\/Accounting & Finance Jobs\"},{\"ID\":549,\"Topic\":\"\\\\/Jobs & Education\\\\/Jobs\\\\/Job Listings\\\\/Clerical & Administrative Jobs\"},{\"ID\":550,\"Topic\":\"\\\\/Jobs & Education\\\\/Jobs\\\\/Job Listings\\\\/Education Jobs\"},{\"ID\":551,\"Topic\":\"\\\\/Jobs & Education\\\\/Jobs\\\\/Job Listings\\\\/Executive & Management Jobs\"},{\"ID\":552,\"Topic\":\"\\\\/Jobs & Education\\\\/Jobs\\\\/Job Listings\\\\/Government & Public Sector Jobs\"},{\"ID\":553,\"Topic\":\"\\\\/Jobs & Education\\\\/Jobs\\\\/Job Listings\\\\/Health & Medical Jobs\"},{\"ID\":554,\"Topic\":\"\\\\/Jobs & Education\\\\/Jobs\\\\/Job Listings\\\\/IT & Technical Jobs\"},{\"ID\":555,\"Topic\":\"\\\\/Jobs & Education\\\\/Jobs\\\\/Job Listings\\\\/Legal Jobs\"},{\"ID\":556,\"Topic\":\"\\\\/Jobs & Education\\\\/Jobs\\\\/Job Listings\\\\/Retail Jobs\"},{\"ID\":557,\"Topic\":\"\\\\/Jobs & Education\\\\/Jobs\\\\/Job Listings\\\\/Sales & Marketing Jobs\"},{\"ID\":558,\"Topic\":\"\\\\/Jobs & Education\\\\/Jobs\\\\/Job Listings\\\\/Temporary & Seasonal Jobs\"},{\"ID\":559,\"Topic\":\"\\\\/Jobs & Education\\\\/Jobs\\\\/Resumes & Portfolios\"},{\"ID\":239,\"Topic\":\"\\\\/Law & Government\"},{\"ID\":560,\"Topic\":\"\\\\/Law & Government\\\\/Labor & Employment Law\"},{\"ID\":242,\"Topic\":\"\\\\/Law & Government\\\\/Legal Services\"},{\"ID\":243,\"Topic\":\"\\\\/News\"},{\"ID\":561,\"Topic\":\"\\\\/News\\\\/Business News\"},{\"ID\":245,\"Topic\":\"\\\\/News\\\\/Local News\"},{\"ID\":247,\"Topic\":\"\\\\/News\\\\/Politics\"},{\"ID\":249,\"Topic\":\"\\\\/News\\\\/World News\"},{\"ID\":250,\"Topic\":\"\\\\/Online Communities\"},{\"ID\":253,\"Topic\":\"\\\\/Online Communities\\\\/Social Networks\"},{\"ID\":254,\"Topic\":\"\\\\/People & Society\"},{\"ID\":562,\"Topic\":\"\\\\/People & Society\\\\/Charity & Philanthropy\"},{\"ID\":258,\"Topic\":\"\\\\/People & Society\\\\/Parenting\"},{\"ID\":259,\"Topic\":\"\\\\/People & Society\\\\/Parenting\\\\/Adoption\"},{\"ID\":260,\"Topic\":\"\\\\/People & Society\\\\/Parenting\\\\/Babies & Toddlers\"},{\"ID\":563,\"Topic\":\"\\\\/People & Society\\\\/Parenting\\\\/Child Care\"},{\"ID\":263,\"Topic\":\"\\\\/Pets & Animals\"},{\"ID\":264,\"Topic\":\"\\\\/Pets & Animals\\\\/Pet Food & Pet Care Supplies\"},{\"ID\":265,\"Topic\":\"\\\\/Pets & Animals\\\\/Pets\"},{\"ID\":267,\"Topic\":\"\\\\/Pets & Animals\\\\/Pets\\\\/Cats\"},{\"ID\":268,\"Topic\":\"\\\\/Pets & Animals\\\\/Pets\\\\/Dogs\"},{\"ID\":272,\"Topic\":\"\\\\/Real Estate\"},{\"ID\":564,\"Topic\":\"\\\\/Real Estate\\\\/Property Development\"},{\"ID\":565,\"Topic\":\"\\\\/Real Estate\\\\/Real Estate Listings\"},{\"ID\":566,\"Topic\":\"\\\\/Real Estate\\\\/Real Estate Listings\\\\/Commercial Properties\"},{\"ID\":567,\"Topic\":\"\\\\/Real Estate\\\\/Real Estate Listings\\\\/Residential Rentals\"},{\"ID\":568,\"Topic\":\"\\\\/Real Estate\\\\/Real Estate Listings\\\\/Residential Rentals\\\\/Furnished Rentals\"},{\"ID\":569,\"Topic\":\"\\\\/Real Estate\\\\/Real Estate Listings\\\\/Residential Sales\"},{\"ID\":570,\"Topic\":\"\\\\/Real Estate\\\\/Real Estate Services\"},{\"ID\":571,\"Topic\":\"\\\\/Real Estate\\\\/Real Estate Services\\\\/Property Inspections & Appraisals\"},{\"ID\":289,\"Topic\":\"\\\\/Shopping\"},{\"ID\":572,\"Topic\":\"\\\\/Shopping\\\\/Apparel\"},{\"ID\":573,\"Topic\":\"\\\\/Shopping\\\\/Apparel\\\\/Apparel Services\"},{\"ID\":574,\"Topic\":\"\\\\/Shopping\\\\/Apparel\\\\/Athletic Apparel\"},{\"ID\":575,\"Topic\":\"\\\\/Shopping\\\\/Apparel\\\\/Casual Apparel\"},{\"ID\":576,\"Topic\":\"\\\\/Shopping\\\\/Apparel\\\\/Casual Apparel\\\\/T-Shirts\"},{\"ID\":291,\"Topic\":\"\\\\/Shopping\\\\/Apparel\\\\/Children\\'s Clothing\"},{\"ID\":577,\"Topic\":\"\\\\/Shopping\\\\/Apparel\\\\/Clothing Accessories\"},{\"ID\":578,\"Topic\":\"\\\\/Shopping\\\\/Apparel\\\\/Clothing Accessories\\\\/Gems & Jewelry\"},{\"ID\":579,\"Topic\":\"\\\\/Shopping\\\\/Apparel\\\\/Clothing Accessories\\\\/Gems & Jewelry\\\\/Rings\"},{\"ID\":580,\"Topic\":\"\\\\/Shopping\\\\/Apparel\\\\/Clothing Accessories\\\\/Handbags & Purses\"},{\"ID\":581,\"Topic\":\"\\\\/Shopping\\\\/Apparel\\\\/Clothing Accessories\\\\/Socks & Hosiery\"},{\"ID\":582,\"Topic\":\"\\\\/Shopping\\\\/Apparel\\\\/Clothing Accessories\\\\/Watches\"},{\"ID\":294,\"Topic\":\"\\\\/Shopping\\\\/Apparel\\\\/Costumes\"},{\"ID\":583,\"Topic\":\"\\\\/Shopping\\\\/Apparel\\\\/Eyewear\"},{\"ID\":584,\"Topic\":\"\\\\/Shopping\\\\/Apparel\\\\/Eyewear\\\\/Sunglasses\"},{\"ID\":585,\"Topic\":\"\\\\/Shopping\\\\/Apparel\\\\/Footwear\"},{\"ID\":586,\"Topic\":\"\\\\/Shopping\\\\/Apparel\\\\/Footwear\\\\/Athletic Shoes\"},{\"ID\":587,\"Topic\":\"\\\\/Shopping\\\\/Apparel\\\\/Footwear\\\\/Boots\"},{\"ID\":588,\"Topic\":\"\\\\/Shopping\\\\/Apparel\\\\/Footwear\\\\/Casual Shoes\"},{\"ID\":589,\"Topic\":\"\\\\/Shopping\\\\/Apparel\\\\/Formal Wear\"},{\"ID\":590,\"Topic\":\"\\\\/Shopping\\\\/Apparel\\\\/Headwear\"},{\"ID\":296,\"Topic\":\"\\\\/Shopping\\\\/Apparel\\\\/Men\\'s Clothing\"},{\"ID\":591,\"Topic\":\"\\\\/Shopping\\\\/Apparel\\\\/Outerwear\"},{\"ID\":592,\"Topic\":\"\\\\/Shopping\\\\/Apparel\\\\/Pants & Shorts\"},{\"ID\":593,\"Topic\":\"\\\\/Shopping\\\\/Apparel\\\\/Shirts & Tops\"},{\"ID\":594,\"Topic\":\"\\\\/Shopping\\\\/Apparel\\\\/Sleepwear\"},{\"ID\":595,\"Topic\":\"\\\\/Shopping\\\\/Apparel\\\\/Suits & Business Attire\"},{\"ID\":596,\"Topic\":\"\\\\/Shopping\\\\/Apparel\\\\/Swimwear\"},{\"ID\":597,\"Topic\":\"\\\\/Shopping\\\\/Apparel\\\\/Undergarments\"},{\"ID\":598,\"Topic\":\"\\\\/Shopping\\\\/Apparel\\\\/Uniforms & Workwear\"},{\"ID\":298,\"Topic\":\"\\\\/Shopping\\\\/Apparel\\\\/Women\\'s Clothing\"},{\"ID\":599,\"Topic\":\"\\\\/Shopping\\\\/Apparel\\\\/Women\\'s Clothing\\\\/Dresses\"},{\"ID\":600,\"Topic\":\"\\\\/Shopping\\\\/Apparel\\\\/Women\\'s Clothing\\\\/Skirts\"},{\"ID\":293,\"Topic\":\"\\\\/Shopping\\\\/Coupons & Discount Offers\"},{\"ID\":601,\"Topic\":\"\\\\/Shopping\\\\/Gifts & Special Event Items\"},{\"ID\":295,\"Topic\":\"\\\\/Shopping\\\\/Gifts & Special Event Items\\\\/Flowers\"},{\"ID\":297,\"Topic\":\"\\\\/Shopping\\\\/Gifts & Special Event Items\\\\/Party & Holiday Supplies\"},{\"ID\":602,\"Topic\":\"\\\\/Shopping\\\\/Luxury Goods\"},{\"ID\":603,\"Topic\":\"\\\\/Shopping\\\\/Mass Merchants & Department Stores\"},{\"ID\":604,\"Topic\":\"\\\\/Shopping\\\\/Photo & Video Services\"},{\"ID\":605,\"Topic\":\"\\\\/Shopping\\\\/Photo & Video Services\\\\/Event & Studio Photography\"},{\"ID\":606,\"Topic\":\"\\\\/Shopping\\\\/Photo & Video Services\\\\/Photo Printing Services\"},{\"ID\":607,\"Topic\":\"\\\\/Shopping\\\\/Product Reviews & Price Comparisons\"},{\"ID\":608,\"Topic\":\"\\\\/Shopping\\\\/Toys\"},{\"ID\":299,\"Topic\":\"\\\\/Sports\"},{\"ID\":300,\"Topic\":\"\\\\/Sports\\\\/American Football\"},{\"ID\":301,\"Topic\":\"\\\\/Sports\\\\/Australian Football\"},{\"ID\":303,\"Topic\":\"\\\\/Sports\\\\/Baseball\"},{\"ID\":304,\"Topic\":\"\\\\/Sports\\\\/Basketball\"},{\"ID\":609,\"Topic\":\"\\\\/Sports\\\\/Combat Sports\"},{\"ID\":309,\"Topic\":\"\\\\/Sports\\\\/Cricket\"},{\"ID\":310,\"Topic\":\"\\\\/Sports\\\\/Cycling\"},{\"ID\":315,\"Topic\":\"\\\\/Sports\\\\/Golf\"},{\"ID\":317,\"Topic\":\"\\\\/Sports\\\\/Hockey\"},{\"ID\":610,\"Topic\":\"\\\\/Sports\\\\/Motor Sports\"},{\"ID\":321,\"Topic\":\"\\\\/Sports\\\\/Olympics\"},{\"ID\":322,\"Topic\":\"\\\\/Sports\\\\/Rugby\"},{\"ID\":323,\"Topic\":\"\\\\/Sports\\\\/Running & Walking\"},{\"ID\":325,\"Topic\":\"\\\\/Sports\\\\/Soccer\"},{\"ID\":611,\"Topic\":\"\\\\/Sports\\\\/Sporting Goods\"},{\"ID\":612,\"Topic\":\"\\\\/Sports\\\\/Sporting Goods\\\\/Baseball & Softball Equipment\"},{\"ID\":613,\"Topic\":\"\\\\/Sports\\\\/Sporting Goods\\\\/Golf Equipment\"},{\"ID\":614,\"Topic\":\"\\\\/Sports\\\\/Sporting Goods\\\\/Hockey Equipment\"},{\"ID\":615,\"Topic\":\"\\\\/Sports\\\\/Sporting Goods\\\\/Skateboarding Equipment\"},{\"ID\":616,\"Topic\":\"\\\\/Sports\\\\/Sporting Goods\\\\/Soccer Equipment\"},{\"ID\":617,\"Topic\":\"\\\\/Sports\\\\/Sporting Goods\\\\/Squash & Racquetball Equipment\"},{\"ID\":618,\"Topic\":\"\\\\/Sports\\\\/Sporting Goods\\\\/Water Sports Equipment\"},{\"ID\":619,\"Topic\":\"\\\\/Sports\\\\/Sporting Goods\\\\/Winter Sports Equipment\"},{\"ID\":328,\"Topic\":\"\\\\/Sports\\\\/Tennis\"},{\"ID\":620,\"Topic\":\"\\\\/Sports\\\\/Water Sports\"},{\"ID\":327,\"Topic\":\"\\\\/Sports\\\\/Water Sports\\\\/Swimming\"},{\"ID\":621,\"Topic\":\"\\\\/Sports\\\\/Winter Sports\"},{\"ID\":324,\"Topic\":\"\\\\/Sports\\\\/Winter Sports\\\\/Skiing & Snowboarding\"},{\"ID\":332,\"Topic\":\"\\\\/Travel & Transportation\"},{\"ID\":334,\"Topic\":\"\\\\/Travel & Transportation\\\\/Air Travel\"},{\"ID\":345,\"Topic\":\"\\\\/Travel & Transportation\\\\/Beaches & Islands\"},{\"ID\":335,\"Topic\":\"\\\\/Travel & Transportation\\\\/Business Travel\"},{\"ID\":336,\"Topic\":\"\\\\/Travel & Transportation\\\\/Car Rentals\"},{\"ID\":337,\"Topic\":\"\\\\/Travel & Transportation\\\\/Cruises & Charters\"},{\"ID\":338,\"Topic\":\"\\\\/Travel & Transportation\\\\/Family Travel\"},{\"ID\":340,\"Topic\":\"\\\\/Travel & Transportation\\\\/Hotels & Accommodations\"},{\"ID\":622,\"Topic\":\"\\\\/Travel & Transportation\\\\/Hotels & Accommodations\\\\/Vacation Rentals & Short-Term Stays\"},{\"ID\":341,\"Topic\":\"\\\\/Travel & Transportation\\\\/Long Distance Bus & Rail\"},{\"ID\":343,\"Topic\":\"\\\\/Travel & Transportation\\\\/Luggage & Travel Accessories\"},{\"ID\":623,\"Topic\":\"\\\\/Travel & Transportation\\\\/Luggage & Travel Accessories\\\\/Backpacks & Utility Bags\"},{\"ID\":624,\"Topic\":\"\\\\/Travel & Transportation\\\\/Luxury Travel\"},{\"ID\":625,\"Topic\":\"\\\\/Travel & Transportation\\\\/Mountain & Ski Resorts\"},{\"ID\":626,\"Topic\":\"\\\\/Travel & Transportation\\\\/Travel Agencies & Services\"},{\"ID\":627,\"Topic\":\"\\\\/Travel & Transportation\\\\/Travel Agencies & Services\\\\/Guided Tours & Escorted Vacations\"},{\"ID\":628,\"Topic\":\"\\\\/Travel & Transportation\\\\/Travel Agencies & Services\\\\/Sightseeing Tours\"},{\"ID\":629,\"Topic\":\"\\\\/Travel & Transportation\\\\/Travel Agencies & Services\\\\/Vacation Offers\"}]'"
      ]
     },
     "execution_count": 12,
     "metadata": {},
     "output_type": "execute_result"
    }
   ],
   "source": [
    "import requests\n",
    "import pandas as pd\n",
    "from io import StringIO\n",
    "\n",
    "taxonomy_url = \"https://raw.githubusercontent.com/patcg-individual-drafts/topics/main/taxonomy_v2.md\"\n",
    "\n",
    "response = requests.get(taxonomy_url)\n",
    "markdown_text = response.text\n",
    "\n",
    "# Extract the table content\n",
    "table_text = parse_md_table(markdown_text)\n",
    "\n",
    "# Parse the table using pandas\n",
    "patcg_topics_df = pd.read_csv(StringIO(table_text))\n",
    "\n",
    "# Convert the dataframe to JSON\n",
    "patcg_topics = patcg_topics_df.to_json(orient=\"records\")\n",
    "\n",
    "patcg_topics\n"
   ]
  },
  {
   "cell_type": "code",
   "execution_count": null,
   "metadata": {},
   "outputs": [
    {
     "name": "stderr",
     "output_type": "stream",
     "text": [
      "100%|██████████| 469/469 [00:32<00:00, 14.51it/s]\n"
     ]
    }
   ],
   "source": [
    "# seed taxonomy to use as root nodes\n",
    "# added a description to each taxonomy to be embedded\n",
    "\n",
    "from tqdm.notebook import tqdm\n",
    "\n",
    "# taxonomy_context_prompt = \"\"\"\n",
    "#     Given a single taxon representing a category within a structured taxonomy, generate a descriptive paragraph that captures the potential interests and insights reflected by the taxon. The taxon is a path through a hierarchical classification system, indicating a progression from broad categories to more specific subcategories.\n",
    "\n",
    "#     To process the taxon:\n",
    "#     1. Break down the taxon to understand its hierarchical structure, identifying the primary category and any relevant subcategories.\n",
    "#     2. Reflect on what the interest in this specific taxon suggests about the user's preferences, professional or educational pursuits, or personal hobbies.\n",
    "#     3. Generate a descriptive paragraph that:\n",
    "#     - Introduces the user's engagement with the main category and subcategories as indicated by the taxon.\n",
    "#     - Highlights particular aspects, applications, or implications of the category that might capture the user's interest.\n",
    "#     - Speculates on the broader significance of this interest, potentially connecting it to current trends, technological innovations, cultural phenomena, or historical contexts, where appropriate.\n",
    "#     - Maintains a neutral and informative tone, aiming to elucidate insights rather than make assumptions about the user.\n",
    "\n",
    "#     For example, given this taxon: \"/Computers & Electronics/Software/Multimedia Software\"\n",
    "\n",
    "#     Generate a description like this: \"This session unveils the user's engagement with the realm of \"/Computers & Electronics/Software/Multimedia Software,\" highlighting an interest in technology, specifically in the tools and applications designed for creating, editing, and managing various forms of digital media. The user's focus on multimedia software suggests a keen interest in the intersection of technology and creativity, exploring how software can facilitate artistic expression, enhance digital content creation, and impact multimedia production. This curiosity may reflect a broader fascination with digital innovation and its role in shaping contemporary media landscapes.\"\n",
    "\n",
    "#     Here is the new taxon:\n",
    "# \"\"\"\n",
    "\n",
    "taxonomy_as_search_prompt = \"I will provide a Google search record from my search history. What is the search term referring to? What could have been my intent with such a search?\"\n",
    "\n",
    "seed_taxonomy = {\"root\": \"root\"}\n",
    "\n",
    "import os.path\n",
    "import json\n",
    "\n",
    "if not os.path.isfile(\"seed_taxonomy_v2.json\"):\n",
    "    df = patcg_topics_df\n",
    "\n",
    "    coro = [\n",
    "        get_completion(f\"{taxonomy_as_search_prompt} {row['Topic']}\")\n",
    "        for i, row in df.iterrows()\n",
    "    ]\n",
    "\n",
    "    results = await tqdm_asyncio.gather(*coro, smoothing=0)\n",
    "\n",
    "    for (i, row), res in zip(df.iterrows(), results):\n",
    "        seed_taxonomy[row[\"Topic\"]] = res\n",
    "\n",
    "    json.dump(seed_taxonomy, open(\"seed_taxonomy_v2.json\", \"w\"))"
   ]
  },
  {
   "cell_type": "code",
   "execution_count": 1,
   "metadata": {},
   "outputs": [],
   "source": [
    "from pgvector.psycopg import register_vector\n",
    "import psycopg\n",
    "import os\n",
    "\n",
    "conn = psycopg.connect(**psycopg.conninfo.conninfo_to_dict(os.environ[\"DATABASE_URL\"]))\n",
    "conn.autocommit = True\n",
    "\n",
    "conn.execute(\"CREATE EXTENSION IF NOT EXISTS vector\")\n",
    "register_vector(conn)"
   ]
  },
  {
   "cell_type": "code",
   "execution_count": 2,
   "metadata": {},
   "outputs": [
    {
     "data": {
      "text/plain": [
       "<psycopg.Cursor [COMMAND_OK] [IDLE] (host=localhost port=5433 database=enclaveid) at 0x7fb44279d0d0>"
      ]
     },
     "execution_count": 2,
     "metadata": {},
     "output_type": "execute_result"
    }
   ],
   "source": [
    "conn.execute(\"DROP TABLE IF EXISTS documents\")\n",
    "conn.execute(\n",
    "    \"\"\"CREATE TABLE documents (\n",
    "             id bigserial PRIMARY KEY, \n",
    "             description text,\n",
    "             date DATE, \n",
    "             time TIME,\n",
    "             raw text,\n",
    "             embedding vector(1536),\n",
    "             is_taxonomy boolean DEFAULT FALSE\n",
    "    )\"\"\"\n",
    ")\n",
    "\n"
   ]
  },
  {
   "cell_type": "code",
   "execution_count": 3,
   "metadata": {},
   "outputs": [],
   "source": [
    "import numpy as np\n",
    "\n",
    "\n",
    "def store_embeddings(embeddings, metadata):\n",
    "    for embedding, meta in zip(embeddings, metadata):\n",
    "        try:\n",
    "\n",
    "            conn.execute(\n",
    "                \"INSERT INTO documents (description, date, time, raw, embedding, is_taxonomy) VALUES (%s, %s, %s, %s, %s, %s)\",\n",
    "                (\n",
    "                    meta[\"description\"],\n",
    "                    meta[\"date\"],\n",
    "                    meta[\"time\"],\n",
    "                    meta[\"raw\"],\n",
    "                    np.array(embedding),\n",
    "                    meta[\"is_taxonomy\"] if \"is_taxonomy\" in meta else False,\n",
    "                ),\n",
    "            )\n",
    "        except Exception as e:\n",
    "            print(e)"
   ]
  },
  {
   "cell_type": "code",
   "execution_count": 148,
   "metadata": {},
   "outputs": [],
   "source": [
    "import json\n",
    "seed_taxonomy = json.load(open(\"seed_taxonomy.json\"))\n",
    "\n",
    "embeddings = create_embeddings(list(seed_taxonomy.values()))\n",
    "metadatas = [\n",
    "    {\n",
    "        \"description\": seed_taxonomy[taxon],\n",
    "        \"date\": \"1970-01-01\",\n",
    "        \"time\": \"00:00:00\",\n",
    "        \"raw\": taxon,\n",
    "        \"is_taxonomy\": True\n",
    "    }\n",
    "    for taxon in seed_taxonomy.keys()\n",
    "]\n",
    "\n",
    "store_embeddings(embeddings, metadatas)"
   ]
  },
  {
   "cell_type": "code",
   "execution_count": 11,
   "metadata": {},
   "outputs": [
    {
     "data": {
      "application/vnd.jupyter.widget-view+json": {
       "model_id": "c033d22b1efc43eabc546d95be3bafc9",
       "version_major": 2,
       "version_minor": 0
      },
      "text/plain": [
       "  0%|          | 0/178 [00:00<?, ?it/s]"
      ]
     },
     "metadata": {},
     "output_type": "display_data"
    }
   ],
   "source": [
    "import json\n",
    "from tqdm.notebook import tqdm\n",
    "\n",
    "# generate embeddings and save in db\n",
    "for filename in tqdm(get_filenames(\"context\")):\n",
    "    df = pd.read_csv(filename)\n",
    "    date = filename.split(\"/\")[-1].split(\".\")[0]\n",
    "    df[\"date\"] = date\n",
    "\n",
    "    embeddings = create_embeddings(\n",
    "        [df['description'][i] for i in range(len(df))]\n",
    "    )\n",
    "\n",
    "    store_embeddings(\n",
    "        embeddings,\n",
    "        json.loads(df.to_json(orient=\"records\")),\n",
    "    )"
   ]
  },
  {
   "cell_type": "code",
   "execution_count": 150,
   "metadata": {},
   "outputs": [
    {
     "data": {
      "text/plain": [
       "<psycopg.Cursor [COMMAND_OK] [IDLE] (host=localhost port=5433 database=enclaveid) at 0x7f6401c80b90>"
      ]
     },
     "execution_count": 150,
     "metadata": {},
     "output_type": "execute_result"
    }
   ],
   "source": [
    "# move ambiguous documents to a separate table\n",
    "\n",
    "conn.execute(\"DROP TABLE IF EXISTS ambiguous_documents\")\n",
    "\n",
    "conn.execute(\"\"\"\n",
    "CREATE TABLE ambiguous_documents (\n",
    "    id bigserial PRIMARY KEY,\n",
    "    description text,\n",
    "    date DATE,\n",
    "    time TIME,\n",
    "    raw text,\n",
    "    embedding vector(1536),\n",
    "    is_taxonomy boolean DEFAULT FALSE\n",
    ")\n",
    "\"\"\")\n",
    "\n",
    "\n",
    "conn.execute(\"\"\"\n",
    "INSERT INTO ambiguous_documents (id, description, date, time, raw, embedding, is_taxonomy)\n",
    "SELECT id, description, date, time, raw, embedding, is_taxonomy\n",
    "FROM documents\n",
    "WHERE description LIKE '%NOT SURE%'\n",
    "\"\"\")\n",
    "\n",
    "conn.execute(\"\"\"\n",
    "DELETE FROM documents\n",
    "WHERE description LIKE '%NOT SURE%'\n",
    "\"\"\")\n"
   ]
  },
  {
   "cell_type": "code",
   "execution_count": 151,
   "metadata": {},
   "outputs": [],
   "source": [
    "# Calculate the 10th percentile for time intervals (in seconds)\n",
    "time_threshold = conn.execute(\"\"\"\n",
    "WITH LaggedDocuments AS (\n",
    "    SELECT\n",
    "        date,\n",
    "        time,\n",
    "        LAG(time) OVER (ORDER BY date, time) AS prev_time\n",
    "    FROM\n",
    "        documents\n",
    "    WHERE\n",
    "        is_taxonomy = FALSE\n",
    "),\n",
    "TimeDifferences AS (\n",
    "    SELECT\n",
    "        EXTRACT(EPOCH FROM (time - prev_time)) AS time_diff\n",
    "    FROM\n",
    "        LaggedDocuments\n",
    "    WHERE\n",
    "        time > prev_time\n",
    ")\n",
    "SELECT\n",
    "    percentile_cont(0.10) WITHIN GROUP (ORDER BY time_diff) AS time_interval_10th\n",
    "FROM\n",
    "    TimeDifferences;\n",
    "\n",
    "\"\"\").fetchone()[0]"
   ]
  },
  {
   "cell_type": "code",
   "execution_count": 152,
   "metadata": {},
   "outputs": [],
   "source": [
    "# Calculate the 90th percentile for embedding similarities using cosine similarity\n",
    "embedding_similarity_threshold = conn.execute(\"\"\"\n",
    "    WITH CosineSimilarities AS (\n",
    "        SELECT\n",
    "            date,\n",
    "            time,\n",
    "            1 - (embedding <=> LAG(embedding) OVER (ORDER BY date, time)) AS cosine_similarity\n",
    "        FROM\n",
    "            documents\n",
    "        WHERE\n",
    "            is_taxonomy = FALSE\n",
    "    ),\n",
    "    FilteredSimilarities AS (\n",
    "        SELECT\n",
    "            cosine_similarity\n",
    "        FROM\n",
    "            CosineSimilarities\n",
    "        WHERE\n",
    "            cosine_similarity IS NOT NULL\n",
    "    )\n",
    "    SELECT\n",
    "        percentile_cont(0.90) WITHIN GROUP (ORDER BY cosine_similarity) AS embedding_similarity_90th\n",
    "    FROM\n",
    "        FilteredSimilarities;\n",
    "\"\"\").fetchone()[0]"
   ]
  },
  {
   "cell_type": "code",
   "execution_count": 153,
   "metadata": {},
   "outputs": [
    {
     "name": "stdout",
     "output_type": "stream",
     "text": [
      "Time threshold: 60.0 seconds. Embedding similarity threshold: 0.8296323921172489\n"
     ]
    }
   ],
   "source": [
    "print(f\"Time threshold: {time_threshold} seconds. Embedding similarity threshold: {embedding_similarity_threshold}\")"
   ]
  },
  {
   "cell_type": "code",
   "execution_count": 154,
   "metadata": {},
   "outputs": [
    {
     "name": "stdout",
     "output_type": "stream",
     "text": [
      "516 [(503, 504), (485, 487), (520, 521), (747, 748), (525, 526), (472, 473), (479, 480), (491, 493), (498, 499), (500, 501), (500, 502), (501, 502), (510, 511), (532, 533), (532, 534), (533, 534), (535, 536), (536, 537), (536, 538), (537, 538), (539, 540), (539, 541), (540, 541), (544, 545), (548, 549), (558, 559), (561, 562), (578, 579), (587, 588), (589, 590), (590, 591), (619, 620), (650, 651), (651, 652), (675, 676), (745, 746), (789, 790), (791, 792), (793, 794), (795, 796), (795, 798), (795, 800), (796, 797), (796, 798), (796, 800), (797, 798), (797, 800), (798, 800), (800, 801), (810, 811), (810, 812), (887, 888), (889, 890), (856, 858), (858, 859), (870, 871), (870, 872), (870, 873), (871, 872), (871, 873), (877, 878), (885, 886), (907, 909), (1043, 1044), (933, 934), (941, 942), (955, 956), (968, 969), (970, 971), (974, 975), (988, 989), (994, 995), (1000, 1001), (1007, 1008), (1016, 1017), (1042, 1043), (1042, 1044), (1049, 1050), (1053, 1056), (1054, 1056), (1078, 1079), (1090, 1091), (1090, 1092), (1091, 1092), (1082, 1083), (1116, 1117), (1128, 1129), (1130, 1131), (1152, 1153), (1152, 1154), (1155, 1156), (1157, 1158), (1165, 1166), (1169, 1170), (1171, 1172), (1178, 1179), (1187, 1188), (1210, 1211), (1212, 1213), (1229, 1230), (1746, 1747), (1253, 1256), (1256, 1257), (1276, 1277), (1289, 1290), (1289, 1292), (1290, 1292), (1299, 1301), (1304, 1305), (1311, 1312), (1313, 1314), (1313, 1315), (1320, 1321), (1341, 1342), (1327, 1328), (1327, 1329), (1327, 1330), (1328, 1329), (1328, 1330), (1329, 1330), (1332, 1333), (1357, 1358), (1357, 1359), (1357, 1360), (1357, 1363), (1358, 1359), (1358, 1360), (1358, 1363), (1359, 1360), (1360, 1363), (1367, 1368), (1372, 1374), (1372, 1375), (1374, 1375), (1375, 1376), (1378, 1379), (1378, 1380), (1379, 1380), (1379, 1382), (1380, 1382), (1389, 1390), (1416, 1417), (1424, 1425), (1427, 1430), (1429, 1430), (1452, 1453), (1453, 1454), (1454, 1455), (1459, 1460), (1461, 1462), (1463, 1466), (1465, 1466), (1470, 1472), (1471, 1472), (1486, 1488), (1524, 1525), (1527, 1528), (1527, 1529), (1528, 1529), (1535, 1536), (1553, 1554), (1576, 1577), (1578, 1579), (1587, 1588), (1611, 1612), (1618, 1620), (1630, 1631), (1630, 1632), (1631, 1632), (1636, 1637), (1643, 1645), (1648, 1649), (1660, 1661), (1662, 1663), (1668, 1669), (1669, 1670), (1671, 1672), (1676, 1677), (1679, 1680), (1687, 1688), (1696, 1697), (1698, 1700), (1702, 1703), (1718, 1719), (1722, 1723), (1723, 1726), (1723, 1729), (1739, 1740), (1753, 1755), (1772, 1773), (1784, 1785), (1784, 1787), (1795, 1797), (1795, 1798), (1801, 1802), (1802, 1803), (1807, 1808), (1814, 1815), (1817, 1818), (1822, 1823), (1826, 1827), (1828, 1829), (1840, 1841), (1847, 1848), (1850, 1853), (1850, 1855), (1860, 1861), (1878, 1879), (1891, 1892), (1891, 1893), (1892, 1893), (1894, 1897), (1903, 1904), (1906, 1907), (1932, 1933), (1932, 1934), (1943, 1946), (1944, 1945), (1989, 1990), (2000, 2006), (2022, 2023), (2022, 2024), (2027, 2028), (2035, 2036), (2037, 2038), (2041, 2042), (2284, 2285), (2080, 2081), (2087, 2088), (2095, 2096), (2095, 2097), (2096, 2097), (2110, 2111), (2121, 2122), (2124, 2125), (2126, 2127), (2126, 2128), (2127, 2128), (2129, 2131), (2131, 2133), (2141, 2142), (2141, 2143), (2150, 2151), (2152, 2153), (2193, 2194), (2206, 2208), (2211, 2212), (2223, 2224), (2228, 2229), (2247, 2248), (2249, 2250), (2261, 2263), (2274, 2275), (2286, 2287), (2289, 2291), (2293, 2294), (2308, 2309), (2314, 2315), (2314, 2316), (2315, 2316), (2326, 2327), (2345, 2346), (2345, 2347), (2346, 2347), (2354, 2355), (2354, 2356), (2354, 2357), (2355, 2356), (2355, 2357), (2356, 2357), (2361, 2362), (2362, 2363), (2372, 2373), (2387, 2388), (2403, 2404), (2406, 2407), (2417, 2418), (2418, 2420), (2436, 2437), (2454, 2455), (2454, 2456), (2462, 2463), (2468, 2469), (2486, 2487), (2477, 2478), (2483, 2486), (2483, 2487), (2495, 2496), (2497, 2498), (2518, 2519), (2522, 2524), (2529, 2532), (2530, 2531), (2536, 2537), (2550, 2552), (2551, 2552), (2567, 2568), (2572, 2573), (2572, 2574), (2600, 2601), (2605, 2606), (2608, 2609), (2613, 2614), (2617, 2618), (2629, 2630), (2631, 2632), (2637, 2639), (3056, 3057), (2676, 2677), (2686, 2690), (2687, 2688), (2687, 2689), (2688, 2689), (2698, 2699), (2718, 2719), (2722, 2724), (2723, 2724), (2726, 2727), (2745, 2747), (2765, 2766), (2778, 2780), (2783, 2784), (3058, 3059), (3058, 3060), (3058, 3061), (2787, 2789), (2794, 2795), (2794, 2796), (2794, 2798), (2794, 2800), (2795, 2796), (2795, 2798), (2796, 2798), (2796, 2799), (2820, 2821), (2798, 2799), (2834, 2835), (2813, 2814), (2828, 2829), (2837, 2838), (2880, 2882), (2880, 2885), (2881, 2884), (2897, 2898), (2909, 2910), (2914, 2915), (2940, 2941), (2922, 2923), (2926, 2928), (2932, 2933), (2950, 2951), (2962, 2963), (2968, 2969), (2977, 2978), (2979, 2980), (2979, 2981), (2980, 2981), (2995, 2996), (2995, 2997), (2996, 2997), (2996, 2999), (2998, 2999), (3000, 3001), (3001, 3004), (3005, 3008), (3005, 3009), (3008, 3009), (3016, 3017), (3029, 3030), (3034, 3036), (3034, 3038), (3036, 3038), (3039, 3041), (3040, 3041), (3041, 3042), (3059, 3060), (3059, 3061), (3060, 3061), (3063, 3064), (3071, 3072), (3084, 3087), (3114, 3115), (3127, 3128), (3133, 3135), (3144, 3145), (3151, 3152), (3294, 3296), (3160, 3163), (3162, 3163), (3168, 3169), (3172, 3173), (3172, 3174), (3172, 3175), (3172, 3176), (3173, 3174), (3173, 3175), (3173, 3176), (3174, 3175), (3174, 3176), (3175, 3176), (3180, 3181), (3186, 3187), (3196, 3199), (3201, 3202), (3209, 3210), (3216, 3217), (3217, 3218), (3219, 3221), (3221, 3223), (3223, 3225), (3225, 3227), (3225, 3228), (3229, 3230), (3229, 3231), (3230, 3231), (3233, 3235), (3235, 3237), (3243, 3244), (3255, 3256), (3268, 3269), (3277, 3282), (3277, 3283), (3282, 3283), (3284, 3285), (3297, 3298), (3302, 3303), (3305, 3306), (3312, 3314), (3315, 3316), (3374, 3375), (3342, 3343), (3352, 3353), (3603, 3606), (3371, 3372), (3418, 3419), (3418, 3420), (3419, 3420), (3421, 3422), (3428, 3429), (3444, 3445), (3459, 3460), (3505, 3506), (3509, 3510), (3511, 3512), (3518, 3519), (3524, 3532), (3542, 3543), (3544, 3546), (3880, 3881), (3587, 3588), (3591, 3592), (3591, 3593), (3595, 3596), (3596, 3598), (3613, 3614), (3615, 3616), (3618, 3619), (3650, 3651), (3657, 3658), (3664, 3665), (3664, 3666), (3671, 3672), (3671, 3673), (3675, 3676), (3677, 3678), (3678, 3679), (3688, 3689), (3690, 3693), (3692, 3695), (3720, 3722), (3720, 3723), (3722, 3723), (3741, 3742), (3750, 3751), (3754, 3755), (3816, 3818), (3820, 3821), (3855, 3857), (3838, 3839), (3843, 3844), (3856, 3857), (3858, 3859), (3874, 3875), (3882, 3883), (3884, 3885), (3887, 3890), (3889, 3890), (3918, 3919), (3920, 3923), (3920, 3924), (3922, 3925), (3923, 3924), (3923, 3925), (3924, 3925), (3926, 3928), (3928, 3929), (3974, 3976), (3974, 3977), (3974, 3978), (3954, 3955), (3955, 3956), (3955, 3957), (3960, 3961), (3962, 3963), (3976, 3977), (3976, 3978), (3977, 3978), (3989, 3990), (4118, 4119), (4038, 4039), (4050, 4051), (4059, 4060), (4063, 4064), (4077, 4078), (4087, 4088), (4116, 4117)]\n"
     ]
    }
   ],
   "source": [
    "# merge similar documents within the time and embedding similarity thresholds\n",
    "records = conn.execute(\n",
    "    \"\"\"\n",
    "SELECT a.id, b.id, (1 - (a.embedding <=> b.embedding)) AS similarity\n",
    "FROM documents a\n",
    "JOIN documents b ON a.id < b.id\n",
    "WHERE ABS(EXTRACT(EPOCH FROM (\n",
    "    (a.date || ' ' || a.time)::timestamp - \n",
    "    (b.date || ' ' || b.time)::timestamp))/60) <= %s\n",
    "    AND NOT (a.is_taxonomy = TRUE OR b.is_taxonomy = TRUE )\n",
    "\"\"\",\n",
    "    ((time_threshold / 60),),\n",
    ").fetchall()\n",
    "\n",
    "\n",
    "candidates_to_merge = []\n",
    "for record in records:\n",
    "    doc_id_a, doc_id_b, similarity = record\n",
    "    if similarity >= embedding_similarity_threshold:\n",
    "        candidates_to_merge.append((doc_id_a, doc_id_b))\n",
    "\n",
    "print(len(candidates_to_merge),candidates_to_merge)  # should be =< the total number of chunks\n",
    "\n",
    "# Delete the oldest duplicate document\n",
    "# for a, b in candidates_to_merge:\n",
    "#     conn.execute(\"DELETE FROM documents WHERE id = %s\", (a,))\n"
   ]
  },
  {
   "cell_type": "code",
   "execution_count": 198,
   "metadata": {},
   "outputs": [
    {
     "data": {
      "text/plain": [
       "<psycopg.Cursor [COMMAND_OK] [IDLE] (host=localhost port=5433 database=enclaveid) at 0x7f63fbfbcdd0>"
      ]
     },
     "execution_count": 198,
     "metadata": {},
     "output_type": "execute_result"
    }
   ],
   "source": [
    "conn.execute(\"DROP TABLE IF EXISTS edges\")\n",
    "conn.execute(\n",
    "    \"\"\"CREATE TABLE edges (\n",
    "             id bigserial PRIMARY KEY, \n",
    "             parent_id bigint,\n",
    "             child_id bigint,\n",
    "             weight float\n",
    "    )\"\"\"\n",
    ")"
   ]
  },
  {
   "cell_type": "code",
   "execution_count": 199,
   "metadata": {},
   "outputs": [
    {
     "data": {
      "text/plain": [
       "<psycopg.Cursor [COMMAND_OK] [IDLE] (host=localhost port=5433 database=enclaveid) at 0x7f63fbfbcd10>"
      ]
     },
     "execution_count": 199,
     "metadata": {},
     "output_type": "execute_result"
    }
   ],
   "source": [
    "conn.execute(\n",
    "    \"\"\"\n",
    "CREATE INDEX ON documents\n",
    "USING hnsw(embedding vector_cosine_ops)\n",
    "WITH (m = 24, ef_construction = 100);\n",
    "\"\"\"\n",
    ")"
   ]
  },
  {
   "cell_type": "code",
   "execution_count": 200,
   "metadata": {},
   "outputs": [],
   "source": [
    "# create dag of seed taxonomy \n",
    "\n",
    "root_id, = conn.execute(\"SELECT id FROM documents WHERE is_taxonomy and description = 'root'\").fetchone()\n",
    "\n",
    "taxons = conn.execute(\"SELECT id, raw FROM documents WHERE is_taxonomy and description <> 'root'\").fetchall()\n",
    "tag_to_id = {tag: taxon_id for taxon_id, tag in taxons}\n",
    "\n",
    "\n",
    "for taxon_id, tag in taxons:\n",
    "    # Check if the tag represents a root tag (has no '/')\n",
    "    if tag.count('/') == 1:\n",
    "        conn.execute(\"INSERT INTO edges (parent_id, child_id, weight) VALUES (%s, %s, %s)\", (root_id, taxon_id, 1.0))\n",
    "    else:\n",
    "        # Determine the parent tag by removing the last segment\n",
    "        parent_tag = '/'.join(tag.split('/')[:-1])\n",
    "        \n",
    "        # If the parent_tag is not empty and exists in tag_to_id, it means the taxon has a parent\n",
    "        if parent_tag and parent_tag in tag_to_id:\n",
    "            parent_id = tag_to_id[parent_tag]\n",
    "            \n",
    "            edge_id = conn.execute(\"INSERT INTO edges (parent_id, child_id, weight) VALUES (%s, %s, %s) RETURNING id\", (parent_id, taxon_id, 1.0)).fetchone()[0]\n",
    "            "
   ]
  },
  {
   "cell_type": "code",
   "execution_count": 201,
   "metadata": {},
   "outputs": [],
   "source": [
    "def create_dag():\n",
    "    return conn.execute(\n",
    "        \"\"\"\n",
    "    WITH DocumentPairs AS (\n",
    "        SELECT\n",
    "            a.id AS doc_id,\n",
    "            b.id AS compared_doc_id,\n",
    "            b.is_taxonomy AS compared_is_taxonomy,\n",
    "            (1 - (a.embedding <=> b.embedding)) AS similarity,\n",
    "            a.date AS doc_date,\n",
    "            a.time AS doc_time,\n",
    "            b.date AS compared_doc_date,\n",
    "            b.time AS compared_doc_time\n",
    "        FROM\n",
    "            documents a\n",
    "        JOIN\n",
    "            documents b ON a.id != b.id AND \n",
    "                        (a.date > b.date OR (a.date = b.date AND a.time > b.time))\n",
    "    ),\n",
    "    RankedPairs AS (\n",
    "        SELECT\n",
    "            *,\n",
    "            ROW_NUMBER() OVER(PARTITION BY doc_id, compared_is_taxonomy ORDER BY similarity DESC) AS rank\n",
    "        FROM\n",
    "            DocumentPairs\n",
    "    ), FilteredPairs1 as (\n",
    "        SELECT\n",
    "            doc_id,\n",
    "            compared_doc_id,\n",
    "            compared_is_taxonomy,\n",
    "            similarity\n",
    "        FROM\n",
    "            RankedPairs\n",
    "        WHERE\n",
    "            rank = 1 AND\n",
    "            ((compared_is_taxonomy = FALSE AND similarity > 0.6) OR compared_is_taxonomy = TRUE)\n",
    "    ), FilteredPairs2 as (\n",
    "        SELECT\n",
    "            doc_id,\n",
    "            MAX(compared_doc_id) AS compared_doc_id,\n",
    "            MAX(similarity) AS similarity\n",
    "        FROM\n",
    "            FilteredPairs1\n",
    "        group by doc_id\n",
    "    )\n",
    "    INSERT INTO edges (parent_id, child_id, weight)\n",
    "    SELECT\n",
    "        doc_id,\n",
    "        compared_doc_id,\n",
    "        1-similarity\n",
    "    FROM\n",
    "        FilteredPairs2;\n",
    "\"\"\")"
   ]
  },
  {
   "cell_type": "code",
   "execution_count": 202,
   "metadata": {},
   "outputs": [
    {
     "data": {
      "text/plain": [
       "<psycopg.Cursor [COMMAND_OK] [IDLE] (host=localhost port=5433 database=enclaveid) at 0x7f63fbfbca10>"
      ]
     },
     "execution_count": 202,
     "metadata": {},
     "output_type": "execute_result"
    }
   ],
   "source": [
    "create_dag()"
   ]
  },
  {
   "cell_type": "code",
   "execution_count": 203,
   "metadata": {},
   "outputs": [],
   "source": [
    "import matplotlib.pyplot as plt\n",
    "import matplotlib.colors as mcolors\n",
    "from datetime import datetime\n",
    "\n",
    "min_datetime = conn.execute(\n",
    "    \"SELECT MIN(CAST(date || ' ' || time AS TIMESTAMP)) FROM documents WHERE NOT is_taxonomy\"\n",
    ").fetchone()[0]\n",
    "max_datetime = conn.execute(\n",
    "    \"SELECT MAX(CAST(date || ' ' || time AS TIMESTAMP)) FROM documents WHERE NOT is_taxonomy\"\n",
    ").fetchone()[0]\n",
    "\n",
    "def get_node_color(date, time_end):\n",
    "    if time_end == 'None':\n",
    "        time_end = \"00:00:00\"   \n",
    "    # convert the dates to datetime objects\n",
    "    date = datetime.strptime(f\"{date} {time_end}\", \"%Y-%m-%d %H:%M:%S\").timestamp()\n",
    "\n",
    "\n",
    "    cmap = plt.get_cmap('coolwarm')  # Choose a colormap\n",
    "    norm = mcolors.Normalize(vmin=min_datetime.timestamp(), vmax=max_datetime.timestamp())  # Normalize the dates\n",
    "\n",
    "    # Convert the date to a float value between 0 and 1\n",
    "    date_value = norm(date)\n",
    "\n",
    "    # Get the corresponding color from the colormap\n",
    "    color = cmap(date_value)\n",
    "\n",
    "    # Convert the color to a hex value\n",
    "    return mcolors.to_hex(color)\n"
   ]
  },
  {
   "cell_type": "code",
   "execution_count": 210,
   "metadata": {},
   "outputs": [],
   "source": [
    "import networkx as nx\n",
    "import matplotlib.pyplot as plt\n",
    "\n",
    "# Create a new directed graph\n",
    "dag = nx.DiGraph()\n",
    "\n",
    "# Add nodes to the graph\n",
    "for row in conn.execute(\"SELECT id, description, date, time, is_taxonomy, raw FROM documents\"):\n",
    "    if row[4]:\n",
    "        dag.add_node(row[0], label=str(row[5]), title=row[1], color=\"#00FF00\")\n",
    "    else:\n",
    "        dag.add_node(row[0], label=str(row[5]), title=row[1], color=get_node_color(str(row[2]), str(row[3])))"
   ]
  },
  {
   "cell_type": "code",
   "execution_count": 211,
   "metadata": {},
   "outputs": [],
   "source": [
    "# Add edges to the graph\n",
    "for row in conn.execute(\"\"\"\n",
    "                        SELECT parent_id, child_id, weight FROM edges\n",
    "                        \"\"\"): #WHERE parent_id IS NOT NULL\n",
    "    parent_id, child_id, weight = row\n",
    "    dag.add_edge(parent_id, child_id, weight=weight)"
   ]
  },
  {
   "cell_type": "code",
   "execution_count": 212,
   "metadata": {},
   "outputs": [],
   "source": [
    "is_dag = nx.is_directed_acyclic_graph(dag)\n",
    "\n",
    "if not is_dag:\n",
    "    print(list(nx.simple_cycles(dag)))\n",
    "\n",
    "for layer, nodes in enumerate(nx.topological_generations(dag)):\n",
    "    # `multipartite_layout` expects the layer as a node attribute, so add the\n",
    "    # numeric layer value as a node attribute\n",
    "    for node in nodes:\n",
    "        dag.nodes[node][\"layer\"] = layer"
   ]
  },
  {
   "cell_type": "code",
   "execution_count": 213,
   "metadata": {},
   "outputs": [],
   "source": [
    "nx.write_graphml(dag, \"../_data/dag_multi.graphml\") # for graphia"
   ]
  }
 ],
 "metadata": {
  "kernelspec": {
   "display_name": "Python 3",
   "language": "python",
   "name": "python3"
  },
  "language_info": {
   "codemirror_mode": {
    "name": "ipython",
    "version": 3
   },
   "file_extension": ".py",
   "mimetype": "text/x-python",
   "name": "python",
   "nbconvert_exporter": "python",
   "pygments_lexer": "ipython3",
   "version": "3.12.1"
  }
 },
 "nbformat": 4,
 "nbformat_minor": 2
}
